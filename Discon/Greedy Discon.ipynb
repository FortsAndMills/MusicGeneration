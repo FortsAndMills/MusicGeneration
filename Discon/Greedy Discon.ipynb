{
 "cells": [
  {
   "cell_type": "code",
   "execution_count": 1,
   "metadata": {
    "collapsed": true
   },
   "outputs": [],
   "source": [
    "from songs import *"
   ]
  },
  {
   "cell_type": "markdown",
   "metadata": {},
   "source": [
    "# ОКИ"
   ]
  },
  {
   "cell_type": "code",
   "execution_count": 2,
   "metadata": {
    "collapsed": true
   },
   "outputs": [],
   "source": [
    "from numpy import random"
   ]
  },
  {
   "cell_type": "code",
   "execution_count": 3,
   "metadata": {
    "collapsed": true
   },
   "outputs": [],
   "source": [
    "MEMORY_TIMES = 64\n",
    "STARTER = 8\n",
    "\n",
    "ADDITIONAL_MEMORY = 8\n",
    "\n",
    "MEMORY_SIZE = MEMORY_TIMES * 13 + ADDITIONAL_MEMORY"
   ]
  },
  {
   "cell_type": "code",
   "execution_count": 4,
   "metadata": {
    "collapsed": true
   },
   "outputs": [],
   "source": [
    "NAMES = []\n",
    "for i in range(8):\n",
    "    NAMES.append(\"[tb\" + str(i) + \"]\")\n",
    "for t in range(-MEMORY_TIMES, 0):\n",
    "    for note_name in [\"C\", \"C#\", \"D\", \"D#\", \"E\", \"F\", \"F#\", \"G\", \"G#\", \"A\", \"A#\", \"B\", \"C^\"]:\n",
    "        NAMES.append(note_name + str(t))"
   ]
  },
  {
   "cell_type": "code",
   "execution_count": 5,
   "metadata": {
    "collapsed": true
   },
   "outputs": [],
   "source": [
    "class Func:\n",
    "    def __init__(self, Random):\n",
    "        self.operations = [\"conj\"]\n",
    "        self.operands = np.zeros((1, MEMORY_SIZE))\n",
    "        self.support_variables = [[]]\n",
    "        self.cnt_nonzero = [0]\n",
    "        self.final_decision_operation = 0\n",
    "        self.Random = Random\n",
    "        \n",
    "    def apply(self, x):\n",
    "        ans = 1\n",
    "        self.final_decision_operation = -1\n",
    "        \n",
    "        vals = self.operands.dot(x) == self.cnt_nonzero\n",
    "        \n",
    "        for index, oper, val in zip(range(len(self.operations)), self.operations, vals):\n",
    "            if oper == \"conj\" and val:\n",
    "                ans = 0\n",
    "                self.final_decision_operation = index\n",
    "            if oper == \"disj\" and val:\n",
    "                ans = 1\n",
    "                self.final_decision_operation = index\n",
    "        return ans\n",
    "    \n",
    "    def reward(self, memory):\n",
    "        self.support_variables[self.final_decision_operation].append(frozenset(memory.nonzero()[0]))\n",
    "    \n",
    "    def add(self, operation, memory, where_to_put):        \n",
    "        impulses = memory.nonzero()[0]\n",
    "        self.Random.shuffle(impulses) \n",
    "                \n",
    "        cut = 1\n",
    "        problem = -1\n",
    "        for i in range(where_to_put):\n",
    "            if self.operations[i] != operation:\n",
    "                for support_point in self.support_variables[i]:\n",
    "                    while cut <= len(impulses) and set(impulses[:cut]).issubset(support_point):\n",
    "                        cut += 1\n",
    "                    \n",
    "                    if cut > len(impulses) and set(impulses).issubset(support_point):\n",
    "                        cut = len(impulses)\n",
    "                        problem = i\n",
    "                        break\n",
    "                if problem != -1:\n",
    "                    return#break\n",
    "        \n",
    "        '''\n",
    "        if problem != -1:\n",
    "            while where_to_put != problem:\n",
    "                where_to_put -= 1\n",
    "                \n",
    "                common_set = set(self.support_variables[where_to_put][0])\n",
    "                for support_point in self.support_variables[where_to_put]:\n",
    "                    common_set = common_set & support_point\n",
    "                \n",
    "                while frozenset(self.operands[where_to_put].nonzero()[0]).issubset(set(impulses)):\n",
    "                    if len(common_set) == 0:\n",
    "                        print(\"Deadlock :(\")\n",
    "                        return\n",
    "\n",
    "                    new_item = self.Random.choice(list(common_set))\n",
    "                    common_set.remove(new_item)\n",
    "                    self.operands[where_to_put][new_item] = 1\n",
    "                    self.cnt_nonzero[where_to_put] += 1\n",
    "            print(\"problem was solved!\")\n",
    "        '''\n",
    "        \n",
    "        mask = np.zeros((MEMORY_SIZE))\n",
    "        for var in impulses[:cut]:\n",
    "            mask[var] = 1            \n",
    "        \n",
    "        self.operations.insert(where_to_put, operation)\n",
    "        self.support_variables.insert(where_to_put, [frozenset(impulses)])        \n",
    "        self.operands = np.vstack([self.operands[:where_to_put], mask, self.operands[where_to_put:]])\n",
    "                                  \n",
    "        self.cnt_nonzero.insert(where_to_put, np.count_nonzero(mask))\n",
    "    \n",
    "    def print(self):\n",
    "        print(\"0\", end=\"\")\n",
    "        for oper, new_operand in zip(self.operations[1:], self.operands[1:]):\n",
    "            if oper == \"conj\":\n",
    "                print(\" ∧ not\", end=\"\")\n",
    "            if oper == \"disj\":\n",
    "                print(\" ∨ \", end=\"\")\n",
    "            for i in range(MEMORY_SIZE):\n",
    "                if new_operand[i]:\n",
    "                    print(NAMES[i], end=\"\")\n",
    "        print(\"\")"
   ]
  },
  {
   "cell_type": "code",
   "execution_count": 6,
   "metadata": {
    "collapsed": true
   },
   "outputs": [],
   "source": [
    "class Player:\n",
    "    def __init__(self):\n",
    "        self.Random = np.random.RandomState(seed=179)\n",
    "        self.play_note = [Func(self.Random) for i in range(13)]\n",
    "        \n",
    "    def play(self, memory):\n",
    "        return np.array([self.play_note[i].apply(memory) for i in range(13)], dtype=int)\n",
    "    \n",
    "    def learn_to_play(self, song_to_learn, verbose=False):\n",
    "        memory = np.zeros((MEMORY_SIZE), dtype=int)\n",
    "        memory[-STARTER*13:] = song_to_learn.notes[:STARTER].flatten()\n",
    "\n",
    "        t = STARTER\n",
    "        memory[t % 8] = 1\n",
    "        errors = 0\n",
    "\n",
    "        while t < len(song_to_learn.notes):    \n",
    "            output = self.play(memory)\n",
    "            \n",
    "            if verbose:\n",
    "                print(output)\n",
    "\n",
    "            for note in range(13):    \n",
    "                if output[note] != song_to_learn.notes[t][note] or self.play_note[note].final_decision_operation == 0:\n",
    "                    if song_to_learn.notes[t][note] == 1:\n",
    "                        errors += 1\n",
    "                        self.play_note[note].add(\"disj\", memory, self.play_note[note].final_decision_operation + 1)\n",
    "                        if verbose:\n",
    "                            print(\"note \" + str(note) + \" should be pushed!\")\n",
    "                    if song_to_learn.notes[t][note] == 0:\n",
    "                        errors += 1\n",
    "                        self.play_note[note].add(\"conj\", memory, self.play_note[note].final_decision_operation + 1)\n",
    "                        if verbose:                            \n",
    "                            print(\"note \" + str(note) + \" should not be pushed!\")\n",
    "                else:\n",
    "                    self.play_note[note].reward(memory)\n",
    "                \n",
    "\n",
    "            memory = np.concatenate([np.zeros((ADDITIONAL_MEMORY)), memory[ADDITIONAL_MEMORY + 13:], song_to_learn.notes[t]])\n",
    "            t += 1\n",
    "            memory[t % 8] = 1\n",
    "        \n",
    "        if verbose:\n",
    "            print(\"Num of Errors: \", errors)\n",
    "        return errors\n",
    "    \n",
    "    def improvise(self, starter, length=128):\n",
    "        memory = np.zeros((MEMORY_SIZE), dtype=int)\n",
    "        memory[-STARTER*13:] = starter.notes[:STARTER].flatten()\n",
    "\n",
    "        result = MySong(starter.notes[:STARTER])\n",
    "        \n",
    "        t = STARTER\n",
    "        memory[t % 8] = 1\n",
    "        while t < length:    \n",
    "            output = player.play(memory)\n",
    "            result.add(output)\n",
    "\n",
    "            memory = np.concatenate([np.zeros((ADDITIONAL_MEMORY)), memory[ADDITIONAL_MEMORY + 13:], output])\n",
    "            t += 1\n",
    "            memory[t % 8] = 1\n",
    "        result.finish()\n",
    "        \n",
    "        return result"
   ]
  },
  {
   "cell_type": "markdown",
   "metadata": {},
   "source": [
    "## Обучение\n",
    "\n",
    "Создаём нового игрока и грузим пока кузнечика"
   ]
  },
  {
   "cell_type": "code",
   "execution_count": 7,
   "metadata": {
    "collapsed": true
   },
   "outputs": [],
   "source": [
    "player = Player()"
   ]
  },
  {
   "cell_type": "code",
   "execution_count": 8,
   "metadata": {
    "collapsed": true,
    "scrolled": true
   },
   "outputs": [],
   "source": [
    "kuznechik = Song('test/track (1).mid')"
   ]
  },
  {
   "cell_type": "markdown",
   "metadata": {},
   "source": [
    "Учим игрока играть кузнечика без ошибок. Ого, за одну итерацию!"
   ]
  },
  {
   "cell_type": "code",
   "execution_count": 9,
   "metadata": {},
   "outputs": [
    {
     "name": "stdout",
     "output_type": "stream",
     "text": [
      "362\n",
      "0\n"
     ]
    }
   ],
   "source": [
    "errors = -1\n",
    "while errors != 0:\n",
    "    errors = player.learn_to_play(kuznechik)\n",
    "    print(errors)"
   ]
  },
  {
   "cell_type": "markdown",
   "metadata": {},
   "source": [
    "Проверим, что всё окей. Подадим на вход начало кузнечика, а дальше пусть играет сам (память занимается тем, что игрок сам нажимает на рояле). Поскольку так заданы правила, кузнечик будет воспроизведён точно"
   ]
  },
  {
   "cell_type": "code",
   "execution_count": null,
   "metadata": {},
   "outputs": [],
   "source": [
    "player.improvise(kuznechik).play()"
   ]
  },
  {
   "cell_type": "markdown",
   "metadata": {},
   "source": [
    "Вот как выглядит его булево правило:"
   ]
  },
  {
   "cell_type": "code",
   "execution_count": 22,
   "metadata": {},
   "outputs": [
    {
     "name": "stdout",
     "output_type": "stream",
     "text": [
      "0 ∧ notG#-30 ∧ notG#-34 ∧ notC^-3 ∧ notG#-53 ∧ notE-53 ∧ notA-55 ∧ notG#-17 ∧ notE-5 ∨ E-4 ∧ notE-18 ∧ not[tb3] ∨ [tb2] ∧ notC^-2 ∧ notE-24A-22G#-6 ∧ notG#-5 ∧ notA-6 ∧ notA-3 ∧ notA-2 ∧ notA-9 ∧ notA-8 ∨ A-34 ∧ notB-54 ∧ notA-34C^-16 ∧ notB-6 ∧ notA-44A-6 ∧ notE-48A-26G#-14 ∧ not[tb4] ∧ notE-8\n"
     ]
    }
   ],
   "source": [
    "player.play_note[4].print()"
   ]
  },
  {
   "cell_type": "markdown",
   "metadata": {},
   "source": [
    "Окей, чтобы услышать что-то новое, нужно другое начало. Возьмём его из другой песенки"
   ]
  },
  {
   "cell_type": "code",
   "execution_count": 23,
   "metadata": {
    "collapsed": true
   },
   "outputs": [],
   "source": [
    "simple_song = Song('test/track (2).mid')\n",
    "result = player.improvise(simple_song)"
   ]
  },
  {
   "cell_type": "markdown",
   "metadata": {},
   "source": [
    "Первый шедевр:"
   ]
  },
  {
   "cell_type": "code",
   "execution_count": 24,
   "metadata": {
    "collapsed": true
   },
   "outputs": [],
   "source": [
    "result.play()"
   ]
  },
  {
   "cell_type": "markdown",
   "metadata": {},
   "source": [
    "Всё, пора брать все песенки!"
   ]
  },
  {
   "cell_type": "code",
   "execution_count": 25,
   "metadata": {
    "collapsed": true
   },
   "outputs": [],
   "source": [
    "player = Player()"
   ]
  },
  {
   "cell_type": "code",
   "execution_count": 26,
   "metadata": {
    "collapsed": true
   },
   "outputs": [],
   "source": [
    "def addAllTransposedVersions(Songs, song):\n",
    "    while song.transpose(1):\n",
    "        pass\n",
    "\n",
    "    Songs.append(copy.deepcopy(song))\n",
    "    while song.transpose(-1):\n",
    "        Songs.append(copy.deepcopy(song))"
   ]
  },
  {
   "cell_type": "code",
   "execution_count": 27,
   "metadata": {},
   "outputs": [
    {
     "name": "stdout",
     "output_type": "stream",
     "text": [
      "ERROR! out of range!\n",
      "ERROR! out of range!\n",
      "ERROR! out of range!\n"
     ]
    }
   ],
   "source": [
    "Songs = []\n",
    "for i in range(1, 35):\n",
    "    addAllTransposedVersions(Songs, Song('test/track (' + str(i) + ').mid'))"
   ]
  },
  {
   "cell_type": "code",
   "execution_count": 28,
   "metadata": {
    "collapsed": true
   },
   "outputs": [],
   "source": [
    "import random\n",
    "random.shuffle(Songs)"
   ]
  },
  {
   "cell_type": "code",
   "execution_count": null,
   "metadata": {
    "scrolled": true
   },
   "outputs": [],
   "source": [
    "for song in Songs:\n",
    "    errors = player.learn_to_play(song)\n",
    "    print(errors)"
   ]
  },
  {
   "cell_type": "code",
   "execution_count": 33,
   "metadata": {
    "collapsed": true
   },
   "outputs": [],
   "source": [
    "simple_song = Song('test/whomadethis.mid')\n",
    "result = player.improvise(simple_song)\n",
    "result.play()"
   ]
  },
  {
   "cell_type": "markdown",
   "metadata": {},
   "source": [
    "Можно подставить своё какое-нибудь начало:"
   ]
  },
  {
   "cell_type": "code",
   "execution_count": 34,
   "metadata": {
    "collapsed": true
   },
   "outputs": [],
   "source": [
    "simple_song = Song([0, -1, 5, -1, 4, -1, 5, -1])\n",
    "result = player.improvise(simple_song)\n",
    "result.play()"
   ]
  },
  {
   "cell_type": "code",
   "execution_count": 44,
   "metadata": {
    "collapsed": true
   },
   "outputs": [],
   "source": [
    "result.save_file(\"31 transposed songs greedy-conj-disj tb no zero support points [C-F-E-F]\")"
   ]
  }
 ],
 "metadata": {
  "kernelspec": {
   "display_name": "Python 3",
   "language": "python",
   "name": "python3"
  },
  "language_info": {
   "codemirror_mode": {
    "name": "ipython",
    "version": 3
   },
   "file_extension": ".py",
   "mimetype": "text/x-python",
   "name": "python",
   "nbconvert_exporter": "python",
   "pygments_lexer": "ipython3",
   "version": "3.6.1"
  }
 },
 "nbformat": 4,
 "nbformat_minor": 2
}
