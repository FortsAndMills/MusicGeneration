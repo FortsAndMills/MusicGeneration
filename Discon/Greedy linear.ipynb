{
 "cells": [
  {
   "cell_type": "code",
   "execution_count": 7,
   "metadata": {
    "collapsed": true
   },
   "outputs": [],
   "source": [
    "from songs import *"
   ]
  },
  {
   "cell_type": "code",
   "execution_count": 8,
   "metadata": {
    "collapsed": true
   },
   "outputs": [],
   "source": [
    "from numpy import random"
   ]
  },
  {
   "cell_type": "code",
   "execution_count": 9,
   "metadata": {
    "collapsed": true
   },
   "outputs": [],
   "source": [
    "MEMORY_TIMES = 64\n",
    "STARTER = 8\n",
    "\n",
    "ADDITIONAL_MEMORY = 8\n",
    "\n",
    "MEMORY_SIZE = MEMORY_TIMES * 13 + ADDITIONAL_MEMORY"
   ]
  },
  {
   "cell_type": "code",
   "execution_count": 10,
   "metadata": {
    "collapsed": true
   },
   "outputs": [],
   "source": [
    "NAMES = []\n",
    "for i in range(8):\n",
    "    NAMES.append(\"[tb\" + str(i) + \"]\")\n",
    "for t in range(-MEMORY_TIMES, 0):\n",
    "    for note_name in [\"C\", \"C#\", \"D\", \"D#\", \"E\", \"F\", \"F#\", \"G\", \"G#\", \"A\", \"A#\", \"B\", \"C^\"]:\n",
    "        NAMES.append(note_name + str(t))"
   ]
  },
  {
   "cell_type": "code",
   "execution_count": 11,
   "metadata": {
    "collapsed": true
   },
   "outputs": [],
   "source": [
    "class Func:\n",
    "    def __init__(self, Random):\n",
    "        self.operations = [\"conj\"]\n",
    "        self.operands = np.zeros((1, MEMORY_SIZE))\n",
    "        self.support_variables = [[]]\n",
    "        self.threshold = [0]\n",
    "        self.final_decision_operation = 0\n",
    "        self.Random = Random\n",
    "        \n",
    "    def apply(self, x):\n",
    "        ans = 1\n",
    "        self.final_decision_operation = -1\n",
    "        \n",
    "        vals = self.operands.dot(x) >= self.threshold\n",
    "        \n",
    "        for index, oper, val in zip(range(len(self.operations)), self.operations, vals):\n",
    "            if oper == \"conj\" and val:\n",
    "                ans = 0\n",
    "                self.final_decision_operation = index\n",
    "            if oper == \"disj\" and val:\n",
    "                ans = 1\n",
    "                self.final_decision_operation = index\n",
    "        return ans\n",
    "    \n",
    "    def reward(self, memory):   \n",
    "        self.support_variables[self.final_decision_operation].append(memory)\n",
    "    \n",
    "    def add(self, operation, memory, where_to_put):                      \n",
    "        t = 1\n",
    "        for i in range(where_to_put):\n",
    "            if self.operations[i] != operation:\n",
    "                for support_point in self.support_variables[i]:\n",
    "                    t = max(t, support_point.dot(memory) + 1)          \n",
    "        \n",
    "        self.operations.insert(where_to_put, operation)\n",
    "        self.support_variables.insert(where_to_put, [memory])        \n",
    "        self.operands = np.vstack([self.operands[:where_to_put], memory, self.operands[where_to_put:]])\n",
    "                                  \n",
    "        self.threshold.insert(where_to_put, t)\n",
    "    \n",
    "    def print(self):\n",
    "        print(\"0\", end=\"\")\n",
    "        for oper, new_operand, t in zip(self.operations[1:], self.operands[1:], self.threshold[1:]):\n",
    "            if oper == \"conj\":\n",
    "                print(\" ∧ not\", end=\"\")\n",
    "            if oper == \"disj\":\n",
    "                print(\" ∨ \", end=\"\")\n",
    "            for i in range(MEMORY_SIZE):\n",
    "                if new_operand[i]:\n",
    "                    print(NAMES[i], end=\"\")\n",
    "            print(\"(\", t, \")\")\n",
    "        print(\"\")"
   ]
  },
  {
   "cell_type": "code",
   "execution_count": 12,
   "metadata": {
    "collapsed": true
   },
   "outputs": [],
   "source": [
    "class Player:\n",
    "    def __init__(self):\n",
    "        self.Random = np.random.RandomState(seed=179)\n",
    "        self.play_note = [Func(self.Random) for i in range(13)]\n",
    "        \n",
    "    def play(self, memory):\n",
    "        return np.array([self.play_note[i].apply(memory) for i in range(13)], dtype=int)\n",
    "    \n",
    "    def learn_to_play(self, song_to_learn, verbose=False):\n",
    "        memory = np.zeros((MEMORY_SIZE), dtype=int)\n",
    "        memory[-STARTER*13:] = song_to_learn.notes[:STARTER].flatten()\n",
    "\n",
    "        t = STARTER\n",
    "        memory[t % 8] = 1\n",
    "        errors = 0\n",
    "\n",
    "        while t < len(song_to_learn.notes):    \n",
    "            output = self.play(memory)\n",
    "            \n",
    "            if verbose:\n",
    "                print(output)\n",
    "\n",
    "            for note in range(13):    \n",
    "                if output[note] != song_to_learn.notes[t][note] or self.play_note[note].final_decision_operation == 0:\n",
    "                    if song_to_learn.notes[t][note] == 1:\n",
    "                        errors += 1\n",
    "                        self.play_note[note].add(\"disj\", memory, self.play_note[note].final_decision_operation + 1)\n",
    "                        if verbose:\n",
    "                            print(\"note \" + str(note) + \" should be pushed!\")\n",
    "                    if song_to_learn.notes[t][note] == 0:\n",
    "                        errors += 1\n",
    "                        self.play_note[note].add(\"conj\", memory, self.play_note[note].final_decision_operation + 1)\n",
    "                        if verbose:                            \n",
    "                            print(\"note \" + str(note) + \" should not be pushed!\")\n",
    "                else:\n",
    "                    self.play_note[note].reward(memory)\n",
    "                \n",
    "\n",
    "            memory = np.concatenate([np.zeros((ADDITIONAL_MEMORY)), memory[ADDITIONAL_MEMORY + 13:], song_to_learn.notes[t]])\n",
    "            t += 1\n",
    "            memory[t % 8] = 1\n",
    "        \n",
    "        if verbose:\n",
    "            print(\"Num of Errors: \", errors)\n",
    "        return errors\n",
    "    \n",
    "    def improvise(self, starter, length=128):\n",
    "        memory = np.zeros((MEMORY_SIZE), dtype=int)\n",
    "        memory[-STARTER*13:] = starter.notes[:STARTER].flatten()\n",
    "\n",
    "        result = MySong(starter.notes[:STARTER])\n",
    "        \n",
    "        t = STARTER\n",
    "        memory[t % 8] = 1\n",
    "        while t < length:    \n",
    "            output = player.play(memory)\n",
    "            result.add(output)\n",
    "\n",
    "            memory = np.concatenate([np.zeros((ADDITIONAL_MEMORY)), memory[ADDITIONAL_MEMORY + 13:], output])\n",
    "            t += 1\n",
    "            memory[t % 8] = 1\n",
    "        result.finish()\n",
    "        \n",
    "        return result"
   ]
  },
  {
   "cell_type": "markdown",
   "metadata": {},
   "source": [
    "## Обучение\n",
    "\n",
    "Создаём нового игрока и грузим пока кузнечика"
   ]
  },
  {
   "cell_type": "code",
   "execution_count": 13,
   "metadata": {},
   "outputs": [],
   "source": [
    "player = Player()"
   ]
  },
  {
   "cell_type": "code",
   "execution_count": 14,
   "metadata": {
    "collapsed": true,
    "scrolled": true
   },
   "outputs": [],
   "source": [
    "kuznechik = Song('basic midi/track (1).mid')"
   ]
  },
  {
   "cell_type": "markdown",
   "metadata": {},
   "source": [
    "Учим игрока играть кузнечика без ошибок."
   ]
  },
  {
   "cell_type": "code",
   "execution_count": 15,
   "metadata": {},
   "outputs": [
    {
     "name": "stdout",
     "output_type": "stream",
     "text": [
      "134\n",
      "0\n"
     ]
    }
   ],
   "source": [
    "errors = -1\n",
    "while errors != 0:\n",
    "    errors = player.learn_to_play(kuznechik)\n",
    "    print(errors)"
   ]
  },
  {
   "cell_type": "markdown",
   "metadata": {},
   "source": [
    "Проверим, что всё окей."
   ]
  },
  {
   "cell_type": "code",
   "execution_count": null,
   "metadata": {},
   "outputs": [],
   "source": [
    "player.improvise(kuznechik).play()"
   ]
  },
  {
   "cell_type": "markdown",
   "metadata": {},
   "source": [
    "Вот как выглядит его булево правило (в скобках - пороги):"
   ]
  },
  {
   "cell_type": "code",
   "execution_count": 17,
   "metadata": {},
   "outputs": [
    {
     "name": "stdout",
     "output_type": "stream",
     "text": [
      "0 ∧ not[tb5]E-63G#-61A-59A-57A-53E-51A-49E-47A-45G#-43G#-41G#-37E-35G#-33E-31G#-29A-27A-21B-19B-17B-16B-15B-13C^-11C^-9C^-8C^-7C^-5C^-3B-1( 1 )\n",
      " ∧ not[tb4]G#-64G#-60E-58G#-56E-54G#-52A-50A-48A-44E-42A-40E-38A-36G#-34G#-32G#-28E-26G#-24E-22G#-20A-18A-12B-10B-8B-7B-6B-4C^-2( 1 )\n",
      " ∧ not[tb3]A-11E-9A-7E-5A-3G#-1( 1 )\n",
      " ∧ not[tb2]A-10E-8A-6E-4A-2( 1 )\n",
      " ∨ [tb2]A-18E-16A-14E-12A-10G#-8G#-6G#-2( 5.0 )\n",
      " ∧ not[tb6]A-46E-44A-42E-40A-38G#-36G#-34G#-30E-28G#-26E-24G#-22A-20A-18A-14E-12A-10E-8A-6G#-4G#-2( 6.0 )\n",
      " ∨ [tb2]A-50E-48A-46E-44A-42G#-40G#-38G#-34E-32G#-30E-28G#-26A-24A-22A-18E-16A-14E-12A-10G#-8G#-6G#-2( 13.0 )\n",
      " ∧ not[tb2]E-64G#-62E-60G#-58A-56A-54A-50E-48A-46E-44A-42G#-40G#-38G#-34E-32G#-30E-28G#-26A-24A-18B-16B-14B-13B-12B-10C^-8C^-6C^-5C^-4C^-2( 16.0 )\n",
      " ∧ not[tb1]A-9E-7A-5E-3A-1( 1 )\n",
      " ∧ not[tb0]A-8E-6A-4E-2( 1 )\n",
      " ∨ [tb2]A-34E-32A-30E-28A-26G#-24G#-22G#-18E-16G#-14E-12G#-10A-8A-6A-2( 9.0 )\n",
      " ∧ not[tb2]E-64A-62E-60A-58G#-56G#-54G#-50E-48G#-46E-44G#-42A-40A-38A-34E-32A-30E-28A-26G#-24G#-22G#-18E-16G#-14E-12G#-10A-8A-2( 16.0 )\n",
      "\n"
     ]
    }
   ],
   "source": [
    "player.play_note[4].print()"
   ]
  },
  {
   "cell_type": "markdown",
   "metadata": {},
   "source": [
    "Окей, чтобы услышать что-то новое, нужно другое начало. Возьмём его из другой песенки"
   ]
  },
  {
   "cell_type": "code",
   "execution_count": 27,
   "metadata": {
    "collapsed": true
   },
   "outputs": [],
   "source": [
    "simple_song = Song('test/track (2).mid')\n",
    "result = player.improvise(simple_song)"
   ]
  },
  {
   "cell_type": "markdown",
   "metadata": {},
   "source": [
    "Первый шедевр:"
   ]
  },
  {
   "cell_type": "code",
   "execution_count": 28,
   "metadata": {
    "collapsed": true
   },
   "outputs": [],
   "source": [
    "result.play()"
   ]
  },
  {
   "cell_type": "markdown",
   "metadata": {},
   "source": [
    "Хватаем все песни!"
   ]
  },
  {
   "cell_type": "code",
   "execution_count": 39,
   "metadata": {
    "collapsed": true
   },
   "outputs": [],
   "source": [
    "player = Player()"
   ]
  },
  {
   "cell_type": "code",
   "execution_count": 40,
   "metadata": {
    "collapsed": true
   },
   "outputs": [],
   "source": [
    "def addAllTransposedVersions(Songs, song):\n",
    "    while song.transpose(1):\n",
    "        pass\n",
    "\n",
    "    Songs.append(copy.deepcopy(song))\n",
    "    while song.transpose(-1):\n",
    "        Songs.append(copy.deepcopy(song))"
   ]
  },
  {
   "cell_type": "code",
   "execution_count": 41,
   "metadata": {},
   "outputs": [
    {
     "name": "stdout",
     "output_type": "stream",
     "text": [
      "ERROR! out of range!\n",
      "ERROR! out of range!\n",
      "ERROR! out of range!\n"
     ]
    }
   ],
   "source": [
    "Songs = []\n",
    "for i in range(1, 35):\n",
    "    addAllTransposedVersions(Songs, Song('test/track (' + str(i) + ').mid'))"
   ]
  },
  {
   "cell_type": "code",
   "execution_count": 42,
   "metadata": {
    "collapsed": true
   },
   "outputs": [],
   "source": [
    "import random\n",
    "random.shuffle(Songs)"
   ]
  },
  {
   "cell_type": "code",
   "execution_count": 43,
   "metadata": {
    "scrolled": true
   },
   "outputs": [
    {
     "name": "stdout",
     "output_type": "stream",
     "text": [
      "129\n",
      "79\n",
      "72\n",
      "72\n",
      "48\n",
      "58\n",
      "54\n",
      "68\n",
      "54\n",
      "56\n",
      "56\n",
      "60\n",
      "51\n",
      "36\n",
      "46\n",
      "50\n",
      "49\n",
      "53\n",
      "62\n",
      "45\n",
      "52\n",
      "66\n",
      "63\n",
      "59\n",
      "97\n",
      "65\n",
      "55\n",
      "45\n",
      "57\n",
      "76\n",
      "56\n",
      "76\n",
      "60\n",
      "51\n",
      "61\n",
      "50\n",
      "50\n",
      "55\n",
      "44\n",
      "67\n",
      "73\n",
      "80\n",
      "51\n",
      "64\n",
      "55\n",
      "62\n",
      "53\n",
      "53\n",
      "37\n",
      "68\n",
      "40\n",
      "52\n",
      "41\n",
      "54\n",
      "65\n",
      "66\n",
      "54\n",
      "68\n",
      "53\n",
      "52\n",
      "36\n",
      "54\n",
      "49\n",
      "63\n",
      "69\n",
      "100\n",
      "86\n",
      "98\n",
      "75\n"
     ]
    }
   ],
   "source": [
    "for song in Songs:\n",
    "    errors = player.learn_to_play(song)\n",
    "    print(errors)"
   ]
  },
  {
   "cell_type": "code",
   "execution_count": 44,
   "metadata": {
    "collapsed": true
   },
   "outputs": [],
   "source": [
    "simple_song = Song('test/whomadethis.mid')\n",
    "result = player.improvise(simple_song)\n",
    "result.play()"
   ]
  },
  {
   "cell_type": "code",
   "execution_count": 45,
   "metadata": {
    "collapsed": true
   },
   "outputs": [],
   "source": [
    "result.save_file(\"31 transposed songs greedy-linear tb\")"
   ]
  },
  {
   "cell_type": "code",
   "execution_count": 49,
   "metadata": {
    "collapsed": true
   },
   "outputs": [],
   "source": [
    "simple_song = Song([0, -1, 5, -1, 4, -1, 5, -1])\n",
    "result = player.improvise(simple_song)\n",
    "result.play()"
   ]
  },
  {
   "cell_type": "code",
   "execution_count": null,
   "metadata": {},
   "outputs": [],
   "source": [
    "simple_song = Song([0, -1, 5, -1, 4, -1, 7, -1])\n",
    "result = player.improvise(simple_song)\n",
    "result.play()"
   ]
  },
  {
   "cell_type": "code",
   "execution_count": 38,
   "metadata": {},
   "outputs": [
    {
     "name": "stdout",
     "output_type": "stream",
     "text": [
      "0 ∧ not[tb7]C#-63F-61G#-59F-57D#-55F#-53A#-51C-47D#-45F#-43D#-41C#-39F-37G#-35C#-31F-29G#-27F-25D#-23F#-21A#-19F#-17C-15D#-13F#-11D#-9C#-7C#-3( 1 )\n",
      " ∧ not[tb5]C#-61F-59G#-57F-55D#-53F#-51A#-49C-45D#-43F#-41D#-39C#-37F-35G#-33C#-29F-27G#-25F-23D#-21F#-19A#-17F#-15C-13D#-11F#-9D#-7C#-5C#-1( 1 )\n",
      " ∨ [tb5]C-53D-51E-49F-47G-45C^-41A-37F-35C^-33A-31G-29G-25A-21G-19F-17F-15E-13D-11C-9C-7D-5E-3F-1( 10.0 )\n",
      " ∧ not[tb4]C#-60F-58G#-56F-54D#-52F#-50A#-48C-44D#-42F#-40D#-38C#-36F-34G#-32C#-28F-26G#-24F-22D#-20F#-18A#-16F#-14C-12D#-10F#-8D#-6C#-4( 1 )\n",
      " ∨ [tb4]F-12G#-8C-4G-4( 5.0 )\n",
      " ∨ [tb4]D-12E-10F#-8G-6F#-4A-2( 4.0 )\n",
      " ∨ [tb4]G#-12F#-8E-6F#-4G#-2( 4.0 )\n",
      " ∨ [tb4]G-12C^-8G-4( 3.0 )\n",
      " ∧ not[tb4]C-28D-26E-24F-22G-20C^-16A-12F-10C^-8A-6G-4( 5.0 )\n",
      " ∧ not[tb4]G#-28D#-26G#-24D#-22G#-20G-18G-16G-12D#-10G-8D#-6G-4G#-2( 4.0 )\n",
      " ∧ not[tb4]G-12D-8G-4( 4.0 )\n",
      " ∧ not[tb4]G-12C^-10B-8A-6G-4A-2( 4.0 )\n",
      " ∨ [tb4]E-12F#-10G-8A-6B-4( 3.0 )\n",
      " ∧ not[tb4]B-20A-16G-14A-12B-10G-8G-6B-4( 4.0 )\n",
      " ∧ not[tb4]A-44G-42F#-40G-38A-36D-32A-28G-26F#-24G-22A-20D-16A-12F#-10B-8A-6G-4( 4.0 )\n",
      " ∨ [tb4]D-36D-34E-32E-30F#-28F#-26G-24F#-20F#-18E-16E-14D-12D-10D-8D-4D-2( 4.0 )\n",
      " ∧ not[tb4]F-44G#-40C-36G-36E-32F-28G#-24C-20G-20E-16F-12G#-12C^-8D-4A#-4( 6.0 )\n",
      " ∧ not[tb4]D-36D-34B-32G-30D-28D-24D-20A-18F#-16D-14G-12D-4D-2( 6.0 )\n",
      " ∧ not[tb4]D-20D-18B-16G-14D-12D-8D-4A-2( 5.0 )\n",
      " ∧ not[tb4]D-12D-10B-8G-6D-4( 5.0 )\n",
      " ∧ not[tb4]D-44F#-42A-40F#-38E-36G-34B-32C#-28E-26G-24E-22D-20F#-18A-16D-12F#-10A-8F#-6E-4G-2( 5.0 )\n",
      " ∨ [tb4]C#-28A-26G#-24F#-22E-20F#-18G#-16C#-12F#-10E-8D#-6E-4( 6.0 )\n",
      " ∧ not[tb4]D-64G-62C-60C-56C^-52C^-50B-48A-46G-44D-42E-40G-38C-36C-34D-32E-30D-28G-24C^-20C^-18B-16A-14G-12D-10E-8G-6C-4E-2( 5.0 )\n",
      " ∨ [tb4]E-36E-34E-32G#-30B-28B-26B-24G#-22F#-20F#-18B-16A-14G#-12E-8E-4E-2( 7.0 )\n",
      " ∨ [tb4]G-44E-40G-36E-32D-28E-26F-24D-22E-20C-16G-12E-8G-4( 8.0 )\n",
      " ∧ not[tb4]E-64D-60E-58F-56D-54E-52C-48G-44E-40G-36E-32D-28F-26E-24D-22C-20C^-12A-8G-4( 9.0 )\n",
      " ∧ not[tb4]E-64E-62F#-60F#-58G-56F#-52F#-50E-48E-46D-44D-40B-36B-32A-28A-26A-24E-20E-18F#-16E-14D-12D-8B-4( 5.0 )\n",
      " ∨ [tb4]E-44F#-42G-40A-38B-36E-32F#-28A-26G-24F#-22E-20E-12F#-10G-8A-6B-4( 6.0 )\n",
      " ∧ not[tb4]E-60F#-58G-56F#-54G-52E-48G-44A-42B-40A-38B-36B-28A-26G-24F#-22G-20E-16A-12G-10F#-8E-6D-4( 10.0 )\n",
      " ∨ [tb4]C-36D-34E-32F-30E-28G-26D-24E-20G-18D-16D-12E-10C-8C-4D-2( 6.0 )\n",
      " ∧ not[tb4]G-64C^-60B-58A-56G-52A-50G-48F-46E-44D-42C-40C-36E-34G-32E-28G-26A-24C^-20B-18A-16G-14G-12E-10D-8C-4E-2( 7.0 )\n",
      " ∧ not[tb4]C-36C-34D-32D-30E-28E-26F-24E-20E-18D-16D-14C-12C-10C-8C-4C-2( 8.0 )\n",
      " ∧ not[tb4]C-64F-60D-56D-54E-52C-48C-46D-44C-42D-40E-38C-36C-32F-28D-24D-22E-20C-16C-14D-12C-10D-8E-6C-4( 7.0 )\n",
      " ∧ not[tb4]A#-64G-62F-60F-58A#-56G#-54G-52D#-48G-44F-42D#-40D-38C-36D-34D#-32F-30G-28F-26D#-24D-22C-20C-16G-12F-10D#-8D-6C-4D-2( 7.0 )\n",
      " ∧ not[tb4]E-64F-62E-60G-58D-56E-52G-50D-48D-44E-42C-40C-36D-34E-32F-30E-28G-26D-24D-20F-18E-16D-14C-12C-10C-8G-4( 10.0 )\n",
      " ∧ not[tb6]C#-22F-20G#-18F-16D#-14F#-12A#-10C-6D#-4F#-2( 1 )\n",
      " ∨ [tb4]G-36E-32G-28E-24D-20E-18F-16D-14E-12C-8G-4( 9.0 )\n",
      " ∨ [tb4]C-20F-16G-12G#-8G-4( 4.0 )\n",
      " ∧ not[tb4]D#-20D#-18F-16F-14G-12G-10G#-8G-4G-2( 6.0 )\n",
      " ∨ [tb6]B-38A-34G-32A-30B-28G-26G-24B-22A-18G-16A-14B-12G-10G-6F#-2( 8.0 )\n",
      " ∨ [tb4]E-64F-62G-60C^-56A-52F-50C^-48A-46G-44G-40A-36G-34F-32F-30E-28D-26C-24C-22D-20E-18F-16E-15D-14C-12C-4D-2( 10.0 )\n",
      " ∨ [tb4]C#-20A-18G#-16F#-14E-12F#-10G#-8C#-4F#-2( 6.0 )\n",
      " ∨ [tb6]D-22F#-20A-18F#-16E-14G-12B-10C#-6E-4G-2( 5.0 )\n",
      " ∨ [tb4]F-20C-18F-16C-14F-12E-10E-8E-4C-2( 4.0 )\n",
      " ∧ not[tb4]C-36C-34F-32G-28A-26G-24F-22C-20C-18F-16G-12A-10A-8G-6C-4C-2( 5.0 )\n",
      " ∧ not[tb4]F#-36C#-34F#-32C#-30F#-28F-26F-24F-20C#-18F-16C#-14F-12F#-10F#-8F#-4C#-2( 5.0 )\n",
      " ∧ not[tb4]C^-64A-62G-60A-56G-54F-52D-50C-48F-44G-40G-38A-36C^-32A-30G-28A-24G-22F-20D-18C-16F-12E-8D-4( 5.0 )\n",
      " ∨ [tb4]B-44A-40G-38A-36B-34G-32G-30B-28A-24G-22A-20B-18G-16G-12F#-8E-6F#-4G-2( 8.0 )\n",
      " ∧ not[tb6]F-30F-28E-26D-22D-20C-18F-14F-12E-10E-8D-6D-4C-2( 6.0 )\n",
      " ∨ [tb6]E-64D-62D-60D-58D-54D-52E-50E-48F#-46F#-44G-42F#-38F#-36E-34E-32D-30D-26B-22B-18A-14A-12A-10E-6E-4F#-2( 5.0 )\n",
      " ∧ not[tb6]E-38E-36E-34G#-32B-30B-28B-26G#-24F#-22F#-20B-18A-16G#-14E-10E-6E-4E-2( 8.0 )\n",
      " ∧ not[tb6]D-64F#-62G-60G-58G-54D-52G-50D-48G-46F#-44F#-42F#-38D-36F#-34D-32F#-30G-28G-22A-20A-18A-17A-16A-14A#-12A#-10A#-9A#-8A#-6A#-4A-2( 6.0 )\n",
      " ∧ not[tb6]D-62D-60B-58G-56D-54D-50D-46A-44F#-42D-40C-38C-30D-28A-26F#-24D-22D-18D-14A-12F#-10D-8G-6( 6.0 )\n",
      " ∧ not[tb4]D-60D-58B-56G-54D-52D-48D-44A-42F#-40D-38G-36D-28D-26B-24G-22D-20D-16D-12A-10F#-8D-6G-4( 7.0 )\n",
      " ∧ not[tb6]D-54D-52B-50G-48D-46D-42D-38A-36F#-34D-32G-30D-22D-20B-18G-16D-14D-10D-6A-4F#-2( 6.0 )\n",
      " ∧ not[tb6]G-64A-62A-58A#-54G-52G-50G-48A-46F-44F-42A-38G-36F-34E-32D-30D-26D-22E-20F-18G-16A-14A-12A-10C^-6A#-4A-2( 9.0 )\n",
      " ∧ not[tb6]E-64A-62G#-60G#-58G#-54E-52G#-50E-48G#-46A-44A-38B-36B-34B-33B-32B-30C^-28C^-26C^-25C^-24C^-22C^-20B-18A-16G#-14A-12A-10A-6B-4B-2B-1( 7.0 )\n",
      " ∧ not[tb6]E-64G#-62A-60A-58A-54E-52A-50E-48A-46G#-44G#-42G#-38E-36G#-34E-32G#-30A-28A-22B-20B-18B-17B-16B-14C^-12C^-10C^-9C^-8C^-6C^-4B-2( 7.0 )\n",
      " ∧ not[tb6]G#-62E-60G#-58E-56G#-54F#-53G#-52A-51B-50B-48F#-46D#-44F#-42D#-40F#-38E-37F#-36G#-35A-34A-32G#-30E-28G#-26E-24G#-22F#-21G#-20A-19B-18B-16F#-14D#-12F#-10G#-8F#-7E-6E-4E-2( 8.0 )\n",
      " ∧ not[tb6]E-62E-60D-58D-56C-54C-50A-46A-42G-38G-36G-34D-30D-28E-26D-24C-22C-18A-14A-10G-6G-4G-2( 8.0 )\n",
      " ∨ [tb6]D-62F-60E-58D-56C-54C^-46A-42G-38E-32D-30E-28F-26D-24E-22D-20C-18C^-14A-10G-6( 11.0 )\n",
      " ∨ [tb6]D-62E-60F-58D-56E-54C-50G-46E-42G-38E-34D-30F-28E-26D-24C-22C^-14A-10G-6( 12.0 )\n",
      " ∧ not[tb6]F#-64E-62G-60B-58C#-54E-52G-50E-48D-46F#-44A-42D-38F#-36A-34F#-32E-30G-28B-26G-24C#-22E-20G-18E-16D-14D-10E-6G-4B-2( 6.0 )\n",
      " ∨ [tb6]D-54E-52F#-50G-48F#-46A-44E-42F#-38A-36E-34E-30F#-28D-26D-22E-20F#-18G-16F#-14A-12E-10E-6G-4F#-2( 9.0 )\n",
      " ∧ not[tb6]D-62D-60C-58F-54F-52E-50E-48D-46D-44C-42A-38A-36G-34F-30F-28E-26G-22G-20F-18F-16E-14D-12C-10A-6A-4G-2( 6.0 )\n",
      " ∧ not[tb6]E-62F#-60G-58A-56B-54E-50F#-46A-44G-42F#-40E-38E-30F#-28G-26A-24B-22E-18B-14A-12G-10F#-8E-6( 8.0 )\n",
      " ∨ [tb6]E-62F#-60D-58D-54E-52F#-50G-48F#-46A-44E-42E-38G-36F#-34E-32D-30D-28D-26A-22A-18F#-16B-14A-12A-10E-6G-4F#-2( 11.0 )\n",
      " ∧ not[tb6]D-62D-60E-58E-56F#-54F#-52G-50F#-46F#-44E-42E-40D-38D-34B-30B-26A-22A-20A-18E-14E-12F#-10E-8D-6D-2( 6.0 )\n",
      " ∨ [tb6]G-64E-62E-54F#-52G-50F#-48G-46E-42G-38A-36B-34A-32B-30B-22A-20G-18F#-16G-14E-10A-6G-4F#-2( 22.0 )\n",
      " ∨ [tb6]F-64E-62C-58G-54C^-50G-46E-42F-38E-36D-34F-32E-30C-26F-22D-18D-16E-14C-10C-8D-6C-4D-2( 9.0 )\n",
      " ∨ [tb4]G-64A-62B-60E-56F#-52A-50G-48F#-46E-44E-36F#-34G-32A-30B-28E-24B-20A-18G-16F#-14E-12C-4D-2( 12.0 )\n",
      " ∨ [tb6]D-38D-36E-34E-32F#-30F#-28G-26F#-22F#-20E-18E-16D-14D-12D-10D-6D-4E-2( 7.0 )\n",
      " ∧ not[tb6]D-38E-36F#-34G-32F#-30A-28E-26F#-22A-20E-18E-14F#-12D-10D-6E-4F#-2( 8.0 )\n",
      " ∧ not[tb4]D-36E-34F#-32G-30F#-28A-26E-24F#-20A-18E-16E-12F#-10D-8D-4E-2( 8.0 )\n",
      " ∧ not[tb6]D-64C-62C-58A-54A-50G-46G-44G-42D-38D-36E-34D-32C-30C-26A-22A-18G-14G-12G-10D-6D-4E-2( 8.0 )\n",
      " ∧ not[tb6]E-64F#-62F#-60G-58F#-54F#-52E-50E-48D-46D-44D-42D-38D-36E-34E-32F#-30F#-28G-26F#-22F#-20E-18E-16D-14D-10B-6B-2( 15.0 )\n",
      " ∨ [tb4]D-20D-18E-16E-14F#-12F#-10G-8F#-4F#-2( 4.0 )\n",
      " ∧ not[tb4]G-36D-34G-32D-30G-28F#-26F#-24F#-20D-18F#-16D-14F#-12G-10G-8G-4D-2( 6.0 )\n",
      " ∧ not[tb6]G-22D-20G-18D-16G-14F#-12F#-10F#-6D-4F#-2( 5.0 )\n",
      " ∧ not[tb4]G-20D-18G-16D-14G-12F#-10F#-8F#-4D-2( 6.0 )\n",
      " ∧ not[tb4]D-64D-62E-60E-58F-56E-52E-50D-48D-46C-44C-40A-36A-32G-28G-26G-24D-20D-18E-16D-14C-12C-8A-4( 6.0 )\n",
      " ∧ not[tb4]D-36F#-34A-32F#-30E-28G-26B-24C#-20E-18G-16E-14D-12F#-10A-8D-4F#-2( 7.0 )\n",
      " ∧ not[tb4]G-36C^-34B-32A-30G-28A-26G-24F-22E-20D-18C-16E-14G-12G-8G-4C^-2( 8.0 )\n",
      " ∧ not[tb4]E-28F#-26G-24A-22B-20E-16F#-12A-10G-8F#-6E-4( 5.0 )\n",
      " ∨ [tb4]E-44F#-42G-40F#-38G-36E-32G-28A-26B-24A-22B-20B-12A-10G-8F#-6G-4( 10.0 )\n",
      " ∧ not[tb4]D-44D-42E-40E-38F#-36F#-34G-32F#-28F#-26E-24E-22D-20D-18D-16D-12D-10E-8E-6F#-4F#-2( 6.0 )\n",
      " ∨ [tb4]D-44E-42F#-40G-38F#-36A-34E-32F#-28A-26E-24E-20F#-18D-16D-12E-10F#-8G-6F#-4A-2( 9.0 )\n",
      " ∧ not[tb4]E-64F#-60A-58E-56E-52F#-50D-48D-44E-42F#-40G-38F#-36A-34E-32E-28G-26F#-24E-22D-20D-18D-16A-12A-8F#-6B-4A-2( 11.0 )\n",
      " ∨ [tb4]D-52D-50E-48E-46F#-44F#-42G-40F#-36F#-34E-32E-30D-28D-26D-24D-20D-18E-16E-14F#-12F#-10G-8F#-4F#-2( 8.0 )\n",
      " ∨ [tb6]F-64E-62G-60D-58E-54G-52D-50D-46E-44C-42C-38D-36E-34F-32E-30G-28D-26D-22F-20E-18D-16C-14C-12C-10G-6G-2( 10.0 )\n",
      " ∧ not[tb3]C#-11F-9G#-7F-5D#-3F#-1( 1 )\n",
      " ∨ [tb3]G-59C^-57B-55A-53G-51A-49G-47F-45E-43F-41E-39D-37C-35D-33E-31G-27C^-25B-23A-21G-19A-17G-15F-13E-11F-9E-7D-5C-3( 21.0 )\n",
      " ∨ [tb4]E-20C#-18E-16C#-14E-12C#-11E-10F#-9G#-8E-4C#-2( 6.0 )\n",
      " ∧ not[tb2]C#-10F-8G#-6F-4D#-2( 1 )\n",
      " ∨ [tb2]E-34E-32E-30G#-28B-26B-24B-22G#-20F#-18F#-16B-14A-12G#-10E-6E-2( 7.0 )\n",
      " ∨ [tb2]E-64F-62D-60E-58C-54G-50E-46G-42E-38D-34F-32E-30D-28C-26C^-18A-14G-10E-4D-2( 11.0 )\n",
      " ∨ [tb2]F#-64B-62A-60G-58F#-54E-50D#-46E-42E-34D-32C#-30D-28E-26A-22E-18D-16C#-14D-12E-10A-6F#-2( 10.0 )\n",
      " ∧ not[tb2]D#-62E-58E-50D-48C#-46D-44E-42A-38E-34D-32C#-30D-28E-26A-22F#-18E-16C#-14E-12D-10F#-6E-2( 11.0 )\n",
      " ∨ [tb6]E-64F#-62G#-60E-58E-56G#-54F#-50E-48F#-46G#-44E-42E-38D#-34C#-32D#-30E-28C#-26C#-24E-22D#-18C#-16D#-14E-12C#-10G#-6F#-2( 9.0 )\n",
      " ∨ [tb2]G#-42F#-38E-36F#-34G#-32E-30E-28G#-26F#-22E-20F#-18G#-16E-14E-10D#-6C#-4D#-2( 8.0 )\n",
      " ∨ [tb6]G#-22F#-18E-16F#-14G#-12E-10E-8G#-6F#-2( 6.0 )\n",
      " ∧ not[tb6]G#-38F#-34E-32F#-30G#-28E-26E-24G#-22F#-18E-16F#-14G#-12E-10E-6D#-2( 8.0 )\n",
      " ∨ [tb2]A-34E-32A-30E-28A-26G#-24G#-22G#-18E-16G#-14E-12G#-10A-8A-6A-2( 9.0 )\n",
      " ∧ not[tb2]E-64A-62E-60A-58G#-56G#-54G#-50E-48G#-46E-44G#-42A-40A-38A-34E-32A-30E-28A-26G#-24G#-22G#-18E-16G#-14E-12G#-10A-8A-2( 16.0 )\n",
      " ∨ [tb2]A-18E-16A-14E-12A-10G#-8G#-6G#-2( 5.0 )\n",
      " ∨ [tb4]A#-52G#-50G-48G#-46A#-44D#-40A#-36G#-34G-32G#-30A#-28D#-24A#-20G-18C^-16A#-14G#-12G-8F-4( 9.0 )\n",
      " ∧ not[tb4]G-64G#-62A#-60D#-56A#-52G#-50G-48G#-46A#-44D#-40A#-36G-34C^-32A#-30G#-28G-24F-20E-16F-12F-4D#-2( 10.0 )\n",
      " ∨ [tb2]D-64F-62D-60F-58G-57F-56E-55D-54A-50F-48A-46F-44A-42G-41A-40A#-39C^-38C^-36G-34E-32G-30E-28G-26F-25G-24A-23A#-22A#-20A-18F-16A-14F-12A-10G-9A-8A#-7C^-6C^-4G-2( 13.0 )\n",
      " ∨ [tb2]D-64F-62D-60F-58G-57F-56A-55D-54F-50D-48F-46D-44F-42D-41F-40G-39A-38F-34D-32F-30D-28F-26G-25F-24E-23D-22A-18F-16A-14F-12A-10G-9A-8A#-7C^-6C^-4G-2( 20.0 )\n",
      " ∨ [tb4]C#-64G#-60E-58G#-56E-54G#-52F#-51G#-50A-49B-48B-46F#-44D#-42F#-40D#-38F#-36E-35F#-34G#-33A-32A-30G#-28E-26G#-24E-22G#-20F#-19G#-18A-17B-16B-14F#-12D#-10F#-8G#-6F#-5E-4E-2( 11.0 )\n",
      " ∧ not[tb4]G#-64G#-60E-58G#-56E-54G#-52A-50A-48A-44E-42A-40E-38A-36G#-34G#-32G#-28E-26G#-24E-22G#-20A-18A-12B-10B-8B-7B-6B-4C^-2( 12.0 )\n",
      " ∨ [tb2]C#-64E-62C#-60E-58C#-57E-56F#-55G#-54E-50C#-48E-46C#-44E-42F#-41E-40D#-39C#-38G#-34E-32G#-30E-28G#-26F#-25G#-24A-23B-22B-20F#-18D#-16F#-14D#-12F#-10E-9F#-8G#-7A-6A-4G#-2( 9.0 )\n",
      " ∧ not[tb2]D#-62C#-60D#-58E-56C#-54C#-52E-50D#-46C#-44D#-42E-40C#-38G#-34F#-30E-28F#-26G#-24E-22E-20G#-18F#-14E-12F#-10G#-8E-6E-2( 13.0 )\n",
      " ∨ [tb2]E-64G-62C^-58B-56A-54G-50A-48G-46F-44E-42D-40C-38C-34E-32G-30E-26G-24A-22C^-18B-16A-14G-12G-10E-8D-6C-2( 11.0 )\n",
      " ∧ not[tb2]D-64E-62G-58C^-56B-54A-52G-50A-48G-46F-44E-42F-40E-38D-36C-34E-31C-30G-26G-24C^-22B-20A-18G-16E-14G-12C-10E-8D-6G-4E-2( 12.0 )\n",
      " ∨ [tb2]D-64C-62C-58E-56G-54C^-50B-48A-46G-42A-40G-38F-36E-34D-32C-30C-26E-24G-22E-18G-16A-14C^-10B-8A-6G-4G-2( 14.0 )\n",
      " ∧ not[tb2]D-64C-62C-58E-56G-54E-50G-48A-46C^-42B-40A-38G-36G-34E-32D-30C-26E-24G-22E-18G-16A-14C^-10B-8A-6G-4E-2( 18.0 )\n",
      " ∨ [tb2]C-34E-32G-30C^-26B-24A-22G-18A-16G-14F-12E-10D-8C-6C-2( 10.0 )\n",
      " ∨ [tb4]G-64A-60C^-56A-54G-52A-48G-46F-44D-42C-40F-36G-32G-30A-28C^-24A-22G-20A-16G-14F-12D-10C-8F-4( 14.0 )\n",
      " ∨ [tb2]C-10C-8D-6D-4E-2( 6.0 )\n",
      " ∨ [tb2]D-18F#-16A-14F#-12E-10G-8B-6C#-2( 5.0 )\n",
      " ∧ not[tb2]F#-64A-62D-58F#-56A-54F#-52E-50G-48B-46G-44C#-42E-40G-38E-36D-34D-30E-26G-24B-22G-20D-18F#-16A-14F#-12C#-10E-8G-6E-4D-2( 7.0 )\n",
      " ∨ [tb2]G-50C^-48B-46A-44G-42A-40G-38F-36E-34D-32C-30E-28G-26G-22G-18C^-16B-14A-12G-10A-8G-6F-4E-2( 12.0 )\n",
      " ∧ not[tb2]D-64C-62E-60G-58G-54G-50C^-48B-46A-44G-42A-40G-38F-36E-34E-32D-30G-28C-26C-22C^-18C^-16B-14A-12G-10D-8E-6G-4C-2( 15.0 )\n",
      " ∨ [tb6]G-22C^-20B-18A-16G-14A-12G-10F-8E-6D-4C-2( 6.0 )\n",
      " ∧ not[tb2]G-26C^-24B-22A-20G-18A-16G-14F-12E-10F-8E-6D-4C-2( 8.0 )\n",
      " ∧ not[tb6]G-22C^-20B-18A-16G-14A-12G-10F-8E-6F-4E-2( 11.0 )\n",
      " ∧ not[tb4]D-60E-58F-56G-54A-52A-50A-48C^-44A#-42A-40G-38A-36A-32A#-28G-26G-24G-22A-20F-18F-16A-12G-10F-8E-6D-4( 8.0 )\n",
      " ∧ not[tb6]F-62F-60E-58D-54D-52C-50F-46F-44E-42E-40D-38D-36C-34A-30A-28G-26F-22F-20E-18G-14G-12F-10F-8E-6D-4C-2( 7.0 )\n",
      " ∨ [tb6]D-64F-62G-61F-60A-59D-58F-54D-52F-50D-48F-46D-45F-44G-43A-42F-38D-36F-34D-32F-30G-29F-28E-27D-26A-22F-20A-18F-16A-14G-13A-12A#-11C^-10C^-8G-6E-4G-2( 18.0 )\n",
      " ∧ not[tb6]G-54C^-52B-50A-48G-46A-44G-42F-40E-38D-36C-34E-32G-30G-26G-22C^-20B-18A-16G-14A-12G-10F-8E-6E-4D-2( 11.0 )\n",
      " ∨ [tb6]E-64G-62G-58G-54C^-52B-50A-48G-46A-44G-42F-40E-38E-36D-34G-32C-30C-26C^-22C^-20B-18A-16G-14D-12E-10G-8C-6C-4D-2( 16.0 )\n",
      " ∧ not[tb6]D-64C-62D-60E-58G-54C^-52B-50A-48G-46A-44G-42F-40E-38F-36E-34D-32C-30E-27C-26G-22G-20C^-18B-16A-14G-12E-10G-8C-6E-4D-2( 17.0 )\n",
      " ∨ [tb2]E-64D-62G-58G-56F#-54E-50E-48D-46G-42G-40F#-38F#-36E-34E-32D-30B-26B-24A-22G-18G-16F#-14A-10A-8G-6G-4F#-2( 16.0 )\n",
      " ∨ [tb2]G-10G-8F#-6E-2( 4.0 )\n",
      " ∧ not[tb2]A-50G-48F#-46G-44A-42D-38A-34G-32F#-30G-28A-26D-22A-18F#-16B-14A-12G-10F#-6E-2( 7.0 )\n",
      " ∨ [tb4]A-36G-32F-30G-28A-26F-24F-22A-20G-16F-14G-12A-10F-8F-4( 7.0 )\n",
      " ∧ not[tb4]G-64A-60G-56F-54E-52D-48C-44E-36F-34G-32G-28A-26G-24E-20F-18G-16G-12A-10G-8E-4G-2( 8.0 )\n",
      " ∧ not[tb4]E-64D-62E-60F-58D-56A-52G-48F-46G-44A-42F-40F-38A-36G-32F-30G-28A-26F-24F-20E-16D-14E-12F-10D-8D-6A-4( 22.0 )\n",
      " ∨ [tb4]F-12C-10F-8C-6F-4E-2( 4.0 )\n",
      " ∧ not[tb4]F#-28C#-26F#-24C#-22F#-20F-18F-16F-12C#-10F-8C#-6F-4F#-2( 5.0 )\n",
      " ∨ [tb2]F#-64E-62E-60D-58D-56D-54D-50D-48E-46E-44F#-42F#-40G-38F#-34F#-32E-30E-28D-26D-22B-18B-14A-10A-8A-6E-2( 8.0 )\n",
      " ∧ not[tb6]F-64E-62E-60D-58G-56C-54C-50C^-46C^-44B-42A-40G-38D-36E-34G-32C-30C-28D-26E-24D-22G-18C^-14C^-12B-10A-8G-6D-4E-2( 10.0 )\n",
      " ∧ not[tb6]F#-64E-62E-60D-58G-54G-52F#-50E-46E-44D-42G-38G-36F#-34F#-32E-30E-28D-26B-22B-20A-18G-14G-12F#-10A-6A-4G-2( 14.0 )\n",
      " ∧ not[tb4]E-64E-62D-60D-58D-56D-52D-50E-48E-46F#-44F#-42G-40F#-36F#-34E-32E-30D-28D-24B-20B-16A-12A-10A-8E-4E-2( 15.0 )\n",
      " ∨ [tb2]C-26D-24E-22F-20E-18G-16D-14E-10G-8D-6D-2( 5.0 )\n",
      " ∧ not[tb2]C-26D-24E-22F-20G-18C^-14A-10F-8C^-6A-4G-2( 6.0 )\n",
      " ∧ not[tb4]C-60C-58D-56D-54E-52E-50F-48E-44E-42D-40D-38C-36C-34C-32C-28C-26D-24D-22E-20E-18F-16E-12E-10D-8D-6C-4( 7.0 )\n",
      " ∧ not[tb2]C-26C-24D-22D-20E-18E-16F-14E-10E-8D-6D-4C-2( 6.0 )\n",
      " ∧ not[tb6]A-62G-58F-56G-54A-52F-50F-48A-46G-42F-40G-38A-36F-34F-30E-26D-24E-22F-20D-18D-16F-14E-10D-8E-6F-4D-2( 8.0 )\n",
      " ∧ not[tb2]C-58D-56E-54F-52E-50G-48D-46E-42G-40D-38D-34E-32C-30C-26D-24E-22F-20E-18G-16D-14D-10F-8E-6D-4C-2( 9.0 )\n",
      " ∧ not[tb2]C-50D-48E-46F-44E-42G-40D-38E-34G-32D-30D-26E-24C-22C-18D-16E-14F-12E-10G-8D-6D-2( 6.0 )\n",
      " ∨ [tb2]C-50D-48E-46F-44G-42C^-38A-34F-32C^-30A-28G-26G-22A-18G-16F-14F-12E-10D-8C-6C-4D-2( 9.0 )\n",
      " ∨ [tb2]C-42C-40D-38D-36E-34E-32F-30E-26E-24D-22D-20C-18C-16C-14C-10C-8D-6D-4E-2( 11.0 )\n",
      " ∧ not[tb2]E-64F-62E-58E-56D-54D-52C-50C-48C-46C-42C-40D-38D-36E-34E-32F-30E-26E-24D-22D-20C-18C-14A-10A-6G-2( 15.0 )\n",
      " ∨ [tb2]D-50F#-48A-46F#-44E-42G-40B-38C#-34E-32G-30E-28D-26F#-24A-22D-18F#-16A-14F#-12E-10G-8B-6G-4C#-2( 7.0 )\n",
      " ∧ not[tb2]G-64F-62E-60F-58F-54D-50A#-48A-46G-44F-42G-40A-38D-34G-32F-30E-28D-26D-22D-18C^-16A#-14A-12A#-10A-8G-6D-2( 9.0 )\n",
      " ∧ not[tb2]G-64F#-62E-60D-58D-56D-54A-50A-46F#-44B-42A-40A-38E-34G-32F#-30E-28D-26D-22A-18A-14F#-12B-10A-8A-6E-2( 15.0 )\n",
      " ∧ not[tb2]F#-64D-62D-58E-56F#-54G-52F#-50A-48E-46E-42G-40F#-38E-36D-34D-32D-30A-26A-22F#-20B-18A-16A-14E-10G-8F#-6E-4D-2( 9.0 )\n",
      " ∧ not[tb6]C#-62A-60G#-58F#-56E-54F#-52G#-50C#-46F#-44E-42D#-40C#-38C#-34C#-30B-28A-26G#-24A-22G#-20F#-18C#-14F#-12E-10D#-8E-6C#-2( 8.0 )\n",
      " ∨ [tb4]E-64E-62G#-60F#-56E-54F#-52G#-50E-48E-44D#-40C#-38D#-36E-34C#-32C#-30E-28D#-24C#-22D#-20E-18C#-16G#-12F#-8E-6F#-4G#-2( 14.0 )\n",
      " ∧ not[tb4]C#-64G#-60F#-56E-54F#-52G#-50E-48E-46G#-44F#-40E-38F#-36G#-34E-32E-28D#-24C#-22D#-20E-18C#-16C#-14G#-12F#-8E-6D#-4E-2( 17.0 )\n",
      " ∧ not[tb2]A-64G#-62F#-60E-58F#-56G#-54C#-50F#-48E-46D#-44E-42E-38C#-34A-32G#-30F#-28E-26F#-24G#-22C#-18F#-16E-14D#-12C#-10C#-6C#-2( 8.0 )\n",
      " ∧ not[tb2]C#-50A-48G#-46F#-44E-42F#-40G#-38C#-34F#-32E-30D#-28E-26E-22C#-18A-16G#-14F#-12E-10F#-8G#-6C#-2( 8.0 )\n",
      " ∧ not[tb2]D-62E-58G-56B-54G-52D-50F#-48A-46F#-44C#-42E-40G-38E-36D-34F#-32A-30E-26G-24B-22G-20D-18F#-16A-14F#-12C#-10E-8G-6E-4D-2( 10.0 )\n",
      " ∧ not[tb2]G-64B-62C#-58E-56G-54E-52D-50F#-48A-46D-42F#-40A-38F#-36E-34G-32B-30G-28C#-26E-24G-22E-20D-18D-14E-10G-8B-6G-4D-2( 10.0 )\n",
      " ∨ [tb6]G-64C-62C-58C^-54C^-52B-50A-48G-46D-44E-42G-40C-38C-36D-34E-32D-30G-26C^-22C^-20B-18A-16G-14D-12E-10G-8C-6E-4D-2( 14.0 )\n",
      " ∨ [tb6]F-64E-62C-58F-54D-50D-48E-46C-42C-40D-38C-36D-34E-32C-30C-26F-22D-18D-16E-14C-10C-8D-6C-4D-2( 9.0 )\n",
      " ∧ not[tb6]D-64E-62E-60F-58E-54E-52D-50D-48C-46C-44C-42C-38C-36D-34D-32E-30E-28F-26E-22E-20D-18D-16C-14C-10A-6A-2( 11.0 )\n",
      " ∧ not[tb6]C-54C-52D-50D-48E-46E-44F-42E-38E-36D-34D-32C-30C-28C-26C-22C-20D-18D-16E-14E-12F-10E-6E-4D-2( 12.0 )\n",
      " ∧ not[tb1]C#-9F-7G#-5F-3D#-1( 1 )\n",
      " ∨ [tb6]C^-46C^-44G#-42C^-40A#-38G#-37G-36G#-35F-34G#-32C^-30C^-28G#-26C^-24A#-22G#-21G-20G#-19F-18A#-14A#-12G-10A#-8A#-6G#-5G-4G#-3C-2( 8.0 )\n"
     ]
    },
    {
     "name": "stdout",
     "output_type": "stream",
     "text": [
      " ∧ not[tb7]A#-63A#-61G-59A#-57A#-55G#-54G-53G#-52F-51E-47C-45C-43C^-41C^-39A#-38G#-37G-36F-35F-33E-31C-29C-27C^-25C^-23A#-22G#-21G-20F-19E-15C-13C-11C^-9C^-7A#-6G#-5G-4F-3F-1( 10.0 )\n",
      " ∨ [tb3]F-59D-57F-55D-53F-51D-50F-49G-48A-47F-43D-41F-39D-37F-35G-34F-33A-32D-31F-27D-25F-23D-21F-19D-18F-17G-16A-15F-11D-9F-7D-5F-3G-2F-1( 20.0 )\n",
      " ∧ not[tb3]G-64A-63F-59D-57F-55D-53F-51G-50F-49A-48D-47F-43D-41F-39D-37F-35D-34F-33G-32A-31F-27D-25F-23D-21F-19G-18F-17E-16D-15A-11F-9A-7F-5A-3G-2A-1( 21.0 )\n",
      " ∨ [tb1]F#-64E-63G#-62C#-61E-57C#-55E-53C#-51E-49C#-48E-47F#-46G#-45E-41C#-39E-37C#-35E-33F#-32E-31D#-30C#-29G#-25E-23G#-21E-19G#-17F#-16G#-15A-14B-13B-11F#-9D#-7F#-5D#-3F#-1( 19.0 )\n",
      " ∧ not[tb0]C#-8F-6G#-4F-2( 1 )\n",
      " ∨ [tb0]C-64G-64E-60F-56G#-52C-48G-48E-44F-40G#-40C^-36D-32A#-32G-28C-24G#-24F-20E-16G-16F-8G#-8C^-4( 10.0 )\n",
      " ∧ not[tb0]D-64A#-64G-60C-56G#-56F-52E-48G-48F-40G#-40C^-36E-32A#-32G-28C#-24G#-24F-20C-16G-16F-8G#-8C^-4( 14.0 )\n",
      " ∨ [tb0]F-56G#-52C-48G-48E-44F-40G#-36C-32G-32E-28F-24G#-24C^-20D-16A#-16G-12C-8G#-8F-4( 10.0 )\n",
      " ∧ not[tb0]C-64G-64E-60F-56G#-56C^-52D-48A#-48G-44C-40G#-40F-36E-32G-32F-24G#-24C^-20E-16A#-16G-12C#-8G#-8F-4( 11.0 )\n",
      " ∨ [tb6]D-22A#-20A-18G-16F-14G-12A-10D-6G-4F-2( 7.0 )\n",
      " ∨ [tb0]E-32E-30E-28G#-26B-24B-22B-20G#-18F#-16F#-14B-12A-10G#-8E-4( 6.0 )\n",
      " ∨ [tb4]E-28E-26E-24G#-22B-20B-18B-16G#-14F#-12F#-10B-8A-6G#-4( 7.0 )\n",
      " ∨ [tb0]E-64C-60G-56E-52G-48E-44D-40F-38E-36D-34C-32C^-24A-20G-16E-10D-8E-6F-4D-2( 12.0 )\n",
      " ∨ [tb6]E-64F-62D-58F-54G-52A-50G-48A-46A-38G-36F-34E-32F-30D-26G-22F-20E-18F-16D-14D-6E-4F-2( 10.0 )\n",
      " ∨ [tb0]C^-16G-12A-8G-4F-2( 5.0 )\n",
      " ∨ [tb0]A#-64A#-62G-60A#-58A#-56G#-55G-54G#-53C-52E-50A#-48A#-46G-44A#-42A#-40G#-39G-38G#-37F-36E-32C-30C-28C^-26C^-24A#-23G#-22G-21F-20F-18E-16C-14C-12C^-10C^-8A#-7G#-6G-5F-4( 9.0 )\n",
      " ∧ not[tb2]A#-64G-62A#-60A#-58G#-57G-56G#-55C-54E-52A#-50A#-48G-46A#-44A#-42G#-41G-40G#-39F-38E-34C-32C-30C^-28C^-26A#-25G#-24G-23F-22F-20E-18C-16C-14C^-12C^-10A#-9G#-8G-7F-6E-2( 12.0 )\n",
      " ∨ [tb0]C^-64C^-62G#-60C^-58A#-56G#-55G-54G#-53F-52G#-50C^-48C^-46G#-44C^-42A#-40G#-39G-38G#-37F-36A#-32A#-30G-28A#-26A#-24G#-23G-22G#-21C-20E-18A#-16A#-14G-12A#-10A#-8G#-7G-6G#-5F-4( 23.0 )\n",
      " ∨ [tb4]G-20C^-18B-16A-14G-12A-10G-8F-6E-4F-2( 11.0 )\n",
      " ∨ [tb0]D-24E-22F#-20G-18F#-16A-14E-12F#-8A-6E-4( 6.0 )\n",
      " ∨ [tb0]A-64D-60A-56G-54F#-52G-50A-48D-44A-40F#-38B-36A-34G-32F#-28E-24D#-20E-16E-8D-6C#-4D-2( 8.0 )\n",
      " ∨ [tb0]A-56G-54F#-52G-50A-48D-44A-40G-38F#-36G-34A-32D-28A-24F#-22B-20A-18G-16F#-12E-8D#-4( 10.0 )\n",
      " ∨ [tb0]E-64F#-62G-60F#-58G-56E-52G-48A-46B-44A-42B-40B-32A-30G-28F#-26G-24E-20A-16G-14F#-12G-10E-8( 10.0 )\n",
      " ∨ [tb6]C#-64D#-62E-60C#-58G#-54F#-50E-48F#-46G#-44E-42E-40G#-38F#-34E-32F#-30G#-28E-26E-22D#-18C#-16D#-14E-12C#-10C#-8G#-6F#-2( 22.0 )\n",
      " ∨ [tb0]G#-48F#-44E-42F#-40G#-38E-36E-34G#-32F#-28E-26F#-24G#-22E-20E-16D#-12C#-10D#-8E-6C#-4C#-2( 9.0 )\n",
      " ∧ not[tb0]E-64D#-60C#-58D#-56E-54C#-52G#-48F#-44E-42F#-40G#-38E-36E-34G#-32F#-28E-26F#-24G#-22E-20E-16D#-12C#-10D#-8E-6C#-4C#-2( 22.0 )\n",
      " ∧ not[tb0]G#-64F#-60E-58F#-56G#-54E-52E-50G#-48F#-44E-42F#-40G#-38E-36E-32D#-28C#-26D#-24E-22C#-20C#-18E-16D#-12C#-10D#-8E-6C#-4( 14.0 )\n",
      " ∨ [tb0]G#-32F#-28E-26F#-24G#-22E-20E-18G#-16F#-12E-10F#-8G#-6E-4( 8.0 )\n",
      " ∨ [tb6]G#-14F#-10E-8F#-6G#-4E-2( 5.0 )\n",
      " ∧ not[tb6]G#-30F#-26E-24F#-22G#-20E-18E-16G#-14F#-10E-8F#-6G#-4E-2( 8.0 )\n",
      " ∨ [tb6]D-54E-52F-50G-48A-46A-44A-42C^-38A#-36A-34G-32A-30A-26A#-22G-20G-18G-16A-14F-12F-10A-6G-4F-2( 9.0 )\n",
      " ∧ not[tb6]E-64D-62D-58D-54E-52F-50G-48A-46A-44A-42C^-38A#-36A-34G-32A-30F-26G-22C-20C-18C-16A-14F-12F-10G-6F-4E-2( 17.0 )\n",
      " ∨ [tb2]C^-64C^-62A-60G-58G-56C^-54A#-52A-50F-46F-42F-40F-38A-36C^-34C^-32C^-30A-28G-26G-24C^-22A#-20A-18F-14A-10G-8F-6E-4D-2( 17.0 )\n",
      " ∨ [tb6]A-64C^-62C^-60C^-58A-56G-54G-52C^-50A#-48A-46F-42F-38F-36F-34A-32C^-30C^-28C^-26A-24G-22G-20C^-18A#-16A-14F-10A-6G-4F-2( 17.0 )\n",
      " ∨ [tb0]C-40D-38E-36F-34G-32C^-28A-24F-22C^-20A-18G-16G-12A-8G-6F-4F-2( 9.0 )\n",
      " ∨ [tb0]E-64F#-63E-62D#-61C#-60G#-56E-54G#-52E-50G#-48F#-47G#-46A-45B-44B-42F#-40D#-38F#-36D#-34F#-32E-31F#-30G#-29A-28A-26G#-24E-22G#-20E-18G#-16F#-15G#-14A-13B-12B-10F#-8D#-6F#-4G#-2F#-1( 11.0 )\n",
      " ∧ not[tb6]E-54E-52E-50G#-48B-46B-44B-42G#-40F#-38F#-36B-34A-32G#-30E-26E-22E-20E-18G#-16B-14B-12B-10G#-8F#-6F#-4B-2( 13.0 )\n",
      " ∨ [tb4]E-36C#-34E-32C#-30E-28C#-27E-26F#-25G#-24E-20C#-18E-16C#-14E-12F#-11E-10G#-9C#-8E-4C#-2( 7.0 )\n",
      " ∧ not[tb4]D-64A-60F#-58B-56A-54G-52F#-48E-44D#-40E-36E-28D-26C#-24D-22E-20A-16E-12D-10C#-8D-6E-4( 8.0 )\n",
      " ∧ not[tb4]F#-64E-62F#-60G#-58E-56E-54G#-52F#-48E-46F#-44G#-42E-40E-36D#-32C#-30D#-28E-26C#-24C#-22E-20D#-16C#-14D#-12E-10C#-8G#-4( 9.0 )\n",
      " ∧ not[tb6]E-46C#-44E-42C#-40E-38C#-37E-36F#-35G#-34E-30C#-28E-26C#-24E-22F#-21E-20G#-19C#-18E-14C#-12E-10C#-8E-6C#-5E-4F#-3G#-2( 8.0 )\n",
      " ∨ [tb6]C#-64E-62C#-61E-60F#-59G#-58E-54C#-52E-50C#-48E-46F#-45E-44G#-43C#-42E-38C#-36E-34C#-32E-30C#-29E-28F#-27G#-26E-22C#-20E-18C#-16E-14F#-13E-12D#-11C#-10G#-6E-4G#-2( 20.0 )\n",
      " ∨ [tb4]E-52C#-50E-48C#-46E-44C#-43E-42F#-41G#-40E-36C#-34E-32C#-30E-28F#-27E-26G#-25C#-24E-20C#-18E-16C#-14E-12C#-11E-10F#-9G#-8E-4C#-2( 9.0 )\n",
      " ∧ not[tb4]E-64C#-62E-60F#-59E-58G#-57C#-56E-52C#-50E-48C#-46E-44C#-43E-42F#-41G#-40E-36C#-34E-32C#-30E-28F#-27E-26D#-25C#-24G#-20E-18G#-16E-14G#-12F#-11G#-10A-9B-8B-6F#-4D#-2( 19.0 )\n",
      " ∨ [tb0]E-16C#-14E-12C#-10E-8C#-7E-6F#-5G#-4( 5.0 )\n",
      " ∨ [tb2]E-10C#-8E-6C#-4E-2C#-1( 5.0 )\n",
      " ∨ [tb0]E-8C#-6E-4C#-2( 4.0 )\n",
      " ∨ [tb0]C-24E-22G-20C^-16B-14A-12G-8A-6G-4F-2( 7.0 )\n",
      " ∨ [tb0]C-40C-38D-36D-34E-32E-30F-28E-24E-22D-20D-18C-16C-14C-12C-8C-6D-4D-2( 11.0 )\n",
      " ∨ [tb2]C-18C-16D-14D-12E-10E-8F-6E-2( 6.0 )\n",
      " ∨ [tb0]C-16C-14D-12D-10E-8E-6F-4( 6.0 )\n",
      " ∨ [tb0]C-8C-6D-4D-2( 6.0 )\n",
      " ∨ [tb0]C#-24A-22G#-20F#-18E-16F#-14G#-12C#-8F#-6E-4D#-2( 7.0 )\n",
      " ∨ [tb0]C#-8A-6G#-4F#-2( 4.0 )\n",
      " ∧ not[tb0]F-64F#-62F#-60F#-56C#-54F#-52C#-50F#-48F-46F-44F-40C#-38F-36C#-34F-32F#-30F#-24G#-22G#-20G#-19G#-18G#-16A-14A-12A-11A-10A-8A-6G#-4F#-2( 6.0 )\n",
      " ∧ not[tb0]C#-64C#-60C#-56B-54A-52G#-50A-48G#-46F#-44C#-40F#-38E-36D#-34E-32C#-28C#-24B-22A-20G#-18A-16G#-14F#-12C#-8A-6G#-4F#-2( 7.0 )\n",
      " ∨ [tb4]E-60E-58E-56G#-54B-52B-50B-48G#-46F#-44F#-42B-40A-38G#-36E-32E-28E-26E-24G#-22B-20B-18B-16G#-14F#-12F#-10B-8A-6G#-4( 13.0 )\n",
      " ∧ not[tb4]E-64E-60E-58E-56G#-54B-52B-50B-48G#-46F#-44F#-42B-40A-38G#-36E-32G#-28F#-26E-24D#-22C#-20D#-18E-16F#-14G#-12F#-10E-8D#-6C#-4( 18.0 )\n",
      " ∨ [tb2]E-58C#-56E-54C#-52E-50C#-49E-48F#-47G#-46E-42C#-40E-38C#-36E-34F#-33E-32G#-31C#-30E-26C#-24E-22C#-20E-18C#-17E-16F#-15G#-14E-10C#-8E-6C#-4E-2F#-1( 13.0 )\n",
      " ∧ not[tb2]E-64G#-63C#-62E-58C#-56E-54C#-52E-50C#-49E-48F#-47G#-46E-42C#-40E-38C#-36E-34F#-33E-32D#-31C#-30G#-26E-24G#-22E-20G#-18F#-17G#-16A-15B-14B-12F#-10D#-8F#-6D#-4F#-2E-1( 19.0 )\n",
      " ∧ not[tb2]E-64F#-63G#-62E-58C#-56E-54C#-52E-50F#-49E-48G#-47C#-46E-42C#-40E-38C#-36E-34C#-33E-32F#-31G#-30E-26C#-24E-22C#-20E-18F#-17E-16D#-15C#-14G#-10E-8G#-6E-4G#-2F#-1( 21.0 )\n",
      " ∨ [tb0]D-8F#-6A-4F#-2( 4.0 )\n",
      " ∧ not[tb0]C#-64E-62G-60E-58D-56F#-54A-52D-48F#-46A-44F#-42E-40G-38B-36G-34C#-32E-30G-28E-26D-24D-20E-16G-14B-12G-10D-8F#-6A-4F#-2( 7.0 )\n",
      " ∧ not[tb0]D-32F#-30A-28F#-26E-24G-22B-20C#-16E-14G-12E-10D-8F#-6A-4( 5.0 )\n",
      " ∨ [tb0]E-64D#-60E-56E-48D-46C#-44D-42E-40A-36E-32D-30C#-28D-26E-24A-20F#-16E-14C#-12E-10D-8F#-4( 11.0 )\n",
      " ∨ [tb0]D-64F#-62A-60F#-58E-56G-54B-52C#-48E-46G-44E-42D-40F#-38A-36D-32F#-30A-28F#-26E-24G-22B-20G-18C#-16E-14G-12E-10D-8D-4( 14.0 )\n",
      " ∨ [tb6]F-22F-20E-18D-14D-12C-10F-6F-4E-2( 6.0 )\n",
      " ∧ not[tb6]F-30D-28F-26D-24F-22D-21F-20G-19A-18F-14D-12F-10D-8F-6G-5F-4A-3D-2( 7.0 )\n",
      " ∧ not[tb6]F-38F-36E-34D-30D-28C-26F-22F-20E-18E-16D-14D-12C-10F-6F-4E-2( 11.0 )\n",
      " ∨ [tb6]F-54F-52E-50D-46D-44C-42F-38F-36E-34E-32D-30D-28C-26F-22F-20E-18D-14D-12C-10F-6F-4E-2( 17.0 )\n",
      " ∧ not[tb6]D-62D-60C-58F-54F-52E-50E-48D-46D-44C-42F-38F-36E-34D-30D-28C-26F-22F-20E-18E-16D-14D-12C-10A-6A-4G-2( 20.0 )\n",
      " ∨ [tb4]F-20F-18E-16D-12D-10C-8F-4F-2( 6.0 )\n",
      " ∧ not[tb4]F-28D-26F-24D-22F-20D-19F-18G-17A-16F-12D-10F-8D-6F-4G-3F-2A-1( 7.0 )\n",
      " ∧ not[tb4]A-64G-62F-60D-58C-56F-52G-48G-46A-44C^-40A-38G-36A-32G-30F-28D-26C-24F-20E-16D-12C-8F-4( 7.0 )\n",
      " ∨ [tb0]G-16C^-14B-12A-10G-8A-6G-4F-2( 6.0 )\n",
      " ∨ [tb0]G-8G-6F#-4( 3.0 )\n",
      " ∧ not[tb0]D#-24D#-22F-20F-18G-16G-14G#-12G-8G-6F-4F-2( 6.0 )\n",
      " ∧ not[tb0]D#-16D#-14F-12F-10G-8G-6G#-4( 4.0 )\n",
      " ∧ not[tb0]G-16D-14G-12D-10G-8F#-6F#-4( 5.0 )\n",
      " ∧ not[tb0]A-8G-6F#-4G-2( 4.0 )\n",
      " ∧ not[tb0]F-24F-22F-20A-18C^-16C^-14C^-12A-10G-8G-6C^-4A#-2( 5.0 )\n",
      " ∧ not[tb0]A-64C^-56B-54A-52B-48A-46G-44F#-40G-36A-32C^-24B-22A-20B-16A-14G-12A-8G-6F#-4( 5.0 )\n",
      " ∨ [tb0]A-64G-62F-60G-56F-48C-44F-40G-36A#-34A-32G-30F-28G-24A#-16A-14G-12A-8G-6F-4( 11.0 )\n",
      " ∧ not[tb0]A-64G-62F-60G-56A#-48A-46G-44A-40G-38F-36E-32F-28G-24A#-16A-14G-12A-8G-6F-4( 14.0 )\n",
      " ∨ [tb0]C^-48G-44A-40G-36F-34E-32D-28C-24C^-16G-12A-8G-4F-2( 9.0 )\n",
      " ∧ not[tb4]D-64G-60G-58F#-56E-52E-50D-48G-44G-42F#-40F#-38E-36E-34D-32B-28B-26A-24G-20G-18F#-16A-12A-10G-8G-6F#-4E-2( 10.0 )\n",
      " ∨ [tb0]D-64D-62C-60F-56F-54E-52D-48D-46C-44F-40F-38E-36E-34D-32D-30C-28A-24A-22G-20F-16F-14E-12G-8G-6F-4F-2( 17.0 )\n",
      " ∧ not[tb0]G-64G-62F#-60F#-58E-56E-54D-52G-48G-46F#-44E-40E-38D-36G-32G-30F#-28F#-26E-24E-22D-20B-16B-14A-12G-8G-6F#-4( 6.0 )\n",
      " ∨ [tb4]E-64B-60A-56G-54A-52B-50G-48G-46B-44A-40G-38A-36B-34G-32G-28F#-24E-22F#-20G-18E-16E-14B-12A-8G-6F#-4G-2( 17.0 )\n",
      " ∨ [tb0]F#-64A-62E-60E-56F#-54D-52D-48E-46F#-44G-42F#-40A-38E-36E-32G-30F#-28E-26D-24D-22D-20A-16A-12F#-10B-8A-6A-4( 10.0 )\n",
      " ∨ [tb6]A-64G-62F#-58E-54D#-50E-46E-38D-36C#-34D-32E-30A-26E-22D-20C#-18D-16E-14A-10F#-6E-4C#-2( 11.0 )\n",
      " ∧ not[tb6]E-62E-54D-52C#-50D-48E-46A-42E-38D-36C#-34D-32E-30A-26F#-22E-20C#-18E-16D-14F#-10E-6C#-2( 12.0 )\n",
      " ∨ [tb0]A-64D-60A-56F#-54B-52A-50G-48F#-44E-40D#-36E-32E-24D-22C#-20D-18E-16A-12E-8D-6C#-4D-2( 9.0 )\n",
      " ∧ not[tb0]G-64F#-60E-56D#-52E-48E-40D-38C#-36D-34E-32A-28E-24D-22C#-20D-18E-16A-12F#-8E-6C#-4E-2( 11.0 )\n",
      " ∨ [tb0]A-64G-62F#-60G-58A-56D-52A-48G-46F#-44G-42A-40D-36A-32F#-30B-28A-26G-24F#-20E-16D#-12E-8( 10.0 )\n",
      " ∨ [tb0]A-48G-46F#-44G-42A-40D-36A-32G-30F#-28G-26A-24D-20A-16F#-14B-12A-10G-8F#-4( 10.0 )\n",
      " ∨ [tb4]C-64F-60F-58E-56E-54D-52D-50C-48F-44F-42E-40D-36D-34C-32F-28F-26E-24E-22D-20D-18C-16A-12A-10G-8F-4F-2( 15.0 )\n",
      " ∧ not[tb4]C-64F-60E-56D-52C-48F-44G-40E-38D-36D-34C-32F-28E-24D-20C-16F-12G-8E-6D-4( 16.0 )\n"
     ]
    },
    {
     "name": "stdout",
     "output_type": "stream",
     "text": [
      " ∨ [tb0]G-64E-60F-56E-54D-52F-50E-48C-44G-40C^-36G-32E-28F-24E-22D-20F-18E-16C-12F-8D-4D-2( 12.0 )\n",
      " ∨ [tb0]G-24C^-20G-16E-12F-8E-6D-4F-2( 5.0 )\n",
      " ∧ not[tb0]C-32F-28G-24G#-20G-16E-12F-8( 6.0 )\n",
      " ∨ [tb2]G-18C^-14G-10E-6F-2( 4.0 )\n",
      " ∧ not[tb2]F-18G#-14C-10G-10E-6F-2( 5.0 )\n",
      " ∧ not[tb2]G-50E-46G-42E-38D-34E-32F-30D-28E-26C-22G-18E-14G-10E-6D-2( 11.0 )\n",
      " ∧ not[tb6]A-62G-58F-56E-54D-50C-46E-38F-36G-34G-30A-28G-26E-22F-20G-18G-14A-12G-10E-6G-4F-2( 6.0 )\n",
      " ∧ not[tb2]C-26F-22G-18G#-14G-10E-6F-2( 6.0 )\n",
      " ∧ not[tb2]D#-26F-24G-22G#-20G-18A#-16F-14G-10A#-8F-6F-2( 5.0 )\n",
      " ∧ not[tb2]F-34F-32F-30A-28C^-26C^-24C^-22A-20G-18G-16C^-14A#-12A-10F-6F-2( 6.0 )\n",
      " ∨ [tb2]F-64E-62D-60C-58D-56E-54G-50C^-48B-46A-44G-42A-40G-38F-36E-34F-32E-30D-28C-26E-23C-22G-18G-16C^-14B-12A-10G-8E-6G-4C-2( 16.0 )\n",
      " ∧ not[tb2]F-26G-22A-18C^-14A-12G-10A-6G-4F-2( 5.0 )\n",
      " ∨ [tb0]A-40G-36F-34G-32A-30F-28F-26A-24G-20F-18G-16A-14F-12F-8E-4D-2( 8.0 )\n",
      " ∧ not[tb0]A#-64C^-62G#-60G#-58C^-56A#-52G#-50A#-48C^-46G#-44G#-40G-36F-34G-32G#-30F-28F-26G#-24G-20F-18G-16G#-14F-12C^-8A#-4G#-2( 11.0 )\n",
      " ∨ [tb0]F-24C-22F-20C-18F-16E-14E-12E-8C-6E-4C-2( 5.0 )\n",
      " ∧ not[tb0]D#-24C-22D#-20C-18D#-16C-15D#-14F-13G-12D#-8C-6D#-4C-2( 6.0 )\n",
      " ∧ not[tb6]C-62D-60E-58F-56G-54C^-50A-46F-44C^-42A-40G-38G-34A-30G-28F-26F-24E-22D-20C-18C-16D-14E-12F-10E-9D-8C-6C-2( 8.0 )\n",
      " ∧ not[tb2]F-34F-32E-30D-26D-24C-22F-18F-16E-14E-12D-10D-8C-6F-2( 6.0 )\n",
      " ∨ [tb4]F-36F-34E-32D-28D-26C-24F-20F-18E-16E-14D-12D-10C-8F-4F-2( 9.0 )\n",
      " ∧ not[tb6]G-62C^-60B-58A-56G-54A-52G-50F-48E-46D-44C-42E-40G-38G-34G-30C^-28B-26A-24G-22A-20G-18F-16E-14E-12D-10G-8C-6C-2( 8.0 )\n",
      " ∧ not[tb0]A-48G-44F-42G-40A-38F-36F-34A-32G-28F-26G-24A-22F-20F-16E-12D-10E-8F-6D-4D-2( 6.0 )\n",
      " ∧ not[tb0]F-40C-38F-36C-34F-32E-30E-28E-24C-22E-20C-18E-16F-14F-12F-8C-6F-4C-2( 6.0 )\n",
      " ∨ [tb4]F-44C-42F-40C-38F-36E-34E-32E-28C-26E-24C-22E-20F-18F-16F-12C-10F-8C-6F-4E-2( 12.0 )\n",
      " ∧ not[tb4]E-64E-60C-58E-56C-54E-52F-50F-48F-44C-42F-40C-38F-36E-34E-32E-28C-26E-24C-22E-20F-18F-12G-10G-8G-7G-6G-4G#-2( 16.0 )\n",
      " ∧ not[tb4]F-28C-26F-24C-22F-20E-18E-16E-12C-10E-8C-6E-4F-2( 8.0 )\n",
      " ∨ [tb0]F-56C-54F-52C-50F-48E-46E-44E-40C-38E-36C-34E-32F-30F-28F-24C-22F-20C-18F-16E-14E-12E-8C-6E-4C-2( 10.0 )\n",
      " ∧ not[tb2]G#-64G-62F-60D#-58F-56G-54C-50F-48D#-46D-44D#-42D#-38C-34G#-32G-30F-28D#-26F-24G-22C-18F-16D#-14D-12C-10C-6C-2( 11.0 )\n",
      " ∧ not[tb2]F-64E-62D-58D-56C-54F-50F-48E-46E-44D-42D-40C-38F-34F-32E-30D-26D-24C-22F-18F-16E-14E-12D-10D-8C-6A-2( 11.0 )\n",
      " ∧ not[tb4]F-60C-58F-56C-54F-52E-50E-48E-44C-42E-40C-38E-36F-34F-32F-28C-26F-24C-22F-20E-18E-16E-12C-10E-8C-6E-4F-2( 16.0 )\n",
      " ∨ [tb0]F-16C-14F-12C-10F-8E-6E-4( 5.0 )\n",
      " ∨ [tb2]F-10C-8F-6C-4F-2( 6.0 )\n",
      " ∨ [tb0]E-32F#-30G-28A-26B-24E-20F#-16A-14G-12F#-10E-8( 5.0 )\n",
      " ∧ not[tb6]D-46E-44F-42E-40F-38D-34F-30G-28A-26G-24A-22A-14G-12F-10E-8F-6D-2( 9.0 )\n",
      " ∧ not[tb2]B-34A-30G-28A-26B-24G-22G-20B-18A-14G-12A-10B-8G-6G-2( 6.0 )\n",
      " ∧ not[tb0]D-32E-30F#-28G-26F#-24A-22E-20F#-16A-14E-12E-8F#-6D-4( 6.0 )\n",
      " ∧ not[tb0]E-48F#-46G-44F#-42G-40E-36G-32A-30B-28A-26B-24B-16A-14G-12F#-10G-8E-4( 7.0 )\n",
      " ∧ not[tb0]E-32F#-30G-28F#-26G-24E-20G-16A-14B-12A-10B-8( 7.0 )\n",
      " ∧ not[tb2]D-34E-32F-30G-28A-26A-24A-22C^-18A#-16A-14G-12A-10A-6A#-2( 8.0 )\n",
      " ∧ not[tb0]C-32E-30G-28C^-24B-22A-20G-16A-14G-12F-10E-8D-6C-4( 6.0 )\n",
      " ∨ [tb4]G-28C^-26B-24A-22G-20A-18G-16F-14E-12F-10E-8D-6C-4D-2( 11.0 )\n",
      " ∧ not[tb4]C#-60A-58G#-56F#-54E-52F#-50G#-48C#-44F#-42E-40D#-38E-36E-32C#-28A-26G#-24F#-22E-20F#-18G#-16C#-12F#-10E-8D#-6C#-4( 13.0 )\n",
      " ∧ not[tb0]C#-48A-46G#-44F#-42E-40F#-38G#-36C#-32F#-30E-28D#-26E-24E-20C#-16A-14G#-12F#-10E-8F#-6G#-4( 7.0 )\n",
      " ∨ [tb4]E-64G#-62B-60B-58B-56G#-54F#-52F#-50B-48A-46G#-44E-40E-36E-34E-32G#-30B-28B-26B-24G#-22F#-20F#-18B-16A-14G#-12E-8G#-4F#-2( 10.0 )\n",
      " ∨ [tb6]E-64G#-62F#-58E-56F#-54G#-52E-50E-46D#-42C#-40D#-38E-36C#-34C#-32E-30D#-26C#-24D#-22E-20C#-18G#-14F#-10E-8F#-6G#-4E-2( 14.0 )\n",
      " ∧ not[tb6]G#-62F#-58E-56F#-54G#-52E-50E-48G#-46F#-42E-40F#-38G#-36E-34E-30D#-26C#-24D#-22E-20C#-18C#-16G#-14F#-10E-8D#-6E-4C#-2( 17.0 )\n",
      " ∨ [tb2]E-64D#-63C#-62G#-58E-56G#-54E-52G#-50F#-49G#-48A-47B-46B-44F#-42D#-40F#-38D#-36F#-34E-33F#-32G#-31A-30A-28G#-26E-24G#-22E-20G#-18F#-17G#-16A-15B-14B-12F#-10D#-8F#-6G#-4F#-3E-2( 17.0 )\n",
      " ∨ [tb0]E-56C#-54E-52C#-50E-48C#-47E-46F#-45G#-44E-40C#-38E-36C#-34E-32F#-31E-30G#-29C#-28E-24C#-22E-20C#-18E-16C#-15E-14F#-13G#-12E-8C#-6E-4C#-2( 10.0 )\n",
      " ∧ not[tb0]E-64F#-63E-62G#-61C#-60E-56C#-54E-52C#-50E-48C#-47E-46F#-45G#-44E-40C#-38E-36C#-34E-32F#-31E-30D#-29C#-28G#-24E-22G#-20E-18G#-16F#-15G#-14A-13B-12B-10F#-8D#-6F#-4D#-2( 19.0 )\n",
      " ∧ not[tb0]E-64C#-63E-62F#-61G#-60E-56C#-54E-52C#-50E-48F#-47E-46G#-45C#-44E-40C#-38E-36C#-34E-32C#-31E-30F#-29G#-28E-24C#-22E-20C#-18E-16F#-15E-14D#-13C#-12G#-8E-6G#-4E-2( 20.0 )\n",
      " ∧ not[tb6]E-62C#-60E-58C#-56E-54C#-53E-52F#-51G#-50E-46C#-44E-42C#-40E-38F#-37E-36G#-35C#-34E-30C#-28E-26C#-24E-22C#-21E-20F#-19G#-18E-14C#-12E-10C#-8E-6F#-5E-4D#-3C#-2( 13.0 )\n",
      " ∧ not[tb4]E-60C#-58E-56C#-54E-52C#-51E-50F#-49G#-48E-44C#-42E-40C#-38E-36F#-35E-34G#-33C#-32E-28C#-26E-24C#-22E-20C#-19E-18F#-17G#-16E-12C#-10E-8C#-6E-4F#-3E-2D#-1( 13.0 )\n",
      " ∨ [tb0]E-48C#-46E-44C#-42E-40C#-39E-38F#-37G#-36E-32C#-30E-28C#-26E-24F#-23E-22G#-21C#-20E-16C#-14E-12C#-10E-8C#-7E-6F#-5G#-4( 10.0 )\n",
      " ∧ not[tb0]E-64C#-62E-60C#-58E-56F#-55E-54G#-53C#-52E-48C#-46E-44C#-42E-40C#-39E-38F#-37G#-36E-32C#-30E-28C#-26E-24F#-23E-22D#-21C#-20G#-16E-14G#-12E-10G#-8F#-7G#-6A-5B-4B-2( 19.0 )\n",
      " ∧ not[tb4]E-64C#-62E-60C#-59E-58F#-57G#-56E-52C#-50E-48C#-46E-44F#-43E-42G#-41C#-40E-36C#-34E-32C#-30E-28C#-27E-26F#-25G#-24E-20C#-18E-16C#-14E-12F#-11E-10D#-9C#-8G#-4E-2( 20.0 )\n",
      " ∧ not[tb4]G-64F#-62E-60C-52D-50E-48F#-46G-44E-40D-36A-34G-32F#-30G-28C-20D-18E-16A-14G-12E-8D-4A-2( 7.0 )\n",
      " ∨ [tb6]E-64F#-62G-60E-58E-56G-54F#-50E-48F#-46G-44E-42B-38A-34G-32A-30B-28G-26G-24B-22A-18G-16A-14B-12G-10G-6F#-2( 14.0 )\n",
      " ∨ [tb4]G-64F-62E-60F-58E-56D-54C-52E-49C-48G-44G-42C^-40B-38A-36G-34E-32G-30C-28E-26D-24G-22E-20D-18C-16G-12G-10C^-8B-6A-4G-2( 15.0 )\n",
      " ∨ [tb4]G-64F-62E-60D-58C-56E-54G-52G-48G-44C^-42B-40A-38G-36A-34G-32F-30E-28E-26D-24G-22C-20C-16C^-12C^-10B-8A-6G-4D-2( 15.0 )\n",
      " ∧ not[tb4]G-44C^-42B-40A-38G-36A-34G-32F-30E-28F-26E-24D-22C-20D-18E-16G-12C^-10B-8A-6G-4A-2( 16.0 )\n",
      " ∧ not[tb0]E-64F#-62G-60A-58B-56E-52F#-48A-46G-44F#-42E-40E-32F#-30G-28A-26B-24E-20B-16A-14G-12F#-10E-8( 12.0 )\n",
      " ∨ [tb0]E-24F#-22G-20A-18B-16E-12F#-8A-6G-4F#-2( 5.0 )\n",
      " ∧ not[tb2]B-26A-22G-20A-18B-16G-14G-12B-10A-6G-4A-2( 6.0 )\n",
      " ∧ not[tb0]E-24F#-22G-20F#-18G-16E-12G-8A-6B-4A-2( 7.0 )\n",
      " ∧ not[tb2]D-26E-24F-22G-20A-18A-16A-14C^-10A#-8A-6G-4A-2( 7.0 )\n",
      " ∨ [tb6]D-38E-36F-34E-32F-30D-26F-22G-20A-18G-16A-14A-6G-4F-2( 9.0 )\n",
      " ∧ not[tb0]E-64C-56D-54E-52F#-50G-48E-44D-40A-38G-36F#-34G-32C-24D-22E-20A-18G-16E-12D-8A-6G-4F#-2( 11.0 )\n",
      " ∧ not[tb0]E-64E-56F#-54G-52A-50B-48E-44B-40A-38G-36F#-34E-32C-24D-22E-20F#-18G-16E-12D-8A-6G-4F#-2( 16.0 )\n",
      " ∨ [tb0]F#-64F#-62E-60E-58D-56D-54D-52D-48D-46E-44E-42F#-40F#-38G-36F#-32F#-30E-28E-26D-24D-20B-16B-12A-8A-6A-4( 15.0 )\n",
      " ∨ [tb4]E-64D-62C-60C-58C-56G-52G-48E-46A-44G-42G-40D-36F-34E-32D-30C-28C-24G-20G-16E-14A-12G-10G-8D-4F-2( 8.0 )\n",
      " ∧ not[tb6]E-64D-62D-58D-54C^-52A#-50A-48A#-46A-44G-42D-38G-36F-34E-32F-30D-26D-22C^-20A#-18A-16A#-14A-12G-10D-6A#-4A-2( 10.0 )\n",
      " ∧ not[tb4]D#-64D-62D#-60D#-56C-52G#-50G-48F-46D#-44F-42G-40C-36F-34D#-32D-30C-28C-24C-20A#-18G#-16G-14G#-12G-10F-8C-4F-2( 11.0 )\n",
      " ∧ not[tb4]F-60C-56F-52G-48A#-46A-44G-42F-40G-36F-28C-24F-20G-16A#-14A-12G-10F-8G-4( 10.0 )\n",
      " ∧ not[tb4]F-64D-62E-60C-56G-52E-48G-44E-40D-36F-34E-32D-30C-28C^-20A-16G-12E-6D-4E-2( 12.0 )\n",
      " ∧ not[tb4]C^-52G-48A-44G-40F-38E-36D-32C-28C^-20G-16A-12G-8F-6E-4( 9.0 )\n",
      " ∧ not[tb0]E-64E-62D-60D-58C-56C-52A-48A-44G-40G-38G-36D-32D-30E-28D-26C-24C-20A-16A-12G-8G-6G-4( 9.0 )\n",
      " ∨ [tb6]E-64D-62D-60D-58A-54A-50F#-48B-46A-44A-42E-38G-36F#-34E-32D-30D-26A-22A-18F#-16B-14A-12A-10E-6G-4F#-2( 10.0 )\n",
      " ∧ not[tb2]E-64E-62G#-60B-58B-56B-54G#-52F#-50F#-48B-46A-44G#-42E-38E-34E-32E-30G#-28B-26B-24B-22G#-20F#-18F#-16B-14A-12G#-10E-6G#-2( 16.0 )\n",
      " ∧ not[tb2]E-64D-62D-60C-58C-56C-54C-50C-48D-46D-44E-42E-40F-38E-34E-32D-30D-28C-26C-22A-18A-14G-10G-8G-6D-2( 15.0 )\n",
      " ∧ not[tb0]E-64D-62C-60E-58G-56G-52G-48C^-46B-44A-42G-40A-38G-36F-34E-32E-30D-28G-26C-24C-20C^-16C^-14B-12A-10G-8D-6E-4G-2( 15.0 )\n",
      " ∨ [tb0]G-48C^-46B-44A-42G-40A-38G-36F-34E-32F-30E-28D-26C-24D-22E-20G-16C^-14B-12A-10G-8A-6G-4F-2( 16.0 )\n",
      " ∧ not[tb4]A#-64G#-62G-60D#-56G-52F-50D#-48D-46C-44D-42D#-40F-38G-36F-34D#-32D-30C-28C-24G-20F-18D#-16D-14C-12D-10D#-8F-6G-4F-2( 9.0 )\n",
      " ∨ [tb4]G-52C^-50B-48A-46G-44A-42G-40F-38E-36F-34E-32D-30C-28D-26E-24G-20C^-18B-16A-14G-12A-10G-8F-6E-4F-2( 20.0 )\n",
      " ∨ [tb0]C-56E-54G-52C^-48B-46A-44G-40A-38G-36F-34E-32D-30C-28C-24E-22G-20C^-16B-14A-12G-8A-6G-4F-2( 12.0 )\n",
      " ∧ not[tb0]E-64D-62C-60C-56E-54G-52C^-48B-46A-44G-40A-38G-36F-34E-32D-30C-28C-24E-22G-20E-16G-14A-12C^-8B-6A-4G-2( 19.0 )\n",
      " ∧ not[tb4]F-64A-60C^-58A-56G-55F-54G-52A-50G-48F-47D-46F-44G-42F-40D-39C-38D-37F-36F-34F-32A-28C^-26A-24G-23F-22G-20A-18G-16F-15D-14F-12G-10F-8D-7C-6D-5F-4F-2G-1( 10.0 )\n",
      " ∧ not[tb4]F-64D-62C-60D-58C-56D-54F-52G-50F-48C-44D-42C-40D-38F-36G-34F-32D-30C-28D-26C-24D-22F-20G-18F-16A-12C^-10A-8G-7F-6G-4A-2( 9.0 )\n",
      " ∨ [tb4]C-52D-50E-48F-46E-44G-42D-40E-36G-34D-32D-28E-26C-24C-20D-18E-16F-14E-12G-10D-8D-4F-2( 9.0 )\n",
      " ∧ not[tb4]D-60E-58F#-56G-54F#-52A-50E-48F#-44A-42E-40E-36F#-34D-32D-28E-26F#-24G-22F#-20A-18E-16E-12G-10F#-8E-6D-4D-2( 11.0 )\n",
      " ∨ [tb0]C-16D-14E-12F-10E-8G-6D-4( 5.0 )\n",
      " ∧ not[tb0]C-16D-14E-12F-10G-8C^-4( 6.0 )\n",
      " ∧ not[tb0]C-48D-46E-44F-42E-40G-38D-36E-32G-30D-28D-24E-22C-20C-16D-14E-12F-10E-8G-6D-4( 9.0 )\n",
      " ∨ [tb0]C-8D-6E-4F-2( 4.0 )\n",
      " ∧ not[tb0]G-64C^-60A-56F-54C^-52A-50G-48G-44A-40G-38F-36F-34E-32D-30C-28C-26D-24E-22F-20E-19D-18C-16C-8D-6E-4F-2( 10.0 )\n",
      " ∧ not[tb6]C-54D-52E-50F-48G-46C^-42A-38F-36C^-34A-32G-30G-26A-22G-20F-18F-16E-14D-12C-10C-8D-6E-4F-2E-1( 7.0 )\n",
      " ∨ [tb4]D-52E-50F-48E-46F-44D-40F-36G-34A-32G-30A-28A-20G-18F-16E-14F-12D-8G-4F-2( 12.0 )\n",
      " ∨ [tb4]F-64E-62D-60D-56D-52E-50F-48G-46A-44A-42A-40C^-36A#-34A-32G-30A-28F-24G-20C-18C-16C-14A-12F-10F-8G-4F-2( 17.0 )\n"
     ]
    },
    {
     "name": "stdout",
     "output_type": "stream",
     "text": [
      " ∨ [tb6]A#-64A-62F-58F-54F-52F-50A-48C^-46C^-44C^-42A-40G-38G-36C^-34A#-32A-30F-26A-22G-20F-18E-16D-14E-12F-10G-8A-6G-4F-2( 18.0 )\n",
      " ∧ not[tb0]C-8D-6E-4F-2( 6.0 )\n",
      " ∧ not[tb0]B-64E-60F#-56A-54G-52F#-50E-48E-40F#-38G-36A-34B-32E-28B-24A-22G-20F#-18E-16C-8D-6E-4F#-2( 6.0 )\n",
      " ∨ [tb4]B-64A-62G#-60E-56G#-52F#-50E-48D#-46C#-44D#-42E-40F#-38G#-36F#-34E-32D#-30C#-28C#-24G#-20F#-18E-16D#-14C#-12D#-10E-8F#-6G#-4F#-2( 11.0 )\n",
      " ∨ [tb4]B-64A-62G#-60E-56E-52E-50E-48G#-46B-44B-42B-40G#-38F#-36F#-34B-32A-30G#-28E-24G#-20F#-18E-16D#-14C#-12D#-10E-8F#-6G#-4F#-2( 18.0 )\n",
      " ∨ [tb4]B-64G#-62F#-60F#-58B-56A-54G#-52E-48E-44E-42E-40G#-38B-36B-34B-32G#-30F#-28F#-26B-24A-22G#-20E-16G#-12F#-10E-8D#-6C#-4D#-2( 17.0 )\n",
      " ∨ [tb4]G-52E-48G-44E-40D-36E-34F-32D-30E-28C-24G-20E-16G-12E-8D-4F-2( 11.0 )\n",
      " ∨ [tb0]C^-64G-60A-56G-52F-50E-48D-44C-40C^-32G-28A-24G-20F-18E-16D-12C-8( 10.0 )\n",
      " ∨ [tb0]E-56F#-54G-52F#-50G-48E-44G-40A-38B-36A-34B-32B-24A-22G-20F#-18G-16E-12A-8G-6F#-4G-2( 10.0 )\n",
      " ∧ not[tb2]F#-64F#-62F#-58D-56F#-54D-52F#-50G-48G-42A-40A-38A-37A-36A-34A#-32A#-30A#-29A#-28A#-26A#-24A-22G-20F#-18G-16G-14G-10A-8A-6A-5A-4A-2( 11.0 )\n",
      " ∧ not[tb0]E-64E-56F#-54G-52F#-50G-48E-44G-40A-38B-36A-34B-32B-24A-22G-20F#-18G-16E-12A-8G-6F#-4E-2( 22.0 )\n",
      " ∨ [tb6]A-64C^-62C^-60C^-58A-56G-54G-52C^-50A#-48A-46F-42A-38G-36F-34E-32D-30E-28F-26G-24A-22G-20F-18E-16D-14D-10A-6G-4F-2( 11.0 )\n",
      " ∨ [tb0]C^-64B-62A-60G-56A-54G-52F-50E-48D-46C-44C-40E-38G-36C^-32B-30A-28G-24A-22G-20F-18E-16D-14C-12C-8E-6G-4( 18.0 )\n",
      " ∨ [tb0]E-64E-60C#-56A-54G#-52F#-50E-48F#-46G#-44C#-40F#-38E-36D#-34C#-32C#-28C#-24B-22A-20G#-18A-16G#-14F#-12C#-8F#-6E-4D#-2( 18.0 )\n",
      " ∧ not[tb0]F-64F-62A#-60G#-58G-56D#-52D#-48D#-46D#-44G-42A#-40A#-38A#-36G-34F-32F-30A#-28G#-26G-24D#-20G-16F-14D#-12D-10C-8D-6D#-4F-2( 5.0 )\n",
      " ∨ [tb6]D-54A#-52A-50G-48F-46G-44A-42D-38G-36F-34E-32F-30F-26D-22A#-20A-18G-16F-14G-12A-10D-6G-4F-2( 11.0 )\n",
      " ∨ [tb4]F-64G-60A#-52A-50G-48A-44G-42F-40E-36F-32G-28A#-20A-18G-16A-12G-10F-8G-4F-2( 15.0 )\n",
      " ∨ [tb0]E-64D-60C-56E-48F-46G-44G-40A-38G-36E-32F-30G-28G-24A-22G-20E-16G-14F-12D-10C-8( 11.0 )\n",
      " ∨ [tb2]E-64F-62G-60A-58A-56A-54C^-50A#-48A-46G-44A-42A-38A#-34G-32G-30G-28A-26F-24F-22A-18G-16F-14E-12D-10D-6D-2( 12.0 )\n",
      " ∨ [tb2]E-64F-62E-61D-60C-58C-50D-48E-46F-44G-42C^-38A-34F-32C^-30A-28G-26G-22A-18G-16F-14F-12E-10D-8C-6C-4D-2( 10.0 )\n",
      " ∨ [tb0]G-56C^-52G-48E-44F-40E-38D-36F-34E-32C-28G-24C^-20G-16E-12F-8E-6D-4F-2( 9.0 )\n",
      " ∧ not[tb0]G-56E-52G-48E-44D-40E-38F-36D-34E-32C-28G-24E-20G-16E-12D-8F-6E-4D-2( 11.0 )\n",
      " ∧ not[tb0]C-64F-60G-56G#-52G-48E-44F-40C-32F-28G-24G#-20G-16E-12F-8( 10.0 )\n",
      " ∧ not[tb0]G-64G-60G-56C^-54B-52A-50G-48A-46G-44F-42E-40E-38D-36G-34C-32C-28C^-24C^-22B-20A-18G-16D-14E-12G-10C-8C-6D-4E-2( 10.0 )\n",
      " ∨ [tb0]C-64D-62E-60G-56C^-54B-52A-50G-48A-46G-44F-42E-40F-38E-36D-34C-32E-29C-28G-24G-22C^-20B-18A-16G-14E-12G-10C-8E-6D-4G-2( 17.0 )\n",
      " ∧ not[tb0]E-64C-60G-56C^-52G-48E-44F-40E-38D-36F-34E-32C-28F-24D-20D-18E-16C-12C-10D-8C-6D-4E-2( 13.0 )\n",
      " ∨ [tb0]E-64F-62D-60A-56G-52F-50G-48A-46F-44F-42A-40G-36F-34G-32A-30F-28F-24E-20D-18E-16F-14D-12D-10A-8G-4F-2( 17.0 )\n",
      " ∨ [tb0]E-64F-62F-60F-56C-54F-52C-50F-48E-46E-44E-40C-38E-36C-34E-32F-30F-24G-22G-20G-19G-18G-16G#-14G#-12G#-11G#-10G#-8G#-6G-4F-2( 15.0 )\n",
      "\n"
     ]
    }
   ],
   "source": [
    "player.play_note[4].print()"
   ]
  }
 ],
 "metadata": {
  "kernelspec": {
   "display_name": "Python 3",
   "language": "python",
   "name": "python3"
  },
  "language_info": {
   "codemirror_mode": {
    "name": "ipython",
    "version": 3
   },
   "file_extension": ".py",
   "mimetype": "text/x-python",
   "name": "python",
   "nbconvert_exporter": "python",
   "pygments_lexer": "ipython3",
   "version": "3.6.1"
  }
 },
 "nbformat": 4,
 "nbformat_minor": 2
}
