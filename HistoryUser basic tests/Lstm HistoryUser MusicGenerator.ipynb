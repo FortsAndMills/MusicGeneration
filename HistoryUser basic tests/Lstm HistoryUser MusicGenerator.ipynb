{
 "cells": [
  {
   "cell_type": "code",
   "execution_count": 1,
   "metadata": {},
   "outputs": [],
   "source": [
    "import tensorflow as tf\n",
    "import numpy as np"
   ]
  },
  {
   "cell_type": "code",
   "execution_count": 2,
   "metadata": {},
   "outputs": [
    {
     "name": "stdout",
     "output_type": "stream",
     "text": [
      "ERROR! out of range!\n",
      "ERROR! out of range!\n",
      "ERROR! out of range!\n"
     ]
    },
    {
     "data": {
      "text/plain": [
       "(69, 128, 13)"
      ]
     },
     "execution_count": 2,
     "metadata": {},
     "output_type": "execute_result"
    }
   ],
   "source": [
    "from songs import *\n",
    "\n",
    "# грузим все песенки и все их транспонированные версии\n",
    "Songs = []\n",
    "for i in range(1, 35):\n",
    "    song = Song('basic midi/track (' + str(i) + ').mid')\n",
    "    while song.transpose(1):\n",
    "        pass\n",
    "    \n",
    "    Songs.append(song.notes)\n",
    "    while song.transpose(-1):\n",
    "        Songs.append(song.notes)\n",
    "    \n",
    "Songs = np.array(Songs)\n",
    "Songs.shape"
   ]
  },
  {
   "cell_type": "markdown",
   "metadata": {},
   "source": [
    "## Запихиваем в HistoryUser музыку\n",
    "Архитектура в точности та же, что и в экспериментах, за тем исключением, что лосс считается по всей последовательности, а ответ - это следующий вход."
   ]
  },
  {
   "cell_type": "code",
   "execution_count": 3,
   "metadata": {
    "scrolled": true
   },
   "outputs": [],
   "source": [
    "# the input data is 128+64 random binary vectors of dimension 13\n",
    "# the output data has same dimensions; final 128 of vectors must be same as first 128 of input\n",
    "tf.reset_default_graph()\n",
    "\n",
    "# Network Parameters\n",
    "learning_rate = 0.001\n",
    "batch_size = Songs.shape[0]\n",
    "num_input = 13       # dimension of one input at moment\n",
    "timesteps = 128   # timesteps in one sequence\n",
    "num_hidden = 70      # num of lstms in first hidden layer\n",
    "num_read = 50        # num of lstms in second hidden layer\n",
    "num_final = 90       # num of lstms in final hidden layer\n",
    "history_size = 80    # how much previous moments of input is stored\n",
    "\n",
    "# tf graph input\n",
    "X = tf.placeholder(\"float\", [batch_size, timesteps, num_input])\n",
    "\n",
    "# loss will be calculated in the loop as sum of losses on each iteration\n",
    "loss_op = tf.constant(0.0)\n",
    "\n",
    "# defining first hidden layer\n",
    "with tf.variable_scope('first_lstm'):\n",
    "    first_lstm = tf.contrib.rnn.BasicLSTMCell(num_hidden, forget_bias=1.0)\n",
    "    first_lstm_state = tf.zeros([batch_size, num_hidden]), tf.zeros([batch_size, num_hidden])\n",
    "\n",
    "# defining second hidden layer\n",
    "with tf.variable_scope(\"read_lstm\"):\n",
    "    read_lstm = tf.contrib.rnn.BasicLSTMCell(num_read, forget_bias=1.0)\n",
    "    read_lstm_state = tf.zeros([batch_size, num_read]), tf.zeros([batch_size, num_read])\n",
    "\n",
    "# linear transformation of second lstm cell outputs to history size dimension vector\n",
    "read_w = tf.Variable(tf.random_normal([num_read, history_size]))\n",
    "read_b = tf.Variable(tf.random_normal([history_size]))\n",
    "\n",
    "# history is an array of previous (in time) history_size inputs\n",
    "history = tf.zeros([batch_size, num_input, history_size])\n",
    "\n",
    "# defining common hidden layer\n",
    "with tf.variable_scope(\"final_lstm\"):\n",
    "    final_lstm = tf.contrib.rnn.BasicLSTMCell(num_final, forget_bias=1.0)\n",
    "    final_lstm_state = tf.zeros([batch_size, num_final]), tf.zeros([batch_size, num_final])\n",
    "    \n",
    "# linear transformation to final output\n",
    "final_w = tf.Variable(tf.random_normal([num_final, num_input]))\n",
    "final_b = tf.Variable(tf.random_normal([num_input]))\n",
    "\n",
    "# reshaping data to (timesteps, batch_size, num_input)\n",
    "_X = tf.unstack(X, timesteps, 1)\n",
    "\n",
    "# time loop\n",
    "readings_log = []\n",
    "outputs = []\n",
    "for t, inp, truth in zip(np.arange(timesteps - 1), _X[:-1], _X[1:]):\n",
    "    # moving data through lstm layers\n",
    "    with tf.variable_scope('first_lstm'):\n",
    "        first_lstm_output, first_lstm_state = first_lstm(inp, first_lstm_state)\n",
    "    with tf.variable_scope(\"read_lstm\"):\n",
    "        read_lstm_output, read_lstm_state = read_lstm(first_lstm_output, read_lstm_state)\n",
    "    \n",
    "    # linear transformation to vector of history_size length\n",
    "    read = tf.matmul(read_lstm_output, read_w) + read_b\n",
    "    # transformation to \"probabilities\"-kind weights    \n",
    "    read_proba = tf.nn.softmax(read, 1)\n",
    "    readings_log.append(read_proba)\n",
    "    # taking selected data from memory\n",
    "    memory_retrieve = tf.matmul(history, tf.expand_dims(read_proba, 2))\n",
    "    \n",
    "    # rolling history\n",
    "    history = tf.concat([history[:, :, 1:], tf.expand_dims(inp, 2)], axis=2)\n",
    "    \n",
    "    # moving through final lstm layer\n",
    "    with tf.variable_scope(\"final_lstm\"):\n",
    "        final_lstm_output, final_lstm_state = final_lstm(tf.concat([inp, tf.squeeze(memory_retrieve, 2)], axis=1), \n",
    "                                                         final_lstm_state)\n",
    "    \n",
    "    # calculating final ans\n",
    "    output = tf.matmul(final_lstm_output, final_w) + final_b    \n",
    "    outputs.append(output)\n",
    "    \n",
    "    # calculate loss\n",
    "    loss_op += tf.reduce_mean(tf.squared_difference(output, truth))\n",
    "\n",
    "# define optimizer\n",
    "optimizer = tf.train.AdamOptimizer(learning_rate=learning_rate,\n",
    "                                   beta1=0.9,\n",
    "                                   beta2=0.999,\n",
    "                                   epsilon=1e-08,\n",
    "                                   use_locking=False,\n",
    "                                   name='Adam')\n",
    "# optimizing\n",
    "train_op = tf.contrib.layers.optimize_loss(\n",
    "                loss_op, tf.train.get_global_step(), optimizer=optimizer, learning_rate=learning_rate)\n",
    "\n",
    "init = tf.global_variables_initializer()"
   ]
  },
  {
   "cell_type": "code",
   "execution_count": 4,
   "metadata": {},
   "outputs": [],
   "source": [
    "# Start training\n",
    "config = tf.ConfigProto(log_device_placement=True)  # to output is variable on gpu or cpu\n",
    "config.gpu_options.per_process_gpu_memory_fraction = 0.4  # BlasGEMM launch failed error fix (seems like not enopugh memory on gpu)\n",
    "\n",
    "sess = tf.Session(config = config)\n",
    "# Run the initializer\n",
    "sess.run(init)\n",
    "\n",
    "losses = []"
   ]
  },
  {
   "cell_type": "code",
   "execution_count": 5,
   "metadata": {
    "scrolled": true
   },
   "outputs": [
    {
     "name": "stdout",
     "output_type": "stream",
     "text": [
      "Step 0, Minibatch Loss= 118.6448\n",
      "Step 100, Minibatch Loss= 6.1364\n",
      "Step 200, Minibatch Loss= 4.8948\n",
      "Step 300, Minibatch Loss= 4.3541\n",
      "Step 400, Minibatch Loss= 3.9581\n",
      "Step 500, Minibatch Loss= 3.5335\n",
      "Step 600, Minibatch Loss= 3.0469\n",
      "Step 700, Minibatch Loss= 2.5633\n",
      "Step 800, Minibatch Loss= 2.3136\n",
      "Step 900, Minibatch Loss= 2.4386\n",
      "Optimization Finished!\n"
     ]
    }
   ],
   "source": [
    "training_steps = 1000\n",
    "display_step = 100\n",
    "\n",
    "for step in range(0, training_steps):\n",
    "    # Run optimization op (backprop)\n",
    "    sess.run(train_op, feed_dict={X: Songs})\n",
    "    \n",
    "    # Get Loss\n",
    "    L = sess.run(loss_op, feed_dict={X: Songs})\n",
    "    losses.append(L)\n",
    "    \n",
    "    if step % display_step == 0:\n",
    "        # Calculate batch loss and accuracy        \n",
    "        print(\"Step \" + str(step) + \", Minibatch Loss= \" + \"{:.4f}\".format(L))\n",
    "\n",
    "print(\"Optimization Finished!\")"
   ]
  },
  {
   "cell_type": "markdown",
   "metadata": {},
   "source": [
    "### Кажется, мы легко переобучились..."
   ]
  },
  {
   "cell_type": "code",
   "execution_count": 6,
   "metadata": {},
   "outputs": [
    {
     "name": "stdout",
     "output_type": "stream",
     "text": [
      "forgot to print loss on final step:  1.89025\n"
     ]
    }
   ],
   "source": [
    "print(\"forgot to print loss on final step: \", L)"
   ]
  },
  {
   "cell_type": "markdown",
   "metadata": {},
   "source": [
    "### ОЧЕНЬ хорошо"
   ]
  },
  {
   "cell_type": "markdown",
   "metadata": {},
   "source": [
    "## Посмотрим, что получилось на примере кузнечика"
   ]
  },
  {
   "cell_type": "code",
   "execution_count": 42,
   "metadata": {},
   "outputs": [],
   "source": [
    "import matplotlib.pyplot as plt\n",
    "%matplotlib inline\n",
    "\n",
    "def draw(data, outp, scalex=192.0 / 7, scaley=30.0 / 7):\n",
    "    f, (ax1, ax2) = plt.subplots(2, 1, sharey=True, figsize=(scalex, scaley))\n",
    "    f.subplots_adjust(hspace=0)\n",
    "    ax1.set_title(\"true data\")\n",
    "    ax1.imshow(data.T, aspect='auto')\n",
    "    ax2.set_title(\"output\", y = -0.3)\n",
    "    ax2.imshow(outp.T, aspect='auto')\n",
    "    ax2.set_xticks(np.arange(0, 128, 4))\n",
    "    plt.show()\n",
    "    \n",
    "def drawr(readings, scalex=192.0 / 10, scaley=80.0 / 10):\n",
    "    plt.figure(figsize=(scalex, scaley))\n",
    "    plt.title(\"readings\")\n",
    "    plt.imshow(readings.T, aspect='auto')\n",
    "    plt.xlabel(\"time\")\n",
    "    plt.xticks(np.arange(0, 128, 4))\n",
    "    plt.show()"
   ]
  },
  {
   "cell_type": "code",
   "execution_count": 8,
   "metadata": {},
   "outputs": [
    {
     "data": {
      "text/plain": [
       "[<matplotlib.lines.Line2D at 0x1614edbf278>]"
      ]
     },
     "execution_count": 8,
     "metadata": {},
     "output_type": "execute_result"
    },
    {
     "data": {
      "image/png": "[encoded data removed]",
      "text/plain": [
       "<matplotlib.figure.Figure at 0x1617adad128>"
      ]
     },
     "metadata": {},
     "output_type": "display_data"
    }
   ],
   "source": [
    "plt.plot(losses)  # потери при обучении"
   ]
  },
  {
   "cell_type": "code",
   "execution_count": 9,
   "metadata": {},
   "outputs": [
    {
     "data": {
      "text/plain": [
       "(127, 69, 13)"
      ]
     },
     "execution_count": 9,
     "metadata": {},
     "output_type": "execute_result"
    }
   ],
   "source": [
    "outp = np.array(sess.run(outputs, feed_dict={X: Songs}))\n",
    "outp.shape"
   ]
  },
  {
   "cell_type": "code",
   "execution_count": 11,
   "metadata": {},
   "outputs": [
    {
     "data": {
      "text/plain": [
       "(69, 127, 13)"
      ]
     },
     "execution_count": 11,
     "metadata": {},
     "output_type": "execute_result"
    }
   ],
   "source": [
    "outp = np.rollaxis(outp, 1)  # выходов 127, потому что первый вход мы не предсказываем\n",
    "outp.shape"
   ]
  },
  {
   "cell_type": "markdown",
   "metadata": {},
   "source": [
    "Сравним кузнечика и предсказания сети. Помним, что мы вроде как переобучились."
   ]
  },
  {
   "cell_type": "code",
   "execution_count": 49,
   "metadata": {},
   "outputs": [
    {
     "data": {
      "image/png": "[encoded data removed]",
      "text/plain": [
       "<matplotlib.figure.Figure at 0x161513ee748>"
      ]
     },
     "metadata": {},
     "output_type": "display_data"
    }
   ],
   "source": [
    "draw(Songs[0, 1:, :], outp[0, :, :], scalex=192.0 / 5, scaley=30.0 / 5)"
   ]
  },
  {
   "cell_type": "markdown",
   "metadata": {},
   "source": [
    "Отлично видно, что повторения (32-64, 96-128) предсказываются лучше, чем первые итерации."
   ]
  },
  {
   "cell_type": "code",
   "execution_count": 18,
   "metadata": {},
   "outputs": [
    {
     "data": {
      "text/plain": [
       "(127, 69, 80)"
      ]
     },
     "execution_count": 18,
     "metadata": {},
     "output_type": "execute_result"
    }
   ],
   "source": [
    "readings = np.array(sess.run(readings_log, feed_dict={X: Songs}))\n",
    "readings.shape"
   ]
  },
  {
   "cell_type": "code",
   "execution_count": 43,
   "metadata": {
    "scrolled": false
   },
   "outputs": [
    {
     "data": {
      "image/png": "[encoded data removed]",
      "text/plain": [
       "<matplotlib.figure.Figure at 0x161509c6518>"
      ]
     },
     "metadata": {},
     "output_type": "display_data"
    }
   ],
   "source": [
    "drawr(readings[:, 0, :], scalex=192.0 / 7, scaley=80.0 / 7)  # график вектора считывания для кузнечика"
   ]
  },
  {
   "cell_type": "markdown",
   "metadata": {},
   "source": [
    "на рисунке выше есть проблемы с вертикальной осью. Это plt.imshow() прикалывается: она по идее не от 0 до 80, а наоборот должна идти.\n",
    "\n",
    "Далее, в 0-ом элементе \"истории\" лежит то, что относительно предсказания было 2 момента времени назад (то, что было 1 момент времени назад, подаётся на вход).\n",
    "\n",
    "Посмотрим, куда в историю он смотрит \"чаще\" всего"
   ]
  },
  {
   "cell_type": "code",
   "execution_count": 47,
   "metadata": {},
   "outputs": [
    {
     "data": {
      "text/plain": [
       "<Container object of 80 artists>"
      ]
     },
     "execution_count": 47,
     "metadata": {},
     "output_type": "execute_result"
    },
    {
     "data": {
      "image/png": "[encoded data removed]",
      "text/plain": [
       "<matplotlib.figure.Figure at 0x16150f388d0>"
      ]
     },
     "metadata": {},
     "output_type": "display_data"
    }
   ],
   "source": [
    "plt.figure(figsize=(14, 8))\n",
    "plt.bar(np.arange(0, 80)[::-1] + 2, readings[:, :, :].mean(axis=0).mean(axis=0))"
   ]
  },
  {
   "cell_type": "markdown",
   "metadata": {},
   "source": [
    "Не понимаю, почему 31 и 63... Должно быть 32 и 64 =D Куда-то девается ещё один индекс?.."
   ]
  },
  {
   "cell_type": "markdown",
   "metadata": {},
   "source": [
    "# Генерация\n",
    "\n",
    "Код пока не предусматривает генерацию на ходу, поэтому будет немного извращений... batch_size тоже фиксированный, потому что иначе batch_matmul-у в тензорфлоу что-то не нравится, так что будем генерить сразу 69 песенок...\n",
    "\n",
    "Процесс генерации пока от балды - каждой ноте нейронка выдаёт какое-то число, скорее всего ближе к нулю или единице, и непонятно, сколько нот нужно брать, например."
   ]
  },
  {
   "cell_type": "code",
   "execution_count": 110,
   "metadata": {},
   "outputs": [],
   "source": [
    "notes = np.zeros((69, 128, 13))\n",
    "notes[np.arange(69), np.zeros(69, dtype=int), np.random.randint(0, 13, size=69)] = 1  # first note is one and random"
   ]
  },
  {
   "cell_type": "code",
   "execution_count": 111,
   "metadata": {},
   "outputs": [],
   "source": [
    "for t in range(127):\n",
    "    outp = np.array(sess.run(outputs, feed_dict={X: notes}))\n",
    "    outp = np.rollaxis(outp, 1)\n",
    "    is_note = np.random.uniform(size=69) < outp[:, t].sum(axis=1)\n",
    "    \n",
    "    outp[outp < 0] = 0\n",
    "    outp[outp > 1] = 1\n",
    "    outp /= outp.sum(axis=2)[:,:,None]\n",
    "\n",
    "    next_note = np.zeros((69, 13))\n",
    "    for i in range(69):\n",
    "        if is_note[i]:\n",
    "            next_note[i, np.random.choice(np.arange(13), p=outp[i, t])] = 1\n",
    "    notes[:, t+1, :] = next_note"
   ]
  },
  {
   "cell_type": "code",
   "execution_count": 124,
   "metadata": {},
   "outputs": [],
   "source": [
    "MySong(notes[8]).play()  # играем песенку"
   ]
  },
  {
   "cell_type": "code",
   "execution_count": 122,
   "metadata": {},
   "outputs": [],
   "source": [
    "# сохраняем в файл\n",
    "#MySong(notes[6]).save_file(\"HistoryUser(2-layer LSTM) united with inputs (1-layer LSTM) trained on 35 songs (good example).mid\")"
   ]
  }
 ],
 "metadata": {
  "kernelspec": {
   "display_name": "Python 3",
   "language": "python",
   "name": "python3"
  },
  "language_info": {
   "codemirror_mode": {
    "name": "ipython",
    "version": 3
   },
   "file_extension": ".py",
   "mimetype": "text/x-python",
   "name": "python",
   "nbconvert_exporter": "python",
   "pygments_lexer": "ipython3",
   "version": "3.6.3"
  }
 },
 "nbformat": 4,
 "nbformat_minor": 2
}
