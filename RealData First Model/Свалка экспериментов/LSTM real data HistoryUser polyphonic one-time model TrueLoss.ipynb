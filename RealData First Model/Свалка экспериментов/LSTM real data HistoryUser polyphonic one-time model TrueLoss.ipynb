{
 "cells": [
  {
   "cell_type": "code",
   "execution_count": 1,
   "metadata": {},
   "outputs": [],
   "source": [
    "import tensorflow as tf\n",
    "import numpy as np"
   ]
  },
  {
   "cell_type": "code",
   "execution_count": 2,
   "metadata": {},
   "outputs": [],
   "source": [
    "HISTORY_TIMES = [3, 7, 15, 31, 47, 63, 95, 127]\n",
    "\n",
    "PIECES = 64\n",
    "\n",
    "ADDITIONAL_INPUT_SIZE = 6\n",
    "\n",
    "voices = 5"
   ]
  },
  {
   "cell_type": "code",
   "execution_count": 30,
   "metadata": {},
   "outputs": [],
   "source": [
    "import itertools\n",
    "Y_combinations = []\n",
    "comb_ids = []\n",
    "for i in itertools.product([0, 1], repeat=12):\n",
    "    if np.array(i).sum() > 5:\n",
    "        comb_ids.append(0)\n",
    "    else:\n",
    "        comb_ids.append(len(Y_combinations))\n",
    "        y = np.append(np.array(i), 1)\n",
    "        y_combs = [y.copy()]\n",
    "\n",
    "        ones = np.array(i).nonzero()[0]\n",
    "\n",
    "        if len(ones) > 5:\n",
    "            while len(y_combs) < 32:\n",
    "                y_combs.append(np.zeros((13)))\n",
    "        else:\n",
    "            for a in range(len(ones)):\n",
    "                y_combs.append(y.copy())\n",
    "                y_combs[-1][ones[a]] = 0\n",
    "            while len(y_combs) < 1 + 5:\n",
    "                y_combs.append(np.zeros((13)))\n",
    "\n",
    "            for a in range(len(ones)):\n",
    "                for b in range(a+1, len(ones)):\n",
    "                    y_combs.append(y.copy())\n",
    "                    y_combs[-1][ones[a]] = 0\n",
    "                    y_combs[-1][ones[b]] = 0\n",
    "            while len(y_combs) < 1 + 5 + 10:\n",
    "                y_combs.append(np.zeros((13)))\n",
    "\n",
    "            for a in range(len(ones)):\n",
    "                for b in range(a+1, len(ones)):\n",
    "                    for c in range(b+1, len(ones)):\n",
    "                        y_combs.append(y.copy())\n",
    "                        y_combs[-1][ones[a]] = 0\n",
    "                        y_combs[-1][ones[b]] = 0\n",
    "                        y_combs[-1][ones[c]] = 0\n",
    "            while len(y_combs) < 1 + 5 + 10 + 10:\n",
    "                y_combs.append(np.zeros((13)))\n",
    "\n",
    "            for a in range(len(ones)):\n",
    "                for b in range(a+1, len(ones)):\n",
    "                    for c in range(b+1, len(ones)):\n",
    "                        for d in range(c+1, len(ones)):\n",
    "                            y_combs.append(y.copy())\n",
    "                            y_combs[-1][ones[a]] = 0\n",
    "                            y_combs[-1][ones[b]] = 0\n",
    "                            y_combs[-1][ones[c]] = 0\n",
    "                            y_combs[-1][ones[d]] = 0\n",
    "            while len(y_combs) < 1 + 5 + 10 + 10 + 5:\n",
    "                y_combs.append(np.zeros((13)))\n",
    "\n",
    "            y_combs.append(np.zeros((13)))   \n",
    "            if len(ones) == 5:\n",
    "                y_combs[-1][-1] = 1\n",
    "\n",
    "        Y_combinations.append(y_combs)\n",
    "        \n",
    "Y_combinations = np.array(Y_combinations, dtype=np.float32)\n",
    "comb_ids = np.array(comb_ids)\n",
    "Signs = np.array([+1,\n",
    "                  -1, -1, -1, -1, -1,\n",
    "                  +1, +1, +1, +1, +1, +1, +1, +1, +1, +1,\n",
    "                  -1, -1, -1, -1, -1, -1, -1, -1, -1, -1,\n",
    "                  +1, +1, +1, +1, +1,\n",
    "                  -1])"
   ]
  },
  {
   "cell_type": "code",
   "execution_count": 64,
   "metadata": {},
   "outputs": [],
   "source": [
    "tf.reset_default_graph()\n",
    "\n",
    "# Training Parameters\n",
    "learning_rate = tf.constant(0.001, dtype=tf.float32)\n",
    "batch_size = 25\n",
    "epsilon = 1e-06\n",
    "batch_loss = 80\n",
    "\n",
    "# Network Parameters\n",
    "num_input = 12 + ADDITIONAL_INPUT_SIZE  # размер первого слоя\n",
    "num_hidden_local = 100                  # размер второго слоя\n",
    "num_hidden_read = 100                   # размер контроллера для внимания\n",
    "num_hidden_aggreg = 100                 # размер агрегирующего слоя\n",
    "num_hidden_voicegen = 40                # размер каждого генератора голоса\n",
    "num_output = 12                         # размер выхода\n",
    "\n",
    "num_hidden_decoder = 100                # размер скрытого слоя декодера\n",
    "num_decoder_output = 88                 # размер выхода декодера\n",
    "\n",
    "# Вход графа вычислений: песня, вектора истории для каждого момента времени, комбинации\n",
    "X = tf.placeholder(dtype=tf.float32, shape=[batch_size, None, num_input])\n",
    "History = tf.placeholder(dtype=tf.float32, shape=[batch_size, None, len(HISTORY_TIMES), num_output])\n",
    "Combinations = tf.placeholder(dtype=tf.float32, shape=[batch_size, None, 2**voices, num_output+1])\n",
    "Batched_Loss_Combinations = tf.placeholder(dtype=tf.float32, shape=[batch_size, None, batch_loss, 2**voices, num_output+1])\n",
    "\n",
    "# второй слой\n",
    "with tf.variable_scope(\"local\"):\n",
    "    local_lstm = tf.contrib.rnn.MultiRNNCell([tf.contrib.rnn.LSTMCell(num_hidden_local, forget_bias=1.0)])\n",
    "    local_lstm_outputs, _ = tf.nn.dynamic_rnn(local_lstm, X[:, :-1], dtype=tf.float32)\n",
    "\n",
    "# чтение из истории\n",
    "with tf.variable_scope(\"global\"):\n",
    "    read_lstm = tf.contrib.rnn.MultiRNNCell([tf.contrib.rnn.LSTMCell(num_hidden_read, forget_bias=1.0)])\n",
    "    read_lstm_outputs, _ = tf.nn.dynamic_rnn(read_lstm, X[:, :-1], dtype=tf.float32)\n",
    "read_index = tf.nn.softmax(tf.layers.dense(read_lstm_outputs, len(HISTORY_TIMES), activation=None))\n",
    "read = tf.reduce_mean(tf.expand_dims(read_index, 3) * History[:, :-1], axis=2)\n",
    "\n",
    "# агрегация локальных и глобальных зависимостей\n",
    "with tf.variable_scope(\"aggreg\"):\n",
    "    aggreg_lstm = tf.contrib.rnn.MultiRNNCell([tf.contrib.rnn.LSTMCell(num_hidden_aggreg, forget_bias=1.0)])\n",
    "    aggreg_lstm_outputs, _ = tf.nn.dynamic_rnn(aggreg_lstm, tf.concat([read, local_lstm_outputs], axis=2), dtype=tf.float32)\n",
    "\n",
    "# сюда будем складывать вероятности, с которым генерится каждый голос\n",
    "voices_proba = []\n",
    "\n",
    "# если этот флаг true, то на вход уже даны результаты сэмплирования из распределений голосов в truly_sampled_notes\n",
    "was_sampled_notes_given = tf.placeholder(tf.bool)\n",
    "truly_sampled_notes = tf.zeros([voices, batch_size, tf.shape(X)[1] - 2, num_output], dtype=tf.float32)\n",
    "# сюда для удобства складываем то, что сэмплируется для каждого голоса\n",
    "sampled_notes_by_voices = []\n",
    "# результат сэмплирования (просто объединение элементов sampled_notes_by_voices)\n",
    "sampled_notes = tf.zeros([batch_size, tf.shape(X)[1] - 1, num_output], dtype=tf.float32)\n",
    "\n",
    "for v in range(voices):\n",
    "    # пихаем в персональный микролстм\n",
    "    with tf.variable_scope(\"voicegen\" + str(v)):\n",
    "        voicegen_lstm = tf.contrib.rnn.MultiRNNCell([tf.contrib.rnn.LSTMCell(num_hidden_voicegen, forget_bias=1.0)])\n",
    "        voicegen_lstm_outputs, _ = tf.nn.dynamic_rnn(voicegen_lstm, tf.concat([aggreg_lstm_outputs, sampled_notes], axis=2), dtype=tf.float32)\n",
    "    \n",
    "        # линейно преобразуем к 13 числам и берём софтмакс. Это распределение, из которого надо сэмплировать очередную ноту\n",
    "        voices_proba.append(tf.nn.softmax(tf.layers.dense(voicegen_lstm_outputs, (num_output+1), activation=None)))\n",
    "    \n",
    "    # зануляем те вероятности, которые, согласно правильному ответу, не могли засэмплироваться.\n",
    "    aposter = tf.where(tf.cast(tf.concat([X[:, 1:, :num_output], tf.ones([batch_size, tf.shape(X)[1] - 1, 1])], axis=2), tf.bool), \n",
    "                       voices_proba[-1], tf.zeros([batch_size, tf.shape(X)[1] - 1, num_output+1], dtype=tf.float32))\n",
    "    # сэмплируем для каждого батча и момента времени (из-за этого понадобилось два решэйпа) и преобразуем в one-hot\n",
    "    sampled = tf.one_hot(\n",
    "            # tf.multinomial is not working with 2D-batches...\n",
    "            tf.reshape(tf.multinomial(logits=tf.reshape(tf.log(aposter), [-1, num_output+1]), num_samples=1), \n",
    "                                       [batch_size, -1]), depth=num_output)\n",
    "    # мы либо знаем, какая нота сгенерилась в этом голосе, по входу, либо берём те, что сгенерировались сейчас\n",
    "    sampled_notes_by_voices.append(tf.cond(was_sampled_notes_given, \n",
    "                                           lambda: tf.concat([truly_sampled_notes[v], sampled[:, -1:]], axis=1), \n",
    "                                           lambda: sampled))\n",
    "    \n",
    "    # итого мы засэмплировали ноту, если засэмплировали её раньше, или засэмплировали сейчас.\n",
    "    sampled_notes = tf.stop_gradient(tf.where(tf.cast(sampled_notes, tf.bool), sampled_notes, sampled_notes_by_voices[-1]))\n",
    "    # если мы обучаемся, already_sampled совпадает с sampled_notes. Иначе нужно использовать те результаты сэмплирования, которые дают\n",
    "\n",
    "# получаем матрицу вероятностей сэмплирования нот: batch_size x timesteps x notes x voices\n",
    "V = tf.transpose(tf.convert_to_tensor(voices_proba, dtype=tf.float32), [1, 2, 3, 0])\n",
    "\n",
    "# получаем вероятности каждого из 4096 случаев (за исключением заведомо невозможных из-за ограничения в 5 голосов)\n",
    "p = tf.matmul(\n",
    "        tf.reduce_prod(\n",
    "            tf.matmul(Batched_Loss_Combinations[:, 1:],\n",
    "                      tf.tile(V[:, :, None], [1, 1, batch_loss, 1, 1])),\n",
    "            axis = 4),\n",
    "        tf.tile(tf.constant(Signs[None, None, :, None], dtype=tf.float32), [batch_size, tf.shape(V)[1], 1, 1]))\n",
    "clip_p = tf.squeeze(tf.clip_by_value(p, epsilon, 1 - epsilon), axis=3)\n",
    "\n",
    "# рассчитываем вероятность того, что засэмплируется именно то, что было в данных.\n",
    "p_of_truth = tf.matmul(tf.reduce_prod(tf.matmul(Combinations[:, 1:], V), axis=3), \n",
    "                       tf.tile(tf.constant(Signs[None, :, None], dtype=tf.float32), [batch_size, 1, 1]))\n",
    "clip_p_of_truth = tf.clip_by_value(p_of_truth, epsilon, 1 - epsilon)\n",
    "\n",
    "ce = -tf.concat([tf.log(clip_p_of_truth), tf.log(1 - clip_p)], axis=2)\n",
    "loss_op = tf.reduce_mean(ce)\n",
    "\n",
    "# DECODER --------------\n",
    "\n",
    "DecodedX = tf.placeholder(dtype=tf.float32, shape=[batch_size, None, num_decoder_output])\n",
    "DecoderInput = tf.concat([DecodedX[:, :-1], X[:, 1:, -ADDITIONAL_INPUT_SIZE:],\n",
    "                          tf.cond(was_sampled_notes_given, lambda: sampled_notes, lambda: X[:, 1:, :-ADDITIONAL_INPUT_SIZE])], axis=2)\n",
    "with tf.variable_scope(\"decoder\"):\n",
    "    decoder_lstm = tf.contrib.rnn.MultiRNNCell([tf.contrib.rnn.LSTMCell(num_hidden_decoder, forget_bias=1.0)])\n",
    "    decoder_lstm_outputs, _ = tf.nn.dynamic_rnn(decoder_lstm, tf.concat([DecodedX[:, :-1], X[:, 1:]], axis=2), dtype=tf.float32)\n",
    "\n",
    "decoder_p = tf.layers.dense(decoder_lstm_outputs, num_decoder_output, activation=None)\n",
    "\n",
    "decoder_ce = tf.nn.sigmoid_cross_entropy_with_logits(logits=decoder_p, labels=DecodedX[:, 1:])\n",
    "loss_op += tf.reduce_mean(decoder_ce * \n",
    "            tf.tile(tf.cond(was_sampled_notes_given, lambda: sampled_notes, \n",
    "                            lambda: X[:, 1:, :-ADDITIONAL_INPUT_SIZE]), [1,1,8])[:,:,:num_decoder_output])\n",
    "    \n",
    "# define optimizer\n",
    "optimizer = tf.train.AdamOptimizer(learning_rate=learning_rate)\n",
    "gvs = optimizer.compute_gradients(loss_op)\n",
    "capped_gvs = [(tf.clip_by_value(grad, -1., 1.), var) for grad, var in gvs]\n",
    "train_op = optimizer.apply_gradients(capped_gvs)\n",
    "\n",
    "#optimizing\n",
    "#train_op = tf.contrib.layers.optimize_loss(\n",
    "#                loss_op, tf.train.get_global_step(), optimizer=optimizer, learning_rate=learning_rate)\n",
    "\n",
    "init = tf.global_variables_initializer()"
   ]
  },
  {
   "cell_type": "code",
   "execution_count": 65,
   "metadata": {},
   "outputs": [],
   "source": [
    "# Start training, device_count = {\"GPU\": 0}\n",
    "config = tf.ConfigProto(log_device_placement=True)  # to output is variable on gpu or cpu\n",
    "config.gpu_options.per_process_gpu_memory_fraction = 0.6  # BlasGEMM launch failed error fix (seems like not enopugh memory on gpu)\n",
    "sess = tf.Session(config = config)\n",
    "saver = tf.train.Saver()"
   ]
  },
  {
   "cell_type": "code",
   "execution_count": 66,
   "metadata": {},
   "outputs": [],
   "source": [
    "# Run the initializer\n",
    "sess.run(init)"
   ]
  },
  {
   "cell_type": "code",
   "execution_count": 7,
   "metadata": {},
   "outputs": [],
   "source": [
    "import matplotlib.pyplot as plt\n",
    "%matplotlib inline\n",
    "\n",
    "def drawNotes(song, name=\"\", scale=(None, None)):\n",
    "    if scale[0] is None:\n",
    "        scale = (song.shape[0] / 10, song.shape[1] / 10)\n",
    "    \n",
    "    plt.figure(figsize=scale)\n",
    "    plt.title(name)\n",
    "    plt.imshow(song.T, aspect='auto', origin='lower')\n",
    "    plt.xlabel(\"time\")\n",
    "    plt.xticks(np.arange(0, song.shape[0], 4))\n",
    "    plt.show()"
   ]
  },
  {
   "cell_type": "code",
   "execution_count": 8,
   "metadata": {},
   "outputs": [],
   "source": [
    "songs = np.load(\"CP_dataset.npy\")"
   ]
  },
  {
   "cell_type": "code",
   "execution_count": 9,
   "metadata": {},
   "outputs": [],
   "source": [
    "times = [np.array(t) for t in itertools.product([0, 1], repeat=ADDITIONAL_INPUT_SIZE)]*1000"
   ]
  },
  {
   "cell_type": "code",
   "execution_count": 10,
   "metadata": {},
   "outputs": [],
   "source": [
    "def transform(song, stack_zeros=True):    \n",
    "    wh = song[:, :12]\n",
    "    for i in range(1,7):\n",
    "        wh = np.logical_or(wh, song[:, 12*i:12*i+12])\n",
    "    \n",
    "    temp = wh.copy()\n",
    "    for t in HISTORY_TIMES:\n",
    "        h = np.roll(temp, t, axis=0)\n",
    "        h[:t] = 0\n",
    "        wh = np.concatenate([wh, h], axis=1)\n",
    "          \n",
    "    wh = np.concatenate([wh, times[:song.shape[0]]], axis=1)\n",
    "            \n",
    "    return wh\n",
    "\n",
    "hsongs = []\n",
    "decoded = []\n",
    "for song in songs:\n",
    "    t = transform(song)\n",
    "    for i in range(0, t.shape[0] - PIECES, 32):\n",
    "        hsongs.append(t[i:i+PIECES])\n",
    "        decoded.append(song[i:i+PIECES])\n",
    "hsongs = np.array(hsongs)\n",
    "decoded = np.array(decoded)"
   ]
  },
  {
   "cell_type": "code",
   "execution_count": 34,
   "metadata": {},
   "outputs": [],
   "source": [
    "def generateBatch():\n",
    "    indexes = np.random.choice(np.arange(len(hsongs)), batch_size)\n",
    "    batch, decoded_batch = hsongs[indexes], decoded[indexes]    \n",
    "    tbatch = batch[:, :, :-ADDITIONAL_INPUT_SIZE].reshape((batch_size, PIECES, -1, 12))\n",
    "    to_roll = np.random.randint(-6, 6)\n",
    "    if to_roll > 0:\n",
    "        decoded_batch[:, :, -to_roll:] = 0\n",
    "    else:\n",
    "        decoded_batch[:, :, :-to_roll] = 0\n",
    "    tbatch = np.roll(tbatch, to_roll, axis=3)\n",
    "    decoded_batch = np.roll(decoded_batch, to_roll, axis=2)\n",
    "    ans = np.concatenate([tbatch.reshape((batch_size, PIECES, -1)), batch[:, :, -ADDITIONAL_INPUT_SIZE:]], axis=2)\n",
    "    \n",
    "    cids = comb_ids[ans[:, :, :12].dot(2**np.arange(12)[::-1])]    \n",
    "    sampled_losses = Y_combinations[np.array([[\n",
    "        np.random.choice(np.delete(np.arange(Y_combinations.shape[0]), cids[i]), replace=False, size=(batch_loss)) for j in range(ans.shape[1])] for i in range(batch_size)])]\n",
    "    \n",
    "    return (np.concatenate([ans[:, :, :12], ans[:, :, -ADDITIONAL_INPUT_SIZE:]], axis=2), \n",
    "            ans[:, :, 12:-ADDITIONAL_INPUT_SIZE].reshape(batch_size, PIECES, len(HISTORY_TIMES), 12), \n",
    "            Y_combinations[cids],\n",
    "            decoded_batch,\n",
    "            sampled_losses)"
   ]
  },
  {
   "cell_type": "code",
   "execution_count": 67,
   "metadata": {},
   "outputs": [
    {
     "name": "stdout",
     "output_type": "stream",
     "text": [
      "INFO:tensorflow:Restoring parameters from ./tmp/100-100-100 HistoryUserScheme LSTM collapsed CP_dataset songs by fragments 9-history 6-times 5-40LSTMconditionalvoices TrulyTrueLoss 100-decoder lr=0.01.ckpt\n"
     ]
    }
   ],
   "source": [
    "saver.restore(sess, \"./tmp/100-100-100 HistoryUserScheme LSTM collapsed CP_dataset songs by fragments 9-history 6-times 5-40LSTMconditionalvoices TrulyTrueLoss 100-decoder lr=0.01.ckpt\")"
   ]
  },
  {
   "cell_type": "code",
   "execution_count": 68,
   "metadata": {
    "scrolled": true
   },
   "outputs": [
    {
     "name": "stdout",
     "output_type": "stream",
     "text": [
      "0.0215819  mean for last:  0.0223927\n"
     ]
    },
    {
     "data": {
      "image/png": "[encoded data removed]",
      "text/plain": [
       "<matplotlib.figure.Figure at 0x2322252acc0>"
      ]
     },
     "metadata": {},
     "output_type": "display_data"
    },
    {
     "data": {
      "image/png": "[encoded data removed]",
      "text/plain": [
       "<matplotlib.figure.Figure at 0x23294391da0>"
      ]
     },
     "metadata": {},
     "output_type": "display_data"
    },
    {
     "data": {
      "image/png": "[encoded data removed]",
      "text/plain": [
       "<matplotlib.figure.Figure at 0x2321cdd4e48>"
      ]
     },
     "metadata": {},
     "output_type": "display_data"
    },
    {
     "data": {
      "image/png": "[encoded data removed]",
      "text/plain": [
       "<matplotlib.figure.Figure at 0x23296b472b0>"
      ]
     },
     "metadata": {},
     "output_type": "display_data"
    },
    {
     "data": {
      "image/png": "[encoded data removed]",
      "text/plain": [
       "<matplotlib.figure.Figure at 0x2321cffaf98>"
      ]
     },
     "metadata": {},
     "output_type": "display_data"
    },
    {
     "data": {
      "image/png": "[encoded data removed]",
      "text/plain": [
       "<matplotlib.figure.Figure at 0x2321b03cef0>"
      ]
     },
     "metadata": {},
     "output_type": "display_data"
    },
    {
     "data": {
      "image/png": "[encoded data removed]",
      "text/plain": [
       "<matplotlib.figure.Figure at 0x2321b003518>"
      ]
     },
     "metadata": {},
     "output_type": "display_data"
    },
    {
     "data": {
      "image/png": "[encoded data removed]",
      "text/plain": [
       "<matplotlib.figure.Figure at 0x2321d0cd5c0>"
      ]
     },
     "metadata": {},
     "output_type": "display_data"
    },
    {
     "data": {
      "image/png": "[encoded data removed]",
      "text/plain": [
       "<matplotlib.figure.Figure at 0x2321adc3198>"
      ]
     },
     "metadata": {},
     "output_type": "display_data"
    },
    {
     "ename": "KeyboardInterrupt",
     "evalue": "",
     "output_type": "error",
     "traceback": [
      "\u001b[1;31m---------------------------------------------------------------------------\u001b[0m",
      "\u001b[1;31mKeyboardInterrupt\u001b[0m                         Traceback (most recent call last)",
      "\u001b[1;32m<ipython-input-68-e69214691f07>\u001b[0m in \u001b[0;36m<module>\u001b[1;34m()\u001b[0m\n\u001b[0;32m     10\u001b[0m \u001b[1;33m\u001b[0m\u001b[0m\n\u001b[0;32m     11\u001b[0m     \u001b[0mfd\u001b[0m \u001b[1;33m=\u001b[0m \u001b[1;33m{\u001b[0m\u001b[0mX\u001b[0m\u001b[1;33m:\u001b[0m \u001b[0mbatch_x\u001b[0m\u001b[1;33m,\u001b[0m \u001b[0mHistory\u001b[0m\u001b[1;33m:\u001b[0m \u001b[0mbatch_h\u001b[0m\u001b[1;33m,\u001b[0m \u001b[0mCombinations\u001b[0m\u001b[1;33m:\u001b[0m \u001b[0mbatch_c\u001b[0m\u001b[1;33m,\u001b[0m \u001b[0mwas_sampled_notes_given\u001b[0m\u001b[1;33m:\u001b[0m \u001b[1;32mFalse\u001b[0m\u001b[1;33m,\u001b[0m \u001b[0mDecodedX\u001b[0m\u001b[1;33m:\u001b[0m \u001b[0mbatch_d\u001b[0m\u001b[1;33m,\u001b[0m \u001b[0mBatched_Loss_Combinations\u001b[0m \u001b[1;33m:\u001b[0m \u001b[0mbatch_l\u001b[0m\u001b[1;33m}\u001b[0m\u001b[1;33m\u001b[0m\u001b[0m\n\u001b[1;32m---> 12\u001b[1;33m     \u001b[0m_\u001b[0m\u001b[1;33m,\u001b[0m \u001b[0mL\u001b[0m \u001b[1;33m=\u001b[0m \u001b[0msess\u001b[0m\u001b[1;33m.\u001b[0m\u001b[0mrun\u001b[0m\u001b[1;33m(\u001b[0m\u001b[1;33m[\u001b[0m\u001b[0mtrain_op\u001b[0m\u001b[1;33m,\u001b[0m \u001b[0mce\u001b[0m\u001b[1;33m]\u001b[0m\u001b[1;33m,\u001b[0m \u001b[0mfeed_dict\u001b[0m\u001b[1;33m=\u001b[0m\u001b[0mfd\u001b[0m\u001b[1;33m)\u001b[0m\u001b[1;33m\u001b[0m\u001b[0m\n\u001b[0m\u001b[0;32m     13\u001b[0m     \u001b[0mlosses\u001b[0m\u001b[1;33m.\u001b[0m\u001b[0mappend\u001b[0m\u001b[1;33m(\u001b[0m\u001b[0mL\u001b[0m\u001b[1;33m.\u001b[0m\u001b[0mmean\u001b[0m\u001b[1;33m(\u001b[0m\u001b[1;33m)\u001b[0m\u001b[1;33m)\u001b[0m\u001b[1;33m\u001b[0m\u001b[0m\n\u001b[0;32m     14\u001b[0m \u001b[1;33m\u001b[0m\u001b[0m\n",
      "\u001b[1;32mC:\\ProgramData\\Anaconda3\\lib\\site-packages\\tensorflow\\python\\client\\session.py\u001b[0m in \u001b[0;36mrun\u001b[1;34m(self, fetches, feed_dict, options, run_metadata)\u001b[0m\n\u001b[0;32m    887\u001b[0m     \u001b[1;32mtry\u001b[0m\u001b[1;33m:\u001b[0m\u001b[1;33m\u001b[0m\u001b[0m\n\u001b[0;32m    888\u001b[0m       result = self._run(None, fetches, feed_dict, options_ptr,\n\u001b[1;32m--> 889\u001b[1;33m                          run_metadata_ptr)\n\u001b[0m\u001b[0;32m    890\u001b[0m       \u001b[1;32mif\u001b[0m \u001b[0mrun_metadata\u001b[0m\u001b[1;33m:\u001b[0m\u001b[1;33m\u001b[0m\u001b[0m\n\u001b[0;32m    891\u001b[0m         \u001b[0mproto_data\u001b[0m \u001b[1;33m=\u001b[0m \u001b[0mtf_session\u001b[0m\u001b[1;33m.\u001b[0m\u001b[0mTF_GetBuffer\u001b[0m\u001b[1;33m(\u001b[0m\u001b[0mrun_metadata_ptr\u001b[0m\u001b[1;33m)\u001b[0m\u001b[1;33m\u001b[0m\u001b[0m\n",
      "\u001b[1;32mC:\\ProgramData\\Anaconda3\\lib\\site-packages\\tensorflow\\python\\client\\session.py\u001b[0m in \u001b[0;36m_run\u001b[1;34m(self, handle, fetches, feed_dict, options, run_metadata)\u001b[0m\n\u001b[0;32m   1118\u001b[0m     \u001b[1;32mif\u001b[0m \u001b[0mfinal_fetches\u001b[0m \u001b[1;32mor\u001b[0m \u001b[0mfinal_targets\u001b[0m \u001b[1;32mor\u001b[0m \u001b[1;33m(\u001b[0m\u001b[0mhandle\u001b[0m \u001b[1;32mand\u001b[0m \u001b[0mfeed_dict_tensor\u001b[0m\u001b[1;33m)\u001b[0m\u001b[1;33m:\u001b[0m\u001b[1;33m\u001b[0m\u001b[0m\n\u001b[0;32m   1119\u001b[0m       results = self._do_run(handle, final_targets, final_fetches,\n\u001b[1;32m-> 1120\u001b[1;33m                              feed_dict_tensor, options, run_metadata)\n\u001b[0m\u001b[0;32m   1121\u001b[0m     \u001b[1;32melse\u001b[0m\u001b[1;33m:\u001b[0m\u001b[1;33m\u001b[0m\u001b[0m\n\u001b[0;32m   1122\u001b[0m       \u001b[0mresults\u001b[0m \u001b[1;33m=\u001b[0m \u001b[1;33m[\u001b[0m\u001b[1;33m]\u001b[0m\u001b[1;33m\u001b[0m\u001b[0m\n",
      "\u001b[1;32mC:\\ProgramData\\Anaconda3\\lib\\site-packages\\tensorflow\\python\\client\\session.py\u001b[0m in \u001b[0;36m_do_run\u001b[1;34m(self, handle, target_list, fetch_list, feed_dict, options, run_metadata)\u001b[0m\n\u001b[0;32m   1315\u001b[0m     \u001b[1;32mif\u001b[0m \u001b[0mhandle\u001b[0m \u001b[1;32mis\u001b[0m \u001b[1;32mNone\u001b[0m\u001b[1;33m:\u001b[0m\u001b[1;33m\u001b[0m\u001b[0m\n\u001b[0;32m   1316\u001b[0m       return self._do_call(_run_fn, self._session, feeds, fetches, targets,\n\u001b[1;32m-> 1317\u001b[1;33m                            options, run_metadata)\n\u001b[0m\u001b[0;32m   1318\u001b[0m     \u001b[1;32melse\u001b[0m\u001b[1;33m:\u001b[0m\u001b[1;33m\u001b[0m\u001b[0m\n\u001b[0;32m   1319\u001b[0m       \u001b[1;32mreturn\u001b[0m \u001b[0mself\u001b[0m\u001b[1;33m.\u001b[0m\u001b[0m_do_call\u001b[0m\u001b[1;33m(\u001b[0m\u001b[0m_prun_fn\u001b[0m\u001b[1;33m,\u001b[0m \u001b[0mself\u001b[0m\u001b[1;33m.\u001b[0m\u001b[0m_session\u001b[0m\u001b[1;33m,\u001b[0m \u001b[0mhandle\u001b[0m\u001b[1;33m,\u001b[0m \u001b[0mfeeds\u001b[0m\u001b[1;33m,\u001b[0m \u001b[0mfetches\u001b[0m\u001b[1;33m)\u001b[0m\u001b[1;33m\u001b[0m\u001b[0m\n",
      "\u001b[1;32mC:\\ProgramData\\Anaconda3\\lib\\site-packages\\tensorflow\\python\\client\\session.py\u001b[0m in \u001b[0;36m_do_call\u001b[1;34m(self, fn, *args)\u001b[0m\n\u001b[0;32m   1321\u001b[0m   \u001b[1;32mdef\u001b[0m \u001b[0m_do_call\u001b[0m\u001b[1;33m(\u001b[0m\u001b[0mself\u001b[0m\u001b[1;33m,\u001b[0m \u001b[0mfn\u001b[0m\u001b[1;33m,\u001b[0m \u001b[1;33m*\u001b[0m\u001b[0margs\u001b[0m\u001b[1;33m)\u001b[0m\u001b[1;33m:\u001b[0m\u001b[1;33m\u001b[0m\u001b[0m\n\u001b[0;32m   1322\u001b[0m     \u001b[1;32mtry\u001b[0m\u001b[1;33m:\u001b[0m\u001b[1;33m\u001b[0m\u001b[0m\n\u001b[1;32m-> 1323\u001b[1;33m       \u001b[1;32mreturn\u001b[0m \u001b[0mfn\u001b[0m\u001b[1;33m(\u001b[0m\u001b[1;33m*\u001b[0m\u001b[0margs\u001b[0m\u001b[1;33m)\u001b[0m\u001b[1;33m\u001b[0m\u001b[0m\n\u001b[0m\u001b[0;32m   1324\u001b[0m     \u001b[1;32mexcept\u001b[0m \u001b[0merrors\u001b[0m\u001b[1;33m.\u001b[0m\u001b[0mOpError\u001b[0m \u001b[1;32mas\u001b[0m \u001b[0me\u001b[0m\u001b[1;33m:\u001b[0m\u001b[1;33m\u001b[0m\u001b[0m\n\u001b[0;32m   1325\u001b[0m       \u001b[0mmessage\u001b[0m \u001b[1;33m=\u001b[0m \u001b[0mcompat\u001b[0m\u001b[1;33m.\u001b[0m\u001b[0mas_text\u001b[0m\u001b[1;33m(\u001b[0m\u001b[0me\u001b[0m\u001b[1;33m.\u001b[0m\u001b[0mmessage\u001b[0m\u001b[1;33m)\u001b[0m\u001b[1;33m\u001b[0m\u001b[0m\n",
      "\u001b[1;32mC:\\ProgramData\\Anaconda3\\lib\\site-packages\\tensorflow\\python\\client\\session.py\u001b[0m in \u001b[0;36m_run_fn\u001b[1;34m(session, feed_dict, fetch_list, target_list, options, run_metadata)\u001b[0m\n\u001b[0;32m   1300\u001b[0m           return tf_session.TF_Run(session, options,\n\u001b[0;32m   1301\u001b[0m                                    \u001b[0mfeed_dict\u001b[0m\u001b[1;33m,\u001b[0m \u001b[0mfetch_list\u001b[0m\u001b[1;33m,\u001b[0m \u001b[0mtarget_list\u001b[0m\u001b[1;33m,\u001b[0m\u001b[1;33m\u001b[0m\u001b[0m\n\u001b[1;32m-> 1302\u001b[1;33m                                    status, run_metadata)\n\u001b[0m\u001b[0;32m   1303\u001b[0m \u001b[1;33m\u001b[0m\u001b[0m\n\u001b[0;32m   1304\u001b[0m     \u001b[1;32mdef\u001b[0m \u001b[0m_prun_fn\u001b[0m\u001b[1;33m(\u001b[0m\u001b[0msession\u001b[0m\u001b[1;33m,\u001b[0m \u001b[0mhandle\u001b[0m\u001b[1;33m,\u001b[0m \u001b[0mfeed_dict\u001b[0m\u001b[1;33m,\u001b[0m \u001b[0mfetch_list\u001b[0m\u001b[1;33m)\u001b[0m\u001b[1;33m:\u001b[0m\u001b[1;33m\u001b[0m\u001b[0m\n",
      "\u001b[1;31mKeyboardInterrupt\u001b[0m: "
     ]
    }
   ],
   "source": [
    "training_steps = 200000\n",
    "display_step = 50\n",
    "\n",
    "#RECORD = 10\n",
    "\n",
    "#losses = []\n",
    "for step in range(training_steps + 1):\n",
    "\n",
    "    batch_x, batch_h, batch_c, batch_d, batch_l = generateBatch()\n",
    "\n",
    "    fd = {X: batch_x, History: batch_h, Combinations: batch_c, was_sampled_notes_given: False, DecodedX: batch_d, Batched_Loss_Combinations : batch_l}\n",
    "    _, L = sess.run([train_op, ce], feed_dict=fd)\n",
    "    losses.append(L.mean())\n",
    "    \n",
    "    if np.isnan(L).any():\n",
    "        print(\" DAMN NAN ERROR\")\n",
    "        break\n",
    "        \n",
    "    if step % display_step == 0:\n",
    "        print(L.mean(), \" mean for last: \", np.array(losses)[-display_step:].mean())\n",
    "        drawNotes(L[0], \"LOSS\")\n",
    "        \n",
    "        if step % 200 == 0:\n",
    "            r = sess.run(read_index, feed_dict=fd)\n",
    "            drawNotes(r[0], \"READ\")\n",
    "            \n",
    "            sn = sess.run(voices_proba, feed_dict=fd)\n",
    "            for i in range(5):\n",
    "                drawNotes(sn[i][0], \"VOICE \" + str(i))\n",
    "            \n",
    "            sn = sess.run(sampled_notes, feed_dict=fd)\n",
    "            drawNotes(sn[0] - batch_x[0, 1:, :12]*(1-sn[0]), \"SAMPLED AND UNSAMPLED NOTES\")\n",
    "                \n",
    "            sn = sess.run(decoder_ce, feed_dict=fd)\n",
    "            drawNotes(sn[0], \"DECODER LOSS\")\n",
    "           \n",
    "    if len(losses) > display_step and np.array(losses)[-display_step:].mean() < RECORD:\n",
    "        RECORD = np.array(losses)[-display_step:].mean()\n",
    "        saver.save(sess, \"./tmp/100-100-100 HistoryUserScheme LSTM collapsed CP_dataset songs by fragments 9-history 6-times 5-40LSTMconditionalvoices TrulyTrueLoss 100-decoder lr=0.01.ckpt\")\n",
    "        \n",
    "print(\"Optimization Finished!\")"
   ]
  },
  {
   "cell_type": "code",
   "execution_count": null,
   "metadata": {},
   "outputs": [],
   "source": []
  },
  {
   "cell_type": "code",
   "execution_count": 36,
   "metadata": {},
   "outputs": [
    {
     "name": "stdout",
     "output_type": "stream",
     "text": [
      "0.0213685\n"
     ]
    },
    {
     "data": {
      "text/plain": [
       "[<matplotlib.lines.Line2D at 0x232952bd908>]"
      ]
     },
     "execution_count": 36,
     "metadata": {},
     "output_type": "execute_result"
    },
    {
     "data": {
      "image/png": "[encoded data removed]",
      "text/plain": [
       "<matplotlib.figure.Figure at 0x232215eb128>"
      ]
     },
     "metadata": {},
     "output_type": "display_data"
    }
   ],
   "source": [
    "import matplotlib.pyplot as plt\n",
    "%matplotlib inline\n",
    "\n",
    "print(RECORD)\n",
    "plt.plot(losses)"
   ]
  },
  {
   "cell_type": "code",
   "execution_count": null,
   "metadata": {},
   "outputs": [],
   "source": []
  },
  {
   "cell_type": "code",
   "execution_count": null,
   "metadata": {},
   "outputs": [],
   "source": []
  },
  {
   "cell_type": "code",
   "execution_count": 69,
   "metadata": {},
   "outputs": [
    {
     "ename": "OSError",
     "evalue": "MidiOutWinMM::openPort: error creating Windows MM MIDI output port.",
     "output_type": "error",
     "traceback": [
      "\u001b[1;31m---------------------------------------------------------------------------\u001b[0m",
      "\u001b[1;31mRuntimeError\u001b[0m                              Traceback (most recent call last)",
      "\u001b[1;32mC:\\ProgramData\\Anaconda3\\lib\\site-packages\\mido\\backends\\rtmidi.py\u001b[0m in \u001b[0;36m_open_port\u001b[1;34m(rt, name, client_name, virtual, api)\u001b[0m\n\u001b[0;32m     98\u001b[0m     \u001b[1;32mtry\u001b[0m\u001b[1;33m:\u001b[0m\u001b[1;33m\u001b[0m\u001b[0m\n\u001b[1;32m---> 99\u001b[1;33m         \u001b[0mrt\u001b[0m\u001b[1;33m.\u001b[0m\u001b[0mopen_port\u001b[0m\u001b[1;33m(\u001b[0m\u001b[0mport_id\u001b[0m\u001b[1;33m)\u001b[0m\u001b[1;33m\u001b[0m\u001b[0m\n\u001b[0m\u001b[0;32m    100\u001b[0m     \u001b[1;32mexcept\u001b[0m \u001b[0mRuntimeError\u001b[0m \u001b[1;32mas\u001b[0m \u001b[0merr\u001b[0m\u001b[1;33m:\u001b[0m\u001b[1;33m\u001b[0m\u001b[0m\n",
      "\u001b[1;32msrc\\_rtmidi.pyx\u001b[0m in \u001b[0;36m_rtmidi.MidiBase.open_port (src\\_rtmidi.cpp:3443)\u001b[1;34m()\u001b[0m\n",
      "\u001b[1;31mRuntimeError\u001b[0m: MidiOutWinMM::openPort: error creating Windows MM MIDI output port.",
      "\nDuring handling of the above exception, another exception occurred:\n",
      "\u001b[1;31mOSError\u001b[0m                                   Traceback (most recent call last)",
      "\u001b[1;32m<ipython-input-69-9316f34dacf4>\u001b[0m in \u001b[0;36m<module>\u001b[1;34m()\u001b[0m\n\u001b[0;32m      9\u001b[0m \u001b[1;33m\u001b[0m\u001b[0m\n\u001b[0;32m     10\u001b[0m \u001b[1;31m# для возможности прослушивания midi прямо в ноутбуке\u001b[0m\u001b[1;33m\u001b[0m\u001b[1;33m\u001b[0m\u001b[0m\n\u001b[1;32m---> 11\u001b[1;33m \u001b[0mHEARING_PORT\u001b[0m \u001b[1;33m=\u001b[0m \u001b[0mmido\u001b[0m\u001b[1;33m.\u001b[0m\u001b[0mopen_output\u001b[0m\u001b[1;33m(\u001b[0m\u001b[1;33m)\u001b[0m\u001b[1;33m\u001b[0m\u001b[0m\n\u001b[0m\u001b[0;32m     12\u001b[0m \u001b[1;31m# для вывода массивов numpy целиком\u001b[0m\u001b[1;33m\u001b[0m\u001b[1;33m\u001b[0m\u001b[0m\n\u001b[0;32m     13\u001b[0m \u001b[0mnp\u001b[0m\u001b[1;33m.\u001b[0m\u001b[0mset_printoptions\u001b[0m\u001b[1;33m(\u001b[0m\u001b[0mthreshold\u001b[0m\u001b[1;33m=\u001b[0m\u001b[0mnp\u001b[0m\u001b[1;33m.\u001b[0m\u001b[0mnan\u001b[0m\u001b[1;33m)\u001b[0m\u001b[1;33m\u001b[0m\u001b[0m\n",
      "\u001b[1;32mC:\\ProgramData\\Anaconda3\\lib\\site-packages\\mido\\backends\\backend.py\u001b[0m in \u001b[0;36mopen_output\u001b[1;34m(self, name, virtual, autoreset, **kwargs)\u001b[0m\n\u001b[0;32m    109\u001b[0m             \u001b[0mname\u001b[0m \u001b[1;33m=\u001b[0m \u001b[0mself\u001b[0m\u001b[1;33m.\u001b[0m\u001b[0m_env\u001b[0m\u001b[1;33m(\u001b[0m\u001b[1;34m'MIDO_DEFAULT_OUTPUT'\u001b[0m\u001b[1;33m)\u001b[0m\u001b[1;33m\u001b[0m\u001b[0m\n\u001b[0;32m    110\u001b[0m \u001b[1;33m\u001b[0m\u001b[0m\n\u001b[1;32m--> 111\u001b[1;33m         \u001b[1;32mreturn\u001b[0m \u001b[0mself\u001b[0m\u001b[1;33m.\u001b[0m\u001b[0mmodule\u001b[0m\u001b[1;33m.\u001b[0m\u001b[0mOutput\u001b[0m\u001b[1;33m(\u001b[0m\u001b[0mname\u001b[0m\u001b[1;33m,\u001b[0m \u001b[1;33m**\u001b[0m\u001b[0mself\u001b[0m\u001b[1;33m.\u001b[0m\u001b[0m_add_api\u001b[0m\u001b[1;33m(\u001b[0m\u001b[0mkwargs\u001b[0m\u001b[1;33m)\u001b[0m\u001b[1;33m)\u001b[0m\u001b[1;33m\u001b[0m\u001b[0m\n\u001b[0m\u001b[0;32m    112\u001b[0m \u001b[1;33m\u001b[0m\u001b[0m\n\u001b[0;32m    113\u001b[0m     def open_ioport(self, name=None, virtual=False,\n",
      "\u001b[1;32mC:\\ProgramData\\Anaconda3\\lib\\site-packages\\mido\\ports.py\u001b[0m in \u001b[0;36m__init__\u001b[1;34m(self, name, autoreset, **kwargs)\u001b[0m\n\u001b[0;32m    267\u001b[0m         \u001b[0mname\u001b[0m \u001b[1;32mis\u001b[0m \u001b[1;32mnot\u001b[0m \u001b[0mpassed\u001b[0m\u001b[1;33m,\u001b[0m \u001b[0mthe\u001b[0m \u001b[0mdefault\u001b[0m \u001b[0moutput\u001b[0m \u001b[1;32mis\u001b[0m \u001b[0mused\u001b[0m \u001b[0minstead\u001b[0m\u001b[1;33m.\u001b[0m\u001b[1;33m\u001b[0m\u001b[0m\n\u001b[0;32m    268\u001b[0m         \"\"\"\n\u001b[1;32m--> 269\u001b[1;33m         \u001b[0mBasePort\u001b[0m\u001b[1;33m.\u001b[0m\u001b[0m__init__\u001b[0m\u001b[1;33m(\u001b[0m\u001b[0mself\u001b[0m\u001b[1;33m,\u001b[0m \u001b[0mname\u001b[0m\u001b[1;33m,\u001b[0m \u001b[1;33m**\u001b[0m\u001b[0mkwargs\u001b[0m\u001b[1;33m)\u001b[0m\u001b[1;33m\u001b[0m\u001b[0m\n\u001b[0m\u001b[0;32m    270\u001b[0m         \u001b[0mself\u001b[0m\u001b[1;33m.\u001b[0m\u001b[0mautoreset\u001b[0m \u001b[1;33m=\u001b[0m \u001b[0mautoreset\u001b[0m\u001b[1;33m\u001b[0m\u001b[0m\n\u001b[0;32m    271\u001b[0m \u001b[1;33m\u001b[0m\u001b[0m\n",
      "\u001b[1;32mC:\\ProgramData\\Anaconda3\\lib\\site-packages\\mido\\ports.py\u001b[0m in \u001b[0;36m__init__\u001b[1;34m(self, name, **kwargs)\u001b[0m\n\u001b[0;32m     86\u001b[0m             \u001b[0mself\u001b[0m\u001b[1;33m.\u001b[0m\u001b[0m_lock\u001b[0m \u001b[1;33m=\u001b[0m \u001b[0mDummyLock\u001b[0m\u001b[1;33m(\u001b[0m\u001b[1;33m)\u001b[0m\u001b[1;33m\u001b[0m\u001b[0m\n\u001b[0;32m     87\u001b[0m         \u001b[0mself\u001b[0m\u001b[1;33m.\u001b[0m\u001b[0mclosed\u001b[0m \u001b[1;33m=\u001b[0m \u001b[1;32mTrue\u001b[0m\u001b[1;33m\u001b[0m\u001b[0m\n\u001b[1;32m---> 88\u001b[1;33m         \u001b[0mself\u001b[0m\u001b[1;33m.\u001b[0m\u001b[0m_open\u001b[0m\u001b[1;33m(\u001b[0m\u001b[1;33m**\u001b[0m\u001b[0mkwargs\u001b[0m\u001b[1;33m)\u001b[0m\u001b[1;33m\u001b[0m\u001b[0m\n\u001b[0m\u001b[0;32m     89\u001b[0m         \u001b[0mself\u001b[0m\u001b[1;33m.\u001b[0m\u001b[0mclosed\u001b[0m \u001b[1;33m=\u001b[0m \u001b[1;32mFalse\u001b[0m\u001b[1;33m\u001b[0m\u001b[0m\n\u001b[0;32m     90\u001b[0m \u001b[1;33m\u001b[0m\u001b[0m\n",
      "\u001b[1;32mC:\\ProgramData\\Anaconda3\\lib\\site-packages\\mido\\backends\\rtmidi.py\u001b[0m in \u001b[0;36m_open\u001b[1;34m(self, client_name, virtual, api, callback, **kwargs)\u001b[0m\n\u001b[0;32m    191\u001b[0m \u001b[1;33m\u001b[0m\u001b[0m\n\u001b[0;32m    192\u001b[0m         self.name = _open_port(self._rt, self.name, client_name=client_name,\n\u001b[1;32m--> 193\u001b[1;33m                                virtual=virtual, api=self.api)\n\u001b[0m\u001b[0;32m    194\u001b[0m         \u001b[0mself\u001b[0m\u001b[1;33m.\u001b[0m\u001b[0mclosed\u001b[0m \u001b[1;33m=\u001b[0m \u001b[1;32mFalse\u001b[0m\u001b[1;33m\u001b[0m\u001b[0m\n\u001b[0;32m    195\u001b[0m \u001b[1;33m\u001b[0m\u001b[0m\n",
      "\u001b[1;32mC:\\ProgramData\\Anaconda3\\lib\\site-packages\\mido\\backends\\rtmidi.py\u001b[0m in \u001b[0;36m_open_port\u001b[1;34m(rt, name, client_name, virtual, api)\u001b[0m\n\u001b[0;32m     99\u001b[0m         \u001b[0mrt\u001b[0m\u001b[1;33m.\u001b[0m\u001b[0mopen_port\u001b[0m\u001b[1;33m(\u001b[0m\u001b[0mport_id\u001b[0m\u001b[1;33m)\u001b[0m\u001b[1;33m\u001b[0m\u001b[0m\n\u001b[0;32m    100\u001b[0m     \u001b[1;32mexcept\u001b[0m \u001b[0mRuntimeError\u001b[0m \u001b[1;32mas\u001b[0m \u001b[0merr\u001b[0m\u001b[1;33m:\u001b[0m\u001b[1;33m\u001b[0m\u001b[0m\n\u001b[1;32m--> 101\u001b[1;33m         \u001b[1;32mraise\u001b[0m \u001b[0mIOError\u001b[0m\u001b[1;33m(\u001b[0m\u001b[1;33m*\u001b[0m\u001b[0merr\u001b[0m\u001b[1;33m.\u001b[0m\u001b[0margs\u001b[0m\u001b[1;33m)\u001b[0m\u001b[1;33m\u001b[0m\u001b[0m\n\u001b[0m\u001b[0;32m    102\u001b[0m \u001b[1;33m\u001b[0m\u001b[0m\n\u001b[0;32m    103\u001b[0m     \u001b[1;32mreturn\u001b[0m \u001b[0mname\u001b[0m\u001b[1;33m\u001b[0m\u001b[0m\n",
      "\u001b[1;31mOSError\u001b[0m: MidiOutWinMM::openPort: error creating Windows MM MIDI output port."
     ]
    }
   ],
   "source": [
    "import mido\n",
    "from mido import MidiFile\n",
    "import numpy as np\n",
    "import copy\n",
    "import math\n",
    "\n",
    "import matplotlib.pyplot as plt\n",
    "%matplotlib inline\n",
    "\n",
    "# для возможности прослушивания midi прямо в ноутбуке\n",
    "HEARING_PORT = mido.open_output()\n",
    "# для вывода массивов numpy целиком\n",
    "np.set_printoptions(threshold=np.nan)\n",
    "\n",
    "BASE_NOTE = 21\n",
    "KEYS = 88\n",
    "FREQ = 4  #ticks for beat\n",
    "\n",
    "def drawSong(song, scale=(None, None)):\n",
    "    if scale[0] is None:\n",
    "        scale = (song.notes.shape[0] / 10, song.notes.shape[1] / 10)\n",
    "    \n",
    "    plt.figure(figsize=scale)\n",
    "    plt.title(song.name)\n",
    "    plt.imshow(song.notes.T, aspect='auto', origin='lower')\n",
    "    plt.xlabel(\"time\")\n",
    "    plt.xticks(np.arange(0, song.notes.shape[0], 4))\n",
    "    plt.show()\n",
    "\n",
    "# Класс для создания нового миди файла\n",
    "class MySong:\n",
    "    def __init__(self, played_lines=[], finished=False):\n",
    "        self.name = \"Generated song!\"\n",
    "        self.notes = np.zeros((0, 88))\n",
    "\n",
    "        self.mid = MidiFile(type=0)\n",
    "        self.track = mido.MidiTrack()\n",
    "        self.mid.tracks.append(self.track)\n",
    "\n",
    "        self.time_passed = 0\n",
    "        self.release = []\n",
    "\n",
    "        for line in played_lines:\n",
    "            self.add(line)\n",
    "           \n",
    "        if finished:\n",
    "            self.finish()\n",
    "\n",
    "    # добавление новых строк в ноты\n",
    "    def add(self, played):\n",
    "        self.notes = np.vstack([self.notes, played])\n",
    "\n",
    "        # \"отпуск\" нот, сыгранных долю назад\n",
    "        if played.sum() > 0:\n",
    "            for i in self.release:\n",
    "                self.track.append(mido.Message('note_on', note=BASE_NOTE + i, velocity=0, time=self.time_passed))\n",
    "                self.time_passed = 0\n",
    "            self.release = []\n",
    "\n",
    "        # добавление новых нот\n",
    "        for i, key in enumerate(played):\n",
    "            if key == 1:\n",
    "                self.track.append(mido.Message('note_on', note=BASE_NOTE + i, velocity=64, time=self.time_passed))\n",
    "                self.time_passed = 0\n",
    "                self.release.append(i)\n",
    "        self.time_passed += self.mid.ticks_per_beat // FREQ\n",
    "\n",
    "    # должна быть вызвана в конце создания файла\n",
    "    def finish(self):\n",
    "        for i in self.release:\n",
    "            self.track.append(mido.Message('note_off', note=BASE_NOTE + i, velocity=64, time=self.time_passed))\n",
    "            self.time_passed = 0\n",
    "        self.track.append(mido.Message('note_off', note=BASE_NOTE, velocity=0, time=self.time_passed))\n",
    "\n",
    "    # воспроизведение\n",
    "    def play(self):\n",
    "        for msg in self.mid.play():\n",
    "            HEARING_PORT.send(msg)\n",
    "\n",
    "    # сохранение\n",
    "    def save_file(self, name):\n",
    "        self.mid.save(name + '.mid')"
   ]
  },
  {
   "cell_type": "code",
   "execution_count": null,
   "metadata": {},
   "outputs": [],
   "source": []
  },
  {
   "cell_type": "code",
   "execution_count": null,
   "metadata": {},
   "outputs": [],
   "source": []
  },
  {
   "cell_type": "code",
   "execution_count": 70,
   "metadata": {},
   "outputs": [],
   "source": [
    "def pers_transform(song, stack_zeros=True):    \n",
    "    wh = song[:]\n",
    "    \n",
    "    temp = wh.copy()\n",
    "    for t in HISTORY_TIMES:\n",
    "        h = np.roll(temp, t, axis=0)\n",
    "        h[:t] = 0\n",
    "        wh = np.concatenate([wh, h], axis=1)\n",
    "          \n",
    "    wh = np.concatenate([wh, times[:song.shape[0]]], axis=1)\n",
    "            \n",
    "    return wh"
   ]
  },
  {
   "cell_type": "code",
   "execution_count": 71,
   "metadata": {},
   "outputs": [],
   "source": [
    "def octave_sample(dec_p, all_sampled):\n",
    "    ans = (np.random.uniform(0, 1, 88) < 1 / (1 + np.exp(-dec_p))) * np.tile(all_sampled, 8)[:88]\n",
    "    for i, val in enumerate(all_sampled):\n",
    "        if val == 1 and ans[i::12].sum() == 0:\n",
    "             ans[i + dec_p[i::12].argmax()*12] = 1\n",
    "    return ans"
   ]
  },
  {
   "cell_type": "code",
   "execution_count": 72,
   "metadata": {},
   "outputs": [],
   "source": [
    "res = []"
   ]
  },
  {
   "cell_type": "code",
   "execution_count": 79,
   "metadata": {
    "scrolled": true
   },
   "outputs": [
    {
     "name": "stdout",
     "output_type": "stream",
     "text": [
      "||||||||||||||||||||||||||||||||||||||||||||||||||||||||||||||||||||||||||||||||||||||||||||||||||||||||||||||||||||||||||||||||||||||||||||||||||||||||||||||||||||||||||||||||||||||||||||||||||||||||||||||||||||||||||||||||||||||||||||||||||||||||||||||||||||||||||||||||||||||||||||||||||||||||||||||||||||||||||||||||||||||||||||||||||||||||||||||||||||||||||||||||||||||||||||||||||||||||||||||||||||||||||||||||||||||||||||||||||||||||||||||||||||||||||||||||||||||||||||||||||||||||||||||||yeah! 0\n"
     ]
    }
   ],
   "source": [
    "LR = 0.0\n",
    "\n",
    "for s in range(1):\n",
    "    song = songs[np.random.randint(0, 100)][:16]\n",
    "    gen = transform(song)[:, :12]\n",
    "    \n",
    "    transd = pers_transform(gen)        \n",
    "    t, h = np.hstack([transd[:, :12], transd[:, -ADDITIONAL_INPUT_SIZE:]]), transd[:, 12:-ADDITIONAL_INPUT_SIZE].reshape(-1, len(HISTORY_TIMES), 12) \n",
    "    \n",
    "    tsn = np.array(sess.run(sampled_notes_by_voices, feed_dict={X: np.repeat(t[None], batch_size, axis=0), \n",
    "                                                       History: np.repeat(h[None], batch_size, axis=0),\n",
    "                                                       was_sampled_notes_given: False}))[:, 0]\n",
    "\n",
    "    while len(gen) < 512:\n",
    "        gen = np.vstack([gen, np.ones((12))])\n",
    "        song = np.vstack([song, np.zeros((88))])\n",
    "\n",
    "        transd = pers_transform(gen[-256:])\n",
    "        t, h = np.hstack([transd[:, :12], transd[:, -ADDITIONAL_INPUT_SIZE:]]), transd[:, 12:-ADDITIONAL_INPUT_SIZE].reshape(-1, len(HISTORY_TIMES), 12)\n",
    "        fd = {learning_rate: LR, X: np.repeat(t[None], batch_size, axis=0), History: np.repeat(h[None], batch_size, axis=0),\n",
    "             was_sampled_notes_given: True, truly_sampled_notes: np.repeat(tsn[:, None, -254:], batch_size, axis=1),\n",
    "             DecodedX: np.repeat(song[None, -256:], batch_size, axis=0)}\n",
    "        sampled, dec_p, all_sampled = sess.run([sampled_notes_by_voices, decoder_p, sampled_notes], feed_dict=fd)\n",
    "        \n",
    "        tsn = np.concatenate([tsn, np.array(sampled)[:, 0, -1:]], axis=1)\n",
    "        \n",
    "        song[-1] = octave_sample(dec_p[0, -1], all_sampled[0, -1])\n",
    "        gen[-1] = all_sampled[0, -1]\n",
    "        \n",
    "        print('|', end=\"\")\n",
    "    print(\"yeah!\", s)\n",
    "    res.append(song)"
   ]
  },
  {
   "cell_type": "code",
   "execution_count": 80,
   "metadata": {},
   "outputs": [],
   "source": [
    "test = np.zeros((gen.shape[0], 88))\n",
    "test[:, 42:54] = gen\n",
    "\n",
    "ms = MySong(test, finished=True)"
   ]
  },
  {
   "cell_type": "code",
   "execution_count": 81,
   "metadata": {},
   "outputs": [
    {
     "data": {
      "image/png": "[encoded data removed]",
      "text/plain": [
       "<matplotlib.figure.Figure at 0x2321bc747f0>"
      ]
     },
     "metadata": {},
     "output_type": "display_data"
    }
   ],
   "source": [
    "drawNotes(gen)"
   ]
  },
  {
   "cell_type": "code",
   "execution_count": 82,
   "metadata": {},
   "outputs": [
    {
     "data": {
      "image/png": "[encoded data removed]",
      "text/plain": [
       "<matplotlib.figure.Figure at 0x2321bc74128>"
      ]
     },
     "metadata": {},
     "output_type": "display_data"
    }
   ],
   "source": [
    "drawNotes(song)"
   ]
  },
  {
   "cell_type": "code",
   "execution_count": 83,
   "metadata": {},
   "outputs": [
    {
     "ename": "KeyboardInterrupt",
     "evalue": "",
     "output_type": "error",
     "traceback": [
      "\u001b[1;31m---------------------------------------------------------------------------\u001b[0m",
      "\u001b[1;31mKeyboardInterrupt\u001b[0m                         Traceback (most recent call last)",
      "\u001b[1;32m<ipython-input-83-61e5717955e4>\u001b[0m in \u001b[0;36m<module>\u001b[1;34m()\u001b[0m\n\u001b[1;32m----> 1\u001b[1;33m \u001b[0mms\u001b[0m\u001b[1;33m.\u001b[0m\u001b[0mplay\u001b[0m\u001b[1;33m(\u001b[0m\u001b[1;33m)\u001b[0m\u001b[1;33m\u001b[0m\u001b[0m\n\u001b[0m",
      "\u001b[1;32m<ipython-input-37-9316f34dacf4>\u001b[0m in \u001b[0;36mplay\u001b[1;34m(self)\u001b[0m\n\u001b[0;32m     75\u001b[0m     \u001b[1;31m# воспроизведение\u001b[0m\u001b[1;33m\u001b[0m\u001b[1;33m\u001b[0m\u001b[0m\n\u001b[0;32m     76\u001b[0m     \u001b[1;32mdef\u001b[0m \u001b[0mplay\u001b[0m\u001b[1;33m(\u001b[0m\u001b[0mself\u001b[0m\u001b[1;33m)\u001b[0m\u001b[1;33m:\u001b[0m\u001b[1;33m\u001b[0m\u001b[0m\n\u001b[1;32m---> 77\u001b[1;33m         \u001b[1;32mfor\u001b[0m \u001b[0mmsg\u001b[0m \u001b[1;32min\u001b[0m \u001b[0mself\u001b[0m\u001b[1;33m.\u001b[0m\u001b[0mmid\u001b[0m\u001b[1;33m.\u001b[0m\u001b[0mplay\u001b[0m\u001b[1;33m(\u001b[0m\u001b[1;33m)\u001b[0m\u001b[1;33m:\u001b[0m\u001b[1;33m\u001b[0m\u001b[0m\n\u001b[0m\u001b[0;32m     78\u001b[0m             \u001b[0mHEARING_PORT\u001b[0m\u001b[1;33m.\u001b[0m\u001b[0msend\u001b[0m\u001b[1;33m(\u001b[0m\u001b[0mmsg\u001b[0m\u001b[1;33m)\u001b[0m\u001b[1;33m\u001b[0m\u001b[0m\n\u001b[0;32m     79\u001b[0m \u001b[1;33m\u001b[0m\u001b[0m\n",
      "\u001b[1;32mC:\\ProgramData\\Anaconda3\\lib\\site-packages\\mido\\midifiles\\midifiles.py\u001b[0m in \u001b[0;36mplay\u001b[1;34m(self, meta_messages)\u001b[0m\n\u001b[0;32m    389\u001b[0m \u001b[1;33m\u001b[0m\u001b[0m\n\u001b[0;32m    390\u001b[0m         \u001b[1;32mfor\u001b[0m \u001b[0mmsg\u001b[0m \u001b[1;32min\u001b[0m \u001b[0mself\u001b[0m\u001b[1;33m:\u001b[0m\u001b[1;33m\u001b[0m\u001b[0m\n\u001b[1;32m--> 391\u001b[1;33m             \u001b[0msleep\u001b[0m\u001b[1;33m(\u001b[0m\u001b[0mmsg\u001b[0m\u001b[1;33m.\u001b[0m\u001b[0mtime\u001b[0m\u001b[1;33m)\u001b[0m\u001b[1;33m\u001b[0m\u001b[0m\n\u001b[0m\u001b[0;32m    392\u001b[0m \u001b[1;33m\u001b[0m\u001b[0m\n\u001b[0;32m    393\u001b[0m             \u001b[1;32mif\u001b[0m \u001b[0misinstance\u001b[0m\u001b[1;33m(\u001b[0m\u001b[0mmsg\u001b[0m\u001b[1;33m,\u001b[0m \u001b[0mMetaMessage\u001b[0m\u001b[1;33m)\u001b[0m \u001b[1;32mand\u001b[0m \u001b[1;32mnot\u001b[0m \u001b[0mmeta_messages\u001b[0m\u001b[1;33m:\u001b[0m\u001b[1;33m\u001b[0m\u001b[0m\n",
      "\u001b[1;31mKeyboardInterrupt\u001b[0m: "
     ]
    }
   ],
   "source": [
    "ms.play()"
   ]
  },
  {
   "cell_type": "code",
   "execution_count": 85,
   "metadata": {},
   "outputs": [],
   "source": [
    "ms = MySong(song, finished=True)"
   ]
  },
  {
   "cell_type": "code",
   "execution_count": 86,
   "metadata": {},
   "outputs": [],
   "source": [
    "ms.play()"
   ]
  },
  {
   "cell_type": "code",
   "execution_count": 35,
   "metadata": {},
   "outputs": [],
   "source": [
    "ms.save_file(\"true loss\")"
   ]
  },
  {
   "cell_type": "code",
   "execution_count": null,
   "metadata": {},
   "outputs": [],
   "source": [
    "finale = np.zeros((0, 88))\n",
    "for r in res:\n",
    "    finale = np.vstack([finale, np.zeros((8, 88))])\n",
    "    finale = np.vstack([finale, r[16:]])"
   ]
  },
  {
   "cell_type": "code",
   "execution_count": null,
   "metadata": {},
   "outputs": [],
   "source": [
    "finale.shape"
   ]
  },
  {
   "cell_type": "code",
   "execution_count": null,
   "metadata": {},
   "outputs": [],
   "source": [
    "finale = finale[:28760]"
   ]
  },
  {
   "cell_type": "code",
   "execution_count": null,
   "metadata": {},
   "outputs": [],
   "source": [
    "ms = MySong(finale, finished=True)"
   ]
  },
  {
   "cell_type": "code",
   "execution_count": null,
   "metadata": {},
   "outputs": [],
   "source": [
    "ms.save_file(\"4. Conditional Voices and HistoryUser and Metalearning 0.00001\")"
   ]
  },
  {
   "cell_type": "code",
   "execution_count": null,
   "metadata": {},
   "outputs": [],
   "source": []
  }
 ],
 "metadata": {
  "kernelspec": {
   "display_name": "Python 3",
   "language": "python",
   "name": "python3"
  },
  "language_info": {
   "codemirror_mode": {
    "name": "ipython",
    "version": 3
   },
   "file_extension": ".py",
   "mimetype": "text/x-python",
   "name": "python",
   "nbconvert_exporter": "python",
   "pygments_lexer": "ipython3",
   "version": "3.6.3"
  }
 },
 "nbformat": 4,
 "nbformat_minor": 2
}
