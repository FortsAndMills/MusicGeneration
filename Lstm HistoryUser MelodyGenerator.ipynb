{
 "cells": [
  {
   "cell_type": "code",
   "execution_count": 1,
   "metadata": {},
   "outputs": [],
   "source": [
    "import tensorflow as tf\n",
    "import numpy as np"
   ]
  },
  {
   "cell_type": "markdown",
   "metadata": {},
   "source": [
    "# Генерируем именно мелодию\n",
    "\n",
    "Мелодия - это музыка, в которой одновременно не звучит несколько нот. Значит, это обычная многоклассовая классификация.\n",
    "\n",
    "Для этого на выходе хочется иметь именно что распределение. Поэтому вводим 14-ую ноту под названием \"пауза\"."
   ]
  },
  {
   "cell_type": "code",
   "execution_count": 2,
   "metadata": {},
   "outputs": [
    {
     "name": "stdout",
     "output_type": "stream",
     "text": [
      "ERROR! out of range!\n",
      "ERROR! out of range!\n",
      "ERROR! out of range!\n"
     ]
    }
   ],
   "source": [
    "from songs import *\n",
    "\n",
    "Songs = []\n",
    "for i in range(1, 35):\n",
    "    song = Song('basic midi/track (' + str(i) + ').mid')\n",
    "    \n",
    "    if (song.notes.sum(axis=1) <= 1).all():    \n",
    "        while song.transpose(1):\n",
    "            pass\n",
    "\n",
    "        Songs.append(song.notes)\n",
    "        while song.transpose(-1):\n",
    "            Songs.append(song.notes)\n",
    "    \n",
    "Songs = np.array(Songs)\n",
    "Songs = np.concatenate([Songs, (Songs.sum(axis=2) == 0)[:, :, None]], axis=2)  # добавление ноты-\"пауза\""
   ]
  },
  {
   "cell_type": "markdown",
   "metadata": {},
   "source": [
    "## Изменения в архитектуре:\n",
    "- кросс-энтропия вместо квадратичной потери, всё-таки работаем с вероятностями.\n",
    "- на выходе соответственно добавляется софтмакс\n",
    "- Главное изменение: в финальный слой, в котором объединяются история и текущий инпут, вместо текущего инпута подаётся \"преобразованный\" инпут из ещё одного нового слоя LSTM-ов. Интерпретация: модуль истории смотрит на глобальную структуру, а этот новый слой будет только по текущему входу пытаться предсказать следующую ноту, основываясь на локальных свойствах, как в обычном LSTM-генерации. А final-слой, выходной, который получает \"оба варианта на вход\", уже там принимает решение и преобразовывает историю (это преобразование однозначно должно быть простым, вроде как оно не сложнее линейного, поэтому выделять на него персональный слой может и не надо)."
   ]
  },
  {
   "cell_type": "code",
   "execution_count": 3,
   "metadata": {
    "scrolled": true
   },
   "outputs": [],
   "source": [
    "# the input data is 128+64 random binary vectors of dimension 13\n",
    "# the output data has same dimensions; final 128 of vectors must be same as first 128 of input\n",
    "tf.reset_default_graph()\n",
    "\n",
    "# Network Parameters\n",
    "learning_rate = 0.001\n",
    "batch_size = Songs.shape[0]\n",
    "num_input = 14       # dimension of one input at moment\n",
    "timesteps = 128   # timesteps in one sequence\n",
    "num_transform = 75  # num of lstms in transform layer\n",
    "num_hidden = 70      # num of lstms in first hidden layer\n",
    "num_read = 50        # num of lstms in second hidden layer\n",
    "num_final = 90       # num of lstms in final hidden layer\n",
    "history_size = 80    # how much previous moments of input is stored\n",
    "\n",
    "# tf graph input\n",
    "X = tf.placeholder(\"float\", [batch_size, timesteps, num_input])\n",
    "\n",
    "# loss will be calculated in the loop as sum of losses on each iteration\n",
    "loss_op = tf.constant(0.0)\n",
    "\n",
    "# defining first hidden layer\n",
    "with tf.variable_scope('first_lstm'):\n",
    "    first_lstm = tf.contrib.rnn.BasicLSTMCell(num_hidden, forget_bias=1.0)\n",
    "    first_lstm_state = tf.zeros([batch_size, num_hidden]), tf.zeros([batch_size, num_hidden])\n",
    "\n",
    "# defining second hidden layer\n",
    "with tf.variable_scope(\"read_lstm\"):\n",
    "    read_lstm = tf.contrib.rnn.BasicLSTMCell(num_read, forget_bias=1.0)\n",
    "    read_lstm_state = tf.zeros([batch_size, num_read]), tf.zeros([batch_size, num_read])\n",
    "\n",
    "# linear transformation of second lstm cell outputs to history size dimension vector\n",
    "read_w = tf.Variable(tf.random_normal([num_read, history_size]))\n",
    "read_b = tf.Variable(tf.random_normal([history_size]))\n",
    "\n",
    "# history is an array of previous (in time) history_size inputs\n",
    "history = tf.zeros([batch_size, num_input, history_size])\n",
    "\n",
    "with tf.variable_scope('transform_lstm'):\n",
    "    transform_lstm = tf.contrib.rnn.BasicLSTMCell(num_transform, forget_bias=1.0)\n",
    "    transform_lstm_state = tf.zeros([batch_size, num_transform]), tf.zeros([batch_size, num_transform])\n",
    "\n",
    "# defining common hidden layer\n",
    "with tf.variable_scope(\"final_lstm\"):\n",
    "    final_lstm = tf.contrib.rnn.BasicLSTMCell(num_final, forget_bias=1.0)\n",
    "    final_lstm_state = tf.zeros([batch_size, num_final]), tf.zeros([batch_size, num_final])\n",
    "    \n",
    "# linear transformation to final output\n",
    "final_w = tf.Variable(tf.random_normal([num_final, num_input]))\n",
    "final_b = tf.Variable(tf.random_normal([num_input]))\n",
    "\n",
    "# reshaping data to (timesteps, batch_size, num_input)\n",
    "_X = tf.unstack(X, timesteps, 1)\n",
    "\n",
    "# time loop\n",
    "readings_log = []\n",
    "outputs = []\n",
    "for t, inp, truth in zip(np.arange(timesteps - 1), _X[:-1], _X[1:]):\n",
    "    # moving data through lstm layers\n",
    "    with tf.variable_scope('first_lstm'):\n",
    "        first_lstm_output, first_lstm_state = first_lstm(inp, first_lstm_state)\n",
    "    with tf.variable_scope(\"read_lstm\"):\n",
    "        read_lstm_output, read_lstm_state = read_lstm(first_lstm_output, read_lstm_state)\n",
    "    \n",
    "    # linear transformation to vector of history_size length\n",
    "    read = tf.matmul(read_lstm_output, read_w) + read_b\n",
    "    # transformation to \"probabilities\"-kind weights    \n",
    "    read_proba = tf.nn.softmax(read, 1)\n",
    "    readings_log.append(read_proba)\n",
    "    # taking selected data from memory\n",
    "    memory_retrieve = tf.matmul(history, tf.expand_dims(read_proba, 2))\n",
    "    \n",
    "    # rolling history\n",
    "    history = tf.concat([history[:, :, 1:], tf.expand_dims(inp, 2)], axis=2)\n",
    "    \n",
    "    # moving input through transformation layer\n",
    "    with tf.variable_scope('transform_lstm'):\n",
    "        transform_lstm_output, transformt_lstm_state = transform_lstm(inp, transform_lstm_state)\n",
    "    \n",
    "    # moving through final lstm layer\n",
    "    with tf.variable_scope(\"final_lstm\"):\n",
    "        final_lstm_output, final_lstm_state = final_lstm(tf.concat([transform_lstm_output, \n",
    "                                                                    tf.squeeze(memory_retrieve, 2)], axis=1), \n",
    "                                                         final_lstm_state)\n",
    "    \n",
    "    # calculating final ans\n",
    "    output = tf.matmul(final_lstm_output, final_w) + final_b\n",
    "    outputs.append(tf.nn.softmax(output, 1))\n",
    "    \n",
    "    # calculate loss\n",
    "    loss_op += tf.reduce_mean(tf.nn.softmax_cross_entropy_with_logits(logits=output, labels=truth))\n",
    "\n",
    "# define optimizer\n",
    "optimizer = tf.train.AdamOptimizer(learning_rate=learning_rate,\n",
    "                                   beta1=0.9,\n",
    "                                   beta2=0.999,\n",
    "                                   epsilon=1e-08,\n",
    "                                   use_locking=False,\n",
    "                                   name='Adam')\n",
    "# optimizing\n",
    "train_op = tf.contrib.layers.optimize_loss(\n",
    "                loss_op, tf.train.get_global_step(), optimizer=optimizer, learning_rate=learning_rate)\n",
    "\n",
    "init = tf.global_variables_initializer()"
   ]
  },
  {
   "cell_type": "code",
   "execution_count": 4,
   "metadata": {},
   "outputs": [],
   "source": [
    "# Start training\n",
    "config = tf.ConfigProto()\n",
    "config.gpu_options.per_process_gpu_memory_fraction = 0.4  # BlasGEMM launch failed error fix (seems like not enopugh memory on gpu)\n",
    "\n",
    "sess = tf.Session(config = config)\n",
    "# Run the initializer\n",
    "sess.run(init)\n",
    "\n",
    "losses = []"
   ]
  },
  {
   "cell_type": "code",
   "execution_count": 5,
   "metadata": {
    "scrolled": true
   },
   "outputs": [
    {
     "name": "stdout",
     "output_type": "stream",
     "text": [
      "Step 0, Minibatch Loss= 477.4639\n",
      "Step 100, Minibatch Loss= 161.9030\n",
      "Step 200, Minibatch Loss= 124.2843\n",
      "Step 300, Minibatch Loss= 110.0896\n",
      "Step 400, Minibatch Loss= 94.8787\n",
      "Step 500, Minibatch Loss= 83.1408\n",
      "Step 600, Minibatch Loss= 70.2819\n",
      "Step 700, Minibatch Loss= 61.5471\n",
      "Step 800, Minibatch Loss= 54.0162\n",
      "Step 900, Minibatch Loss= 47.0388\n",
      "Optimization Finished!\n"
     ]
    }
   ],
   "source": [
    "training_steps = 1000\n",
    "display_step = 100\n",
    "\n",
    "for step in range(0, training_steps):\n",
    "    # Run optimization op (backprop)\n",
    "    sess.run(train_op, feed_dict={X: Songs})\n",
    "    \n",
    "    # Get Loss\n",
    "    L = sess.run(loss_op, feed_dict={X: Songs})\n",
    "    losses.append(L)\n",
    "    \n",
    "    if step % display_step == 0:\n",
    "        # Calculate batch loss and accuracy        \n",
    "        print(\"Step \" + str(step) + \", Minibatch Loss= \" + \"{:.4f}\".format(L))\n",
    "\n",
    "print(\"Optimization Finished!\")"
   ]
  },
  {
   "cell_type": "code",
   "execution_count": 16,
   "metadata": {
    "scrolled": true
   },
   "outputs": [
    {
     "name": "stdout",
     "output_type": "stream",
     "text": [
      "Step 0, Minibatch Loss= 42.1413\n",
      "Step 100, Minibatch Loss= 40.5304\n",
      "Step 200, Minibatch Loss= 32.0485\n",
      "Step 300, Minibatch Loss= 38.7714\n",
      "Step 400, Minibatch Loss= 31.0264\n",
      "Step 500, Minibatch Loss= 28.9436\n",
      "Step 600, Minibatch Loss= 61.2247\n",
      "Step 700, Minibatch Loss= 19.6767\n",
      "Step 800, Minibatch Loss= 18.7686\n",
      "Step 900, Minibatch Loss= 24.7169\n",
      "Optimization Finished!\n"
     ]
    }
   ],
   "source": [
    "training_steps = 1000\n",
    "display_step = 100\n",
    "\n",
    "for step in range(0, training_steps):\n",
    "    # Run optimization op (backprop)\n",
    "    sess.run(train_op, feed_dict={X: Songs})\n",
    "    \n",
    "    # Get Loss\n",
    "    L = sess.run(loss_op, feed_dict={X: Songs})\n",
    "    losses.append(L)\n",
    "    \n",
    "    if step % display_step == 0:\n",
    "        # Calculate batch loss and accuracy        \n",
    "        print(\"Step \" + str(step) + \", Minibatch Loss= \" + \"{:.4f}\".format(L))\n",
    "\n",
    "print(\"Optimization Finished!\")"
   ]
  },
  {
   "cell_type": "code",
   "execution_count": 18,
   "metadata": {
    "scrolled": true
   },
   "outputs": [
    {
     "name": "stdout",
     "output_type": "stream",
     "text": [
      "Step 0, Minibatch Loss= 15.4878\n",
      "Step 100, Minibatch Loss= 15.9949\n",
      "Step 200, Minibatch Loss= 13.2827\n",
      "Step 300, Minibatch Loss= 13.1773\n",
      "Step 400, Minibatch Loss= 11.2455\n",
      "Step 500, Minibatch Loss= 18.0548\n",
      "Step 600, Minibatch Loss= 11.9374\n",
      "Step 700, Minibatch Loss= 10.3500\n",
      "Step 800, Minibatch Loss= 9.3238\n",
      "Step 900, Minibatch Loss= 10.7967\n",
      "Optimization Finished!\n"
     ]
    }
   ],
   "source": [
    "training_steps = 1000\n",
    "display_step = 100\n",
    "\n",
    "for step in range(0, training_steps):\n",
    "    # Run optimization op (backprop)\n",
    "    sess.run(train_op, feed_dict={X: Songs})\n",
    "    \n",
    "    # Get Loss\n",
    "    L = sess.run(loss_op, feed_dict={X: Songs})\n",
    "    losses.append(L)\n",
    "    \n",
    "    if step % display_step == 0:\n",
    "        # Calculate batch loss and accuracy        \n",
    "        print(\"Step \" + str(step) + \", Minibatch Loss= \" + \"{:.4f}\".format(L))\n",
    "\n",
    "print(\"Optimization Finished!\")"
   ]
  },
  {
   "cell_type": "code",
   "execution_count": 19,
   "metadata": {},
   "outputs": [
    {
     "name": "stdout",
     "output_type": "stream",
     "text": [
      "forgot to print loss on final step:  8.98411\n"
     ]
    }
   ],
   "source": [
    "print(\"forgot to print loss on final step: \", L)"
   ]
  },
  {
   "cell_type": "markdown",
   "metadata": {},
   "source": [
    "### Мы смогли переобучиться?..\n",
    "Вообще - не должны, так как на первых моментах времени однозначно должна творится \"ерунда\". Но даже если он переобучится под 35 песенок и \"усреднит\" их распределения, то плохо получиться не должно."
   ]
  },
  {
   "cell_type": "markdown",
   "metadata": {},
   "source": [
    "### Посмотрим, что получилось на примере кузнечика"
   ]
  },
  {
   "cell_type": "code",
   "execution_count": 20,
   "metadata": {},
   "outputs": [],
   "source": [
    "import matplotlib.pyplot as plt\n",
    "%matplotlib inline\n",
    "\n",
    "def draw(data, outp, scalex=192.0 / 7, scaley=30.0 / 7):\n",
    "    f, (ax1, ax2) = plt.subplots(2, 1, sharey=True, figsize=(scalex, scaley))\n",
    "    f.subplots_adjust(hspace=0)\n",
    "    ax1.set_title(\"true data\")\n",
    "    ax1.imshow(data.T, aspect='auto')\n",
    "    ax2.set_title(\"output\", y = -0.3)\n",
    "    ax2.imshow(outp.T, aspect='auto')\n",
    "    ax2.set_xticks(np.arange(0, 128, 4))\n",
    "    plt.show()\n",
    "    \n",
    "def drawr(readings, scalex=192.0 / 10, scaley=80.0 / 10):\n",
    "    plt.figure(figsize=(scalex, scaley))\n",
    "    plt.title(\"readings\")\n",
    "    plt.imshow(readings.T, aspect='auto')\n",
    "    plt.xlabel(\"time\")\n",
    "    plt.xticks(np.arange(0, 128, 4))\n",
    "    plt.show()"
   ]
  },
  {
   "cell_type": "code",
   "execution_count": 21,
   "metadata": {},
   "outputs": [
    {
     "data": {
      "text/plain": [
       "[<matplotlib.lines.Line2D at 0x20964ca5240>]"
      ]
     },
     "execution_count": 21,
     "metadata": {},
     "output_type": "execute_result"
    },
    {
     "data": {
      "image/png": "[encoded data removed]",
      "text/plain": [
       "<matplotlib.figure.Figure at 0x20964b4eef0>"
      ]
     },
     "metadata": {},
     "output_type": "display_data"
    }
   ],
   "source": [
    "plt.plot(losses)"
   ]
  },
  {
   "cell_type": "markdown",
   "metadata": {},
   "source": [
    "Ого, что это за скачки? Где-то я такое видел, но не помню где... Я ж ведь в Адама подаю на каждой итерации ОДИНАКОВЫЙ батч (из всех имеющихся мелодий), как же это функция не падает-то?\n",
    "\n",
    "В принципе-то, есть learning_rate, никто не гарантирует ж, что если мы сдвинемся на антиградиент, то значение функции уменьшится."
   ]
  },
  {
   "cell_type": "code",
   "execution_count": 22,
   "metadata": {},
   "outputs": [
    {
     "data": {
      "text/plain": [
       "(127, 68, 14)"
      ]
     },
     "execution_count": 22,
     "metadata": {},
     "output_type": "execute_result"
    }
   ],
   "source": [
    "outp = np.array(sess.run(outputs, feed_dict={X: Songs}))\n",
    "outp.shape"
   ]
  },
  {
   "cell_type": "code",
   "execution_count": 23,
   "metadata": {},
   "outputs": [
    {
     "data": {
      "text/plain": [
       "(68, 127, 14)"
      ]
     },
     "execution_count": 23,
     "metadata": {},
     "output_type": "execute_result"
    }
   ],
   "source": [
    "outp = np.rollaxis(outp, 1)\n",
    "outp.shape"
   ]
  },
  {
   "cell_type": "markdown",
   "metadata": {},
   "source": [
    "Кузнечик и предсказания кузнечика!"
   ]
  },
  {
   "cell_type": "code",
   "execution_count": 25,
   "metadata": {},
   "outputs": [
    {
     "data": {
      "image/png": "[encoded data removed]",
      "text/plain": [
       "<matplotlib.figure.Figure at 0x20964da7c18>"
      ]
     },
     "metadata": {},
     "output_type": "display_data"
    }
   ],
   "source": [
    "draw(Songs[0, 1:, :], outp[0, :, :], scalex=192.0 / 5, scaley=30.0 / 5)"
   ]
  },
  {
   "cell_type": "markdown",
   "metadata": {},
   "source": [
    "В принципе, подсвечивающиеся \"альтернативные\" варианты вполне адекватны. Вообще, хорошо эта штука \"анализирует\" кузнечика, почти то, что я бы хотел увидеть."
   ]
  },
  {
   "cell_type": "code",
   "execution_count": 26,
   "metadata": {},
   "outputs": [
    {
     "data": {
      "text/plain": [
       "(127, 68, 80)"
      ]
     },
     "execution_count": 26,
     "metadata": {},
     "output_type": "execute_result"
    }
   ],
   "source": [
    "readings = np.array(sess.run(readings_log, feed_dict={X: Songs}))\n",
    "readings.shape"
   ]
  },
  {
   "cell_type": "code",
   "execution_count": 27,
   "metadata": {
    "scrolled": false
   },
   "outputs": [
    {
     "data": {
      "image/png": "[encoded data removed]",
      "text/plain": [
       "<matplotlib.figure.Figure at 0x20964f80b70>"
      ]
     },
     "metadata": {},
     "output_type": "display_data"
    }
   ],
   "source": [
    "drawr(readings[:, 0, :], scalex=192.0 / 7, scaley=80.0 / 7)"
   ]
  },
  {
   "cell_type": "markdown",
   "metadata": {},
   "source": [
    "А вот этот результат очень странный. Посмотрим, куда в историю он как часто смотрит:"
   ]
  },
  {
   "cell_type": "code",
   "execution_count": 33,
   "metadata": {},
   "outputs": [
    {
     "data": {
      "text/plain": [
       "<Container object of 80 artists>"
      ]
     },
     "execution_count": 33,
     "metadata": {},
     "output_type": "execute_result"
    },
    {
     "data": {
      "image/png": "[encoded data removed]",
      "text/plain": [
       "<matplotlib.figure.Figure at 0x20965c7c748>"
      ]
     },
     "metadata": {},
     "output_type": "display_data"
    }
   ],
   "source": [
    "plt.figure(figsize=(14, 8))\n",
    "plt.bar(np.arange(2, 82)[::-1], readings[:, :, :].mean(axis=0).mean(axis=0))"
   ]
  },
  {
   "cell_type": "markdown",
   "metadata": {},
   "source": [
    "Что ещё за 21?!?? О_О\n",
    "Вообще, должно быть 16 и 32. Ну вот период такой у нот, а тут... и при этом он таки переобучился... Очень интересно.\n",
    "\n",
    "Посмотрим-ка на другую мелодию:"
   ]
  },
  {
   "cell_type": "code",
   "execution_count": 34,
   "metadata": {},
   "outputs": [
    {
     "data": {
      "image/png": "[encoded data removed]",
      "text/plain": [
       "<matplotlib.figure.Figure at 0x209658de860>"
      ]
     },
     "metadata": {},
     "output_type": "display_data"
    }
   ],
   "source": [
    "draw(Songs[20, 1:, :], outp[20, :, :], scalex=192.0 / 5, scaley=30.0 / 5)"
   ]
  },
  {
   "cell_type": "code",
   "execution_count": 35,
   "metadata": {
    "scrolled": false
   },
   "outputs": [
    {
     "data": {
      "image/png": "[encoded data removed]",
      "text/plain": [
       "<matplotlib.figure.Figure at 0x209658de710>"
      ]
     },
     "metadata": {},
     "output_type": "display_data"
    }
   ],
   "source": [
    "drawr(readings[:, 20, :], scalex=192.0 / 7, scaley=80.0 / 7)"
   ]
  },
  {
   "cell_type": "markdown",
   "metadata": {},
   "source": [
    "Вроде как он видит периоды, и явно ими пользуется по полной, не очень понятно, что это за странное копирование с 21-ой прошлого момента, потому что там ничего нет."
   ]
  },
  {
   "cell_type": "markdown",
   "metadata": {},
   "source": [
    "# Генерация"
   ]
  },
  {
   "cell_type": "markdown",
   "metadata": {},
   "source": [
    "За исключением того, что граф вычислений TF нужно прогонять 128 раз, сам алгоритм тут адекватный: получаем распределение, сэмплируем, фиксируем результат. Дальше этот результат будет попадать в историю и использоваться через периоды времени - то, чего и хотелось бы добиться."
   ]
  },
  {
   "cell_type": "code",
   "execution_count": 38,
   "metadata": {},
   "outputs": [],
   "source": [
    "notes = np.zeros((68, 128, 14))\n",
    "notes[np.arange(68), np.zeros(68, dtype=int), np.random.randint(0, 13, size=68)] = 1  # first note is one and random"
   ]
  },
  {
   "cell_type": "code",
   "execution_count": 40,
   "metadata": {},
   "outputs": [],
   "source": [
    "for t in range(127):\n",
    "    outp = np.array(sess.run(outputs, feed_dict={X: notes}))\n",
    "    \n",
    "    # generate next note from output probabilities\n",
    "    next_note = np.zeros((68, 14))\n",
    "    for i in range(68):\n",
    "        next_note[i, np.random.choice(np.arange(14), p=outp[t, i])] = 1\n",
    "    \n",
    "    # write chosen notes\n",
    "    notes[:, t+1, :] = next_note"
   ]
  },
  {
   "cell_type": "code",
   "execution_count": 41,
   "metadata": {},
   "outputs": [],
   "source": [
    "notes = notes[:, :, :-1]  # delete \"pause notes\""
   ]
  },
  {
   "cell_type": "code",
   "execution_count": 61,
   "metadata": {},
   "outputs": [],
   "source": [
    "# saving mid to files\n",
    "for i in range(68):\n",
    "    ms = MySong(notes[i])\n",
    "    ms.finish()\n",
    "    ms.save_file(\".\\HistoryUser CrossEntropy\\HU (2-layer LSTM) united (1-layer LSTM) with transformed inputs (1-layer LSTM) trained on 35 songs - ex\" + str(i))"
   ]
  }
 ],
 "metadata": {
  "kernelspec": {
   "display_name": "Python 3",
   "language": "python",
   "name": "python3"
  },
  "language_info": {
   "codemirror_mode": {
    "name": "ipython",
    "version": 3
   },
   "file_extension": ".py",
   "mimetype": "text/x-python",
   "name": "python",
   "nbconvert_exporter": "python",
   "pygments_lexer": "ipython3",
   "version": "3.6.3"
  }
 },
 "nbformat": 4,
 "nbformat_minor": 2
}
