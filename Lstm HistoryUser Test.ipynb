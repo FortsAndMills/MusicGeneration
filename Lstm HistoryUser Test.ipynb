{
 "cells": [
  {
   "cell_type": "code",
   "execution_count": 1,
   "metadata": {
    "collapsed": true
   },
   "outputs": [],
   "source": [
    "import tensorflow as tf\n",
    "import numpy as np"
   ]
  },
  {
   "cell_type": "code",
   "execution_count": 2,
   "metadata": {
    "collapsed": true
   },
   "outputs": [],
   "source": [
    "# the input data is 128+64 random binary vectors of dimension 13\n",
    "# the output data has same dimensions; final 128 of vectors must be same as first 128 of input\n",
    "def generate():\n",
    "    X = np.random.randint(0, 2, (128, 128+64, 13))\n",
    "    X[:, 128:, :] = 0\n",
    "    Y = np.zeros((128, 128+64, 13))\n",
    "    Y[:, 64:, :] = X[:, :128, :]\n",
    "    return X, Y"
   ]
  },
  {
   "cell_type": "code",
   "execution_count": 177,
   "metadata": {
    "scrolled": true
   },
   "outputs": [],
   "source": [
    "# the input data is 128+64 random binary vectors of dimension 13\n",
    "# the output data has same dimensions; final 128 of vectors must be same as first 128 of input\n",
    "tf.reset_default_graph()\n",
    "\n",
    "# Training Parameters\n",
    "learning_rate = 0.001\n",
    "training_steps = 10000\n",
    "batch_size = 128\n",
    "display_step = 200\n",
    "\n",
    "# Network Parameters\n",
    "num_input = 13       # dimension of one input at moment\n",
    "timesteps = 128+64   # timesteps in one sequence\n",
    "num_hidden = 70      # num of lstms in first hidden layer\n",
    "num_read = 50        # num of lstms in second hidden layer\n",
    "history_size = 80    # how much previous moments of input is stored\n",
    "\n",
    "# tf graph input\n",
    "X = tf.placeholder(\"float\", [batch_size, timesteps, num_input])\n",
    "Y = tf.placeholder(\"float\", [batch_size, timesteps, num_input])\n",
    "\n",
    "# loss will be calculated in the loop as sum of losses on each iteration\n",
    "loss_op = tf.constant(0.0)\n",
    "\n",
    "# defining first hidden layer\n",
    "with tf.variable_scope('first_lstm'):\n",
    "    first_lstm = tf.contrib.rnn.BasicLSTMCell(num_hidden, forget_bias=1.0)\n",
    "    first_lstm_state = tf.zeros([batch_size, num_hidden]), tf.zeros([batch_size, num_hidden])\n",
    "\n",
    "# defining second hidden layer\n",
    "with tf.variable_scope(\"read_lstm\"):\n",
    "    read_lstm = tf.contrib.rnn.BasicLSTMCell(num_read, forget_bias=1.0)\n",
    "    read_lstm_state = tf.zeros([batch_size, num_read]), tf.zeros([batch_size, num_read])\n",
    "\n",
    "# linear transformation of second lstm cell outputs to history size dimension vector\n",
    "read_w = tf.Variable(tf.random_normal([num_read, history_size]))\n",
    "read_b = tf.Variable(tf.random_normal([history_size]))\n",
    "\n",
    "# history is an array of previous (in time) history_size inputs\n",
    "history = tf.zeros([batch_size, num_input, history_size])\n",
    "\n",
    "# reshaping data to (timesteps, batch_size, num_input)\n",
    "_X = tf.unstack(X, timesteps, 1)\n",
    "_Y = tf.unstack(Y, timesteps, 1)\n",
    "\n",
    "# time loop\n",
    "for t, inp, truth in zip(np.arange(timesteps), _X, _Y):\n",
    "    # moving data through lstm layers\n",
    "    with tf.variable_scope('first_lstm'):\n",
    "        first_lstm_output, first_lstm_state = first_lstm(inp, first_lstm_state)\n",
    "    with tf.variable_scope(\"read_lstm\"):\n",
    "        read_lstm_output, read_lstm_state = read_lstm(first_lstm_output, read_lstm_state)\n",
    "    \n",
    "    # non-linear transformation to vector of history_size length\n",
    "    read = tf.sigmoid(tf.matmul(read_lstm_output, read_w) + read_b)\n",
    "    # transformation to \"probabilities\"-kind weights\n",
    "    \n",
    "    read_proba = tf.nn.softmax(read, 1)\n",
    "    # taking selected data from memory\n",
    "    memory_retrieve = tf.matmul(history, tf.expand_dims(read_proba, 2))\n",
    "    \n",
    "    # calculate loss as cross_entropy\n",
    "    if t >= 64:\n",
    "        loss_op += tf.reduce_mean(tf.squared_difference(memory_retrieve, tf.expand_dims(truth, 2)))\n",
    "        #tf.reduce_mean(tf.nn.sigmoid_cross_entropy_with_logits(logits=memory_retrieve, labels=tf.expand_dims(truth, 2)))\n",
    "    \n",
    "    # rolling history\n",
    "    history = tf.concat([history[:, :, 1:], tf.expand_dims(inp, 2)], axis=2)\n",
    "\n",
    "# define optimizer\n",
    "optimizer = tf.train.AdamOptimizer(learning_rate=learning_rate,\n",
    "                                   beta1=0.9,\n",
    "                                   beta2=0.999,\n",
    "                                   epsilon=1e-08,\n",
    "                                   use_locking=False,\n",
    "                                   name='Adam')\n",
    "# optimizing\n",
    "train_op = tf.contrib.layers.optimize_loss(\n",
    "                loss_op, tf.contrib.framework.get_global_step(), optimizer=optimizer, learning_rate=learning_rate)\n",
    "\n",
    "init = tf.global_variables_initializer()"
   ]
  },
  {
   "cell_type": "code",
   "execution_count": null,
   "metadata": {
    "collapsed": true
   },
   "outputs": [],
   "source": [
    "# Start training\n",
    "sess = tf.Session()\n",
    "# Run the initializer\n",
    "sess.run(init)"
   ]
  },
  {
   "cell_type": "code",
   "execution_count": null,
   "metadata": {
    "scrolled": true
   },
   "outputs": [
    {
     "name": "stdout",
     "output_type": "stream",
     "text": [
      "Step 0, Minibatch Loss= 34.7727\n",
      "Step 200, Minibatch Loss= 32.5039\n",
      "Step 400, Minibatch Loss= 32.3189\n",
      "Step 600, Minibatch Loss= 32.2119\n",
      "Step 800, Minibatch Loss= 32.2542\n",
      "Step 1000, Minibatch Loss= 32.2154\n",
      "Step 1200, Minibatch Loss= 32.2279\n",
      "Step 1400, Minibatch Loss= 32.2093\n",
      "Step 1600, Minibatch Loss= 32.2487\n",
      "Step 1800, Minibatch Loss= 32.2051\n",
      "Step 2000, Minibatch Loss= 32.1753\n",
      "Step 2200, Minibatch Loss= 32.1825\n",
      "Step 2400, Minibatch Loss= 32.1669\n",
      "Step 2600, Minibatch Loss= 32.1302\n",
      "Step 2800, Minibatch Loss= 32.1196\n",
      "Step 3000, Minibatch Loss= 32.1675\n",
      "Step 3200, Minibatch Loss= 32.1077\n",
      "Step 3400, Minibatch Loss= 32.1377\n",
      "Step 3600, Minibatch Loss= 32.0530\n",
      "Step 3800, Minibatch Loss= 32.0322\n",
      "Step 4000, Minibatch Loss= 32.0259\n"
     ]
    }
   ],
   "source": [
    "for step in range(0, training_steps):\n",
    "    batch_x, batch_y = generate()\n",
    "    \n",
    "    # Run optimization op (backprop)\n",
    "    sess.run(train_op, feed_dict={X: batch_x, Y: batch_y})\n",
    "    if step % display_step == 0:\n",
    "        # Calculate batch loss and accuracy\n",
    "        L = sess.run(loss_op, feed_dict={X: batch_x, Y: batch_y})\n",
    "        print(\"Step \" + str(step) + \", Minibatch Loss= \" + \"{:.4f}\".format(L))\n",
    "\n",
    "print(\"Optimization Finished!\")"
   ]
  },
  {
   "cell_type": "code",
   "execution_count": 168,
   "metadata": {
    "collapsed": true
   },
   "outputs": [],
   "source": [
    "batch_x, batch_y = generate()"
   ]
  },
  {
   "cell_type": "code",
   "execution_count": 169,
   "metadata": {},
   "outputs": [],
   "source": [
    "h = sess.run(history, feed_dict={X: batch_x, Y: batch_y})"
   ]
  },
  {
   "cell_type": "code",
   "execution_count": 170,
   "metadata": {},
   "outputs": [
    {
     "data": {
      "text/plain": [
       "(128, 13, 80)"
      ]
     },
     "execution_count": 170,
     "metadata": {},
     "output_type": "execute_result"
    }
   ],
   "source": [
    "h.shape"
   ]
  },
  {
   "cell_type": "code",
   "execution_count": 171,
   "metadata": {},
   "outputs": [
    {
     "data": {
      "text/plain": [
       "0"
      ]
     },
     "execution_count": 171,
     "metadata": {},
     "output_type": "execute_result"
    }
   ],
   "source": [
    "(np.rollaxis(batch_x[:, -80:, :], 2, 1) != h).sum()"
   ]
  },
  {
   "cell_type": "code",
   "execution_count": null,
   "metadata": {
    "collapsed": true
   },
   "outputs": [],
   "source": []
  },
  {
   "cell_type": "code",
   "execution_count": 172,
   "metadata": {},
   "outputs": [],
   "source": [
    "mr = sess.run(memory_retrieve, feed_dict={X: batch_x, Y: batch_y})"
   ]
  },
  {
   "cell_type": "code",
   "execution_count": 173,
   "metadata": {},
   "outputs": [
    {
     "data": {
      "text/plain": [
       "(128, 13, 1)"
      ]
     },
     "execution_count": 173,
     "metadata": {},
     "output_type": "execute_result"
    }
   ],
   "source": [
    "mr.shape"
   ]
  },
  {
   "cell_type": "code",
   "execution_count": 174,
   "metadata": {},
   "outputs": [
    {
     "data": {
      "text/plain": [
       "array([[ True,  True,  True, ...,  True,  True,  True],\n",
       "       [ True,  True,  True, ...,  True,  True,  True],\n",
       "       [ True,  True,  True, ...,  True,  True,  True],\n",
       "       ..., \n",
       "       [ True,  True,  True, ...,  True,  True,  True],\n",
       "       [ True,  True,  True, ...,  True,  True,  True],\n",
       "       [ True,  True,  True, ...,  True,  True,  True]], dtype=bool)"
      ]
     },
     "execution_count": 174,
     "metadata": {},
     "output_type": "execute_result"
    }
   ],
   "source": [
    "h[:, :, 15] == mr[:, :, 0]"
   ]
  },
  {
   "cell_type": "code",
   "execution_count": 175,
   "metadata": {},
   "outputs": [
    {
     "data": {
      "text/plain": [
       "array([[ True,  True,  True, ...,  True,  True,  True],\n",
       "       [ True,  True,  True, ...,  True,  True,  True],\n",
       "       [ True,  True,  True, ...,  True,  True,  True],\n",
       "       ..., \n",
       "       [ True,  True,  True, ...,  True,  True,  True],\n",
       "       [ True,  True,  True, ...,  True,  True,  True],\n",
       "       [ True,  True,  True, ...,  True,  True,  True]], dtype=bool)"
      ]
     },
     "execution_count": 175,
     "metadata": {},
     "output_type": "execute_result"
    }
   ],
   "source": [
    "batch_y[:, -1, :] == h[:, :, 15]"
   ]
  },
  {
   "cell_type": "code",
   "execution_count": null,
   "metadata": {
    "collapsed": true
   },
   "outputs": [],
   "source": []
  },
  {
   "cell_type": "code",
   "execution_count": 176,
   "metadata": {},
   "outputs": [
    {
     "data": {
      "text/plain": [
       "0.0"
      ]
     },
     "execution_count": 176,
     "metadata": {},
     "output_type": "execute_result"
    }
   ],
   "source": [
    "sess.run(loss_op, feed_dict={X: batch_x, Y: batch_y})"
   ]
  },
  {
   "cell_type": "code",
   "execution_count": null,
   "metadata": {
    "collapsed": true
   },
   "outputs": [],
   "source": []
  }
 ],
 "metadata": {
  "kernelspec": {
   "display_name": "Python 3",
   "language": "python",
   "name": "python3"
  }
 },
 "nbformat": 4,
 "nbformat_minor": 2
}
