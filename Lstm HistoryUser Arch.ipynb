{
 "cells": [
  {
   "cell_type": "code",
   "execution_count": 1,
   "metadata": {},
   "outputs": [],
   "source": [
    "import tensorflow as tf\n",
    "import numpy as np"
   ]
  },
  {
   "cell_type": "markdown",
   "metadata": {},
   "source": [
    "Архитектура тут следующая:\n",
    "- 13-мерный вход подаётся двухслойному LSTM\n",
    "- Выходы второго слоя линейно преобразуются к 80-мерному вектору, от которого берётся softmax\n",
    "- По этим весам берётся линейная комбинация из истории\n",
    "Такая схема быстро обучилась задаче копирования. Также к решению сошёлся эволюционной алгоритм (но пока что всё дифференцируемо и хорошо, так что пока без него).\n",
    "\n",
    "Нам, однако, хочется взятый из истории материал а) преобразовать б) возможно, не использовать, а использовать входы. Поэтому дальше:\n",
    "- вытащенный из истории вектор объединяется с текущем входом и подаётся на вход ещё одному слою LSTM\n",
    "- выход LSTM линейно преобразуется к размерности ответа\n",
    "- в качестве функции потерь в этих экспериментах обычная квадратичная; хочется сойтись к нулевым ошибкам, а в кросс-энтропии логарифмы."
   ]
  },
  {
   "cell_type": "code",
   "execution_count": 2,
   "metadata": {
    "scrolled": true
   },
   "outputs": [],
   "source": [
    "# the input data is 128+64 random binary vectors of dimension 13\n",
    "# the output data has same dimensions; final 128 of vectors must be same as first 128 of input\n",
    "tf.reset_default_graph()\n",
    "\n",
    "# Network Parameters\n",
    "learning_rate = 0.001\n",
    "batch_size = 128\n",
    "num_input = 13       # dimension of one input at moment\n",
    "timesteps = 128+64   # timesteps in one sequence\n",
    "num_hidden = 70      # num of lstms in first hidden layer\n",
    "num_read = 50        # num of lstms in second hidden layer\n",
    "num_final = 90       # num of lstms in final hidden layer\n",
    "history_size = 80    # how much previous moments of input is stored\n",
    "\n",
    "# tf graph input\n",
    "X = tf.placeholder(\"float\", [batch_size, timesteps, num_input])\n",
    "Y = tf.placeholder(\"float\", [batch_size, timesteps, num_input])\n",
    "\n",
    "# loss will be calculated in the loop as sum of losses on each iteration\n",
    "loss_op = tf.constant(0.0)\n",
    "\n",
    "# defining first hidden layer\n",
    "with tf.variable_scope('first_lstm'):\n",
    "    first_lstm = tf.contrib.rnn.BasicLSTMCell(num_hidden, forget_bias=1.0)\n",
    "    first_lstm_state = tf.zeros([batch_size, num_hidden]), tf.zeros([batch_size, num_hidden])\n",
    "\n",
    "# defining second hidden layer\n",
    "with tf.variable_scope(\"read_lstm\"):\n",
    "    read_lstm = tf.contrib.rnn.BasicLSTMCell(num_read, forget_bias=1.0)\n",
    "    read_lstm_state = tf.zeros([batch_size, num_read]), tf.zeros([batch_size, num_read])\n",
    "\n",
    "# linear transformation of second lstm cell outputs to history size dimension vector\n",
    "read_w = tf.Variable(tf.random_normal([num_read, history_size]))\n",
    "read_b = tf.Variable(tf.random_normal([history_size]))\n",
    "\n",
    "# history is an array of previous (in time) history_size inputs\n",
    "history = tf.zeros([batch_size, num_input, history_size])\n",
    "\n",
    "# defining common hidden layer\n",
    "with tf.variable_scope(\"final_lstm\"):\n",
    "    final_lstm = tf.contrib.rnn.BasicLSTMCell(num_final, forget_bias=1.0)\n",
    "    final_lstm_state = tf.zeros([batch_size, num_final]), tf.zeros([batch_size, num_final])\n",
    "    \n",
    "# linear transformation to final output\n",
    "final_w = tf.Variable(tf.random_normal([num_final, num_input]))\n",
    "final_b = tf.Variable(tf.random_normal([num_input]))\n",
    "\n",
    "# reshaping data to (timesteps, batch_size, num_input)\n",
    "_X = tf.unstack(X, timesteps, 1)\n",
    "_Y = tf.unstack(Y, timesteps, 1)\n",
    "\n",
    "# time loop\n",
    "readings_log = []\n",
    "outputs = []\n",
    "for t, inp, truth in zip(np.arange(timesteps), _X, _Y):\n",
    "    # moving data through lstm layers\n",
    "    with tf.variable_scope('first_lstm'):\n",
    "        first_lstm_output, first_lstm_state = first_lstm(inp, first_lstm_state)\n",
    "    with tf.variable_scope(\"read_lstm\"):\n",
    "        read_lstm_output, read_lstm_state = read_lstm(first_lstm_output, read_lstm_state)\n",
    "    \n",
    "    # linear transformation to vector of history_size length\n",
    "    read = tf.matmul(read_lstm_output, read_w) + read_b\n",
    "    # transformation to \"probabilities\"-kind weights    \n",
    "    read_proba = tf.nn.softmax(read, 1)\n",
    "    readings_log.append(read_proba)\n",
    "    # taking selected data from memory\n",
    "    memory_retrieve = tf.matmul(history, tf.expand_dims(read_proba, 2))\n",
    "    \n",
    "    # rolling history\n",
    "    history = tf.concat([history[:, :, 1:], tf.expand_dims(inp, 2)], axis=2)\n",
    "    \n",
    "    # moving through final lstm layer\n",
    "    with tf.variable_scope(\"final_lstm\"):\n",
    "        final_lstm_output, final_lstm_state = final_lstm(tf.concat([inp, tf.squeeze(memory_retrieve, 2)], axis=1), \n",
    "                                                         final_lstm_state)\n",
    "    \n",
    "    # calculating final ans\n",
    "    output = tf.matmul(final_lstm_output, final_w) + final_b    \n",
    "    outputs.append(output)\n",
    "    \n",
    "    # calculate loss\n",
    "    if t >= 64:\n",
    "        loss_op += tf.reduce_mean(tf.squared_difference(output, truth))\n",
    "\n",
    "# define optimizer\n",
    "optimizer = tf.train.AdamOptimizer(learning_rate=learning_rate,\n",
    "                                   beta1=0.9,\n",
    "                                   beta2=0.999,\n",
    "                                   epsilon=1e-08,\n",
    "                                   use_locking=False,\n",
    "                                   name='Adam')\n",
    "# optimizing\n",
    "train_op = tf.contrib.layers.optimize_loss(\n",
    "                loss_op, tf.train.get_global_step(), optimizer=optimizer, learning_rate=learning_rate)\n",
    "\n",
    "init = tf.global_variables_initializer()"
   ]
  },
  {
   "cell_type": "markdown",
   "metadata": {},
   "source": [
    "## Проверяем на задаче копирования"
   ]
  },
  {
   "cell_type": "markdown",
   "metadata": {},
   "source": [
    "Во всех экспериментах здесь функция потерь считается, начиная с 64-го момента времени.\n",
    "\n",
    "Здесь данные - это копия входов со сдвигом на 64 момента времени"
   ]
  },
  {
   "cell_type": "code",
   "execution_count": 3,
   "metadata": {},
   "outputs": [],
   "source": [
    "# the input data is 128+64 random binary vectors of dimension 13\n",
    "# the output data has same dimensions; final 128 of vectors must be same as first 128 of input\n",
    "def generate():\n",
    "    X = np.random.randint(0, 2, (128, 128+64, 13))\n",
    "    X[:, 128:, :] = 0\n",
    "    Y = np.zeros((128, 128+64, 13))\n",
    "    Y[:, 64:, :] = X[:, :128, :]\n",
    "    return X, Y"
   ]
  },
  {
   "cell_type": "code",
   "execution_count": 4,
   "metadata": {},
   "outputs": [],
   "source": [
    "# Start training\n",
    "config = tf.ConfigProto(log_device_placement=True)  # to output is variable on gpu or cpu\n",
    "config.gpu_options.per_process_gpu_memory_fraction = 0.4  # BlasGEMM launch failed error fix (seems like not enopugh memory on gpu)\n",
    "\n",
    "sess = tf.Session(config = config)\n",
    "# Run the initializer\n",
    "sess.run(init)\n",
    "\n",
    "losses = []"
   ]
  },
  {
   "cell_type": "code",
   "execution_count": 5,
   "metadata": {
    "scrolled": true
   },
   "outputs": [
    {
     "name": "stdout",
     "output_type": "stream",
     "text": [
      "Step 0, Minibatch Loss= 134.4673\n",
      "Step 100, Minibatch Loss= 32.4272\n",
      "Step 200, Minibatch Loss= 2.6725\n",
      "Step 300, Minibatch Loss= 0.3165\n",
      "Step 400, Minibatch Loss= 0.1848\n",
      "Step 500, Minibatch Loss= 0.1384\n",
      "Step 600, Minibatch Loss= 0.1119\n",
      "Step 700, Minibatch Loss= 0.0901\n",
      "Step 800, Minibatch Loss= 0.0768\n",
      "Step 900, Minibatch Loss= 0.0646\n",
      "Optimization Finished!\n"
     ]
    }
   ],
   "source": [
    "training_steps = 1000\n",
    "display_step = 100\n",
    "\n",
    "for step in range(0, training_steps):\n",
    "    batch_x, batch_y = generate()\n",
    "    \n",
    "    # Run optimization op (backprop)\n",
    "    sess.run(train_op, feed_dict={X: batch_x, Y: batch_y})\n",
    "    \n",
    "    # Get Loss\n",
    "    L = sess.run(loss_op, feed_dict={X: batch_x, Y: batch_y})\n",
    "    losses.append(L)\n",
    "    \n",
    "    if step % display_step == 0:\n",
    "        # Calculate batch loss and accuracy        \n",
    "        print(\"Step \" + str(step) + \", Minibatch Loss= \" + \"{:.4f}\".format(L))\n",
    "\n",
    "print(\"Optimization Finished!\")"
   ]
  },
  {
   "cell_type": "code",
   "execution_count": 29,
   "metadata": {},
   "outputs": [],
   "source": [
    "import matplotlib.pyplot as plt\n",
    "%matplotlib inline\n",
    "\n",
    "def draw(data, outp, scalex=192.0 / 7, scaley=30.0 / 7):\n",
    "    f, (ax1, ax2) = plt.subplots(2, 1, sharey=True, figsize=(scalex, scaley))\n",
    "    f.subplots_adjust(hspace=0)\n",
    "    ax1.set_title(\"true data\")\n",
    "    ax1.imshow(data.T, aspect='auto')\n",
    "    ax2.set_title(\"output\", y = -0.3)\n",
    "    ax2.imshow(outp.T, aspect='auto')\n",
    "    plt.show()\n",
    "    \n",
    "def drawr(readings):\n",
    "    plt.figure(figsize=(192.0 / 14, 80.0 / 14))\n",
    "    plt.title(\"readings\")\n",
    "    plt.imshow(readings.T, aspect='auto')\n",
    "    plt.xlabel(\"time\")\n",
    "    plt.show()"
   ]
  },
  {
   "cell_type": "code",
   "execution_count": 8,
   "metadata": {},
   "outputs": [
    {
     "data": {
      "text/plain": [
       "[<matplotlib.lines.Line2D at 0x16f4b42cc88>]"
      ]
     },
     "execution_count": 8,
     "metadata": {},
     "output_type": "execute_result"
    },
    {
     "data": {
      "image/png": "[encoded data removed]",
      "text/plain": [
       "<matplotlib.figure.Figure at 0x16f4b30d240>"
      ]
     },
     "metadata": {},
     "output_type": "display_data"
    }
   ],
   "source": [
    "plt.plot(losses)"
   ]
  },
  {
   "cell_type": "code",
   "execution_count": 11,
   "metadata": {},
   "outputs": [
    {
     "data": {
      "text/plain": [
       "(192, 128, 13)"
      ]
     },
     "execution_count": 11,
     "metadata": {},
     "output_type": "execute_result"
    }
   ],
   "source": [
    "outp = np.array(sess.run(outputs, feed_dict={X: batch_x}))\n",
    "outp.shape"
   ]
  },
  {
   "cell_type": "code",
   "execution_count": 13,
   "metadata": {},
   "outputs": [
    {
     "data": {
      "text/plain": [
       "(128, 192, 13)"
      ]
     },
     "execution_count": 13,
     "metadata": {},
     "output_type": "execute_result"
    }
   ],
   "source": [
    "batch_y.shape"
   ]
  },
  {
   "cell_type": "code",
   "execution_count": 30,
   "metadata": {},
   "outputs": [
    {
     "data": {
      "image/png": "[encoded data removed]",
      "text/plain": [
       "<matplotlib.figure.Figure at 0x16f4bea2d68>"
      ]
     },
     "metadata": {},
     "output_type": "display_data"
    }
   ],
   "source": [
    "draw(batch_y[0, :, :], outp[:, 0, :])  # вывелся на рисунке, правда, кусочек, но не суть: сравнение правильного ответа и выхода"
   ]
  },
  {
   "cell_type": "code",
   "execution_count": 31,
   "metadata": {},
   "outputs": [
    {
     "data": {
      "text/plain": [
       "(192, 128, 80)"
      ]
     },
     "execution_count": 31,
     "metadata": {},
     "output_type": "execute_result"
    }
   ],
   "source": [
    "readings = np.array(sess.run(readings_log, feed_dict={X: batch_x}))\n",
    "readings.shape"
   ]
  },
  {
   "cell_type": "code",
   "execution_count": 37,
   "metadata": {
    "scrolled": true
   },
   "outputs": [
    {
     "data": {
      "image/png": "[encoded data removed]",
      "text/plain": [
       "<matplotlib.figure.Figure at 0x16f4c0d3e80>"
      ]
     },
     "metadata": {},
     "output_type": "display_data"
    }
   ],
   "source": [
    "drawr(readings[:, 0, :])  # вектор считывания из истории"
   ]
  },
  {
   "cell_type": "code",
   "execution_count": 40,
   "metadata": {},
   "outputs": [],
   "source": [
    "sess.close()"
   ]
  },
  {
   "cell_type": "markdown",
   "metadata": {},
   "source": [
    "# Попробуем что-нить похитрее\n",
    "\n",
    "Раньше final_lstm (последний слой) должен был просто выдать ту часть, которая пришла из памяти, теперь ещё надо и линейное преобразование сделать "
   ]
  },
  {
   "cell_type": "code",
   "execution_count": 45,
   "metadata": {},
   "outputs": [],
   "source": [
    "# the input data is 128+64 random binary vectors of dimension 13\n",
    "# the output data has same dimensions; final 128 of vectors must be same rolled first 128 of input\n",
    "def generate2():\n",
    "    X = np.random.randint(0, 2, (128, 128+64, 13))\n",
    "    X[:, 128:, :] = 0\n",
    "    Y = np.zeros((128, 128+64, 13))\n",
    "    Y[:, 64:, :] = np.roll(X[:, :128, :], 1, axis=2)\n",
    "    return X, Y"
   ]
  },
  {
   "cell_type": "code",
   "execution_count": 46,
   "metadata": {},
   "outputs": [],
   "source": [
    "# Start training\n",
    "config = tf.ConfigProto(log_device_placement=True)  # to output is variable on gpu or cpu\n",
    "config.gpu_options.per_process_gpu_memory_fraction = 0.4  # BlasGEMM launch failed error fix (seems like not enopugh memory on gpu)\n",
    "\n",
    "sess = tf.Session(config = config)\n",
    "# Run the initializer\n",
    "sess.run(init)\n",
    "\n",
    "losses = []"
   ]
  },
  {
   "cell_type": "code",
   "execution_count": 47,
   "metadata": {
    "scrolled": true
   },
   "outputs": [
    {
     "name": "stdout",
     "output_type": "stream",
     "text": [
      "Step 0, Minibatch Loss= 236.7795\n",
      "Step 100, Minibatch Loss= 33.7293\n",
      "Step 200, Minibatch Loss= 30.8055\n",
      "Step 300, Minibatch Loss= 2.7598\n",
      "Step 400, Minibatch Loss= 0.3649\n",
      "Step 500, Minibatch Loss= 0.2067\n",
      "Step 600, Minibatch Loss= 0.1512\n",
      "Step 700, Minibatch Loss= 0.1236\n",
      "Step 800, Minibatch Loss= 0.1013\n",
      "Step 900, Minibatch Loss= 0.0856\n",
      "Optimization Finished!\n"
     ]
    }
   ],
   "source": [
    "training_steps = 1000\n",
    "display_step = 100\n",
    "\n",
    "for step in range(0, training_steps):\n",
    "    batch_x, batch_y = generate2()\n",
    "    \n",
    "    # Run optimization op (backprop)\n",
    "    sess.run(train_op, feed_dict={X: batch_x, Y: batch_y})\n",
    "    \n",
    "    # Get Loss\n",
    "    L = sess.run(loss_op, feed_dict={X: batch_x, Y: batch_y})\n",
    "    losses.append(L)\n",
    "    \n",
    "    if step % display_step == 0:\n",
    "        # Calculate batch loss and accuracy        \n",
    "        print(\"Step \" + str(step) + \", Minibatch Loss= \" + \"{:.4f}\".format(L))\n",
    "\n",
    "print(\"Optimization Finished!\")"
   ]
  },
  {
   "cell_type": "code",
   "execution_count": 54,
   "metadata": {},
   "outputs": [
    {
     "data": {
      "text/plain": [
       "[<matplotlib.lines.Line2D at 0x16f4c1344e0>]"
      ]
     },
     "execution_count": 54,
     "metadata": {},
     "output_type": "execute_result"
    },
    {
     "data": {
      "image/png": "[encoded data removed]",
      "text/plain": [
       "<matplotlib.figure.Figure at 0x16f4b821ba8>"
      ]
     },
     "metadata": {},
     "output_type": "display_data"
    }
   ],
   "source": [
    "plt.plot(losses)"
   ]
  },
  {
   "cell_type": "code",
   "execution_count": 104,
   "metadata": {},
   "outputs": [
    {
     "data": {
      "text/plain": [
       "(192, 128, 13)"
      ]
     },
     "execution_count": 104,
     "metadata": {},
     "output_type": "execute_result"
    }
   ],
   "source": [
    "outp = np.array(sess.run(outputs, feed_dict={X: batch_x}))\n",
    "outp.shape"
   ]
  },
  {
   "cell_type": "code",
   "execution_count": 105,
   "metadata": {},
   "outputs": [
    {
     "data": {
      "text/plain": [
       "(128, 192, 13)"
      ]
     },
     "execution_count": 105,
     "metadata": {},
     "output_type": "execute_result"
    }
   ],
   "source": [
    "batch_y.shape"
   ]
  },
  {
   "cell_type": "code",
   "execution_count": 106,
   "metadata": {},
   "outputs": [
    {
     "data": {
      "image/png": "[encoded data removed]",
      "text/plain": [
       "<matplotlib.figure.Figure at 0x16f4d650898>"
      ]
     },
     "metadata": {},
     "output_type": "display_data"
    }
   ],
   "source": [
    "draw(batch_y[0, :, :], outp[:, 0, :])"
   ]
  },
  {
   "cell_type": "code",
   "execution_count": 107,
   "metadata": {},
   "outputs": [
    {
     "data": {
      "text/plain": [
       "(192, 128, 80)"
      ]
     },
     "execution_count": 107,
     "metadata": {},
     "output_type": "execute_result"
    }
   ],
   "source": [
    "readings = np.array(sess.run(readings_log, feed_dict={X: batch_x}))\n",
    "readings.shape"
   ]
  },
  {
   "cell_type": "code",
   "execution_count": 110,
   "metadata": {
    "scrolled": false
   },
   "outputs": [
    {
     "data": {
      "image/png": "[encoded data removed]",
      "text/plain": [
       "<matplotlib.figure.Figure at 0x16f4d9e7b38>"
      ]
     },
     "metadata": {},
     "output_type": "display_data"
    }
   ],
   "source": [
    "drawr(readings[:, 0, :])"
   ]
  },
  {
   "cell_type": "markdown",
   "metadata": {},
   "source": [
    "ого, lstm умеет делать линейное преобразование!!! вау-вау!"
   ]
  },
  {
   "cell_type": "code",
   "execution_count": null,
   "metadata": {},
   "outputs": [],
   "source": [
    "sess.close()"
   ]
  },
  {
   "cell_type": "markdown",
   "metadata": {},
   "source": [
    "# Ещё хитрее\n",
    "\n",
    "Теперь затестим выбор момента времени, откуда считывать - то есть что первые два слоя LSTM-а умеют понимать, когда откуда нужно считывать.\n",
    "\n",
    "Здесь \"насколько далеко из истории\" берётся ответ, зависит от количества единиц в текущем входе. После этого взятый из истории вектор опять линейно преобразуется."
   ]
  },
  {
   "cell_type": "code",
   "execution_count": 3,
   "metadata": {},
   "outputs": [],
   "source": [
    "# the input data is 128+64 random binary vectors of dimension 13\n",
    "# the output data has same dimensions: it's the rolled copy from history\n",
    "# time, how far to go, depends on how much ones there are in current input\n",
    "\n",
    "TIME_SHIFT = np.array([1, 2, 4, 8, 12, 16, 24, 28, 32, 36, 40, 48, 56, 64])\n",
    "def generate3():\n",
    "    X = np.random.randint(0, 2, (128, 128+64, 13))\n",
    "    Y = np.zeros((128, 128+64, 13))\n",
    "    \n",
    "    times = TIME_SHIFT[X[:, 64:, :].sum(axis=2)]\n",
    "    \n",
    "    t, b, n = np.meshgrid(np.arange(128), np.arange(128), np.arange(13))\n",
    "    t += 64 - times[:, :, None]\n",
    "    \n",
    "    Y[:, 64:, :] = np.roll(X[b, t, n], 1, axis=2)\n",
    "    return X, Y"
   ]
  },
  {
   "cell_type": "markdown",
   "metadata": {},
   "source": [
    "Проверка генератора на адекватность"
   ]
  },
  {
   "cell_type": "code",
   "execution_count": 4,
   "metadata": {},
   "outputs": [],
   "source": [
    "Xdata, Ydata = generate3()\n",
    "x, y = Xdata[13], Ydata[13]"
   ]
  },
  {
   "cell_type": "code",
   "execution_count": 5,
   "metadata": {},
   "outputs": [
    {
     "data": {
      "text/plain": [
       "array([[0, 0, 1, 0, 0, 1, 0, 0, 0, 0, 0, 1, 0],\n",
       "       [0, 1, 0, 0, 1, 0, 0, 0, 0, 0, 1, 0, 0]])"
      ]
     },
     "execution_count": 5,
     "metadata": {},
     "output_type": "execute_result"
    }
   ],
   "source": [
    "np.array([y[65], x[65 - TIME_SHIFT[x[65].sum()]]], dtype=int)"
   ]
  },
  {
   "cell_type": "code",
   "execution_count": 6,
   "metadata": {},
   "outputs": [
    {
     "data": {
      "text/plain": [
       "array([[0, 0, 0, 0, 0, 1, 1, 0, 0, 0, 1, 1, 0],\n",
       "       [0, 0, 0, 0, 1, 1, 0, 0, 0, 1, 1, 0, 0]])"
      ]
     },
     "execution_count": 6,
     "metadata": {},
     "output_type": "execute_result"
    }
   ],
   "source": [
    "np.array([y[135], x[135 - TIME_SHIFT[x[135].sum()]]], dtype=int)"
   ]
  },
  {
   "cell_type": "code",
   "execution_count": 7,
   "metadata": {},
   "outputs": [],
   "source": [
    "# Start training\n",
    "config = tf.ConfigProto(log_device_placement=True)  # to output is variable on gpu or cpu\n",
    "config.gpu_options.per_process_gpu_memory_fraction = 0.4  # BlasGEMM launch failed error fix (seems like not enopugh memory on gpu)\n",
    "\n",
    "sess = tf.Session(config = config)\n",
    "# Run the initializer\n",
    "sess.run(init)\n",
    "\n",
    "losses = []"
   ]
  },
  {
   "cell_type": "code",
   "execution_count": 8,
   "metadata": {
    "scrolled": true
   },
   "outputs": [
    {
     "name": "stdout",
     "output_type": "stream",
     "text": [
      "Step 0, Minibatch Loss= 242.0948\n",
      "Step 100, Minibatch Loss= 34.9697\n",
      "Step 200, Minibatch Loss= 32.7084\n",
      "Step 300, Minibatch Loss= 31.1007\n",
      "Step 400, Minibatch Loss= 21.9189\n",
      "Step 500, Minibatch Loss= 8.7983\n",
      "Step 600, Minibatch Loss= 6.6984\n",
      "Step 700, Minibatch Loss= 6.1168\n",
      "Step 800, Minibatch Loss= 6.1238\n",
      "Step 900, Minibatch Loss= 5.4136\n",
      "Optimization Finished!\n"
     ]
    }
   ],
   "source": [
    "training_steps = 1000\n",
    "display_step = 100\n",
    "\n",
    "for step in range(0, training_steps):\n",
    "    batch_x, batch_y = generate3()\n",
    "    \n",
    "    # Run optimization op (backprop)\n",
    "    sess.run(train_op, feed_dict={X: batch_x, Y: batch_y})\n",
    "    \n",
    "    # Get Loss\n",
    "    L = sess.run(loss_op, feed_dict={X: batch_x, Y: batch_y})\n",
    "    losses.append(L)\n",
    "    \n",
    "    if step % display_step == 0:\n",
    "        # Calculate batch loss and accuracy        \n",
    "        print(\"Step \" + str(step) + \", Minibatch Loss= \" + \"{:.4f}\".format(L))\n",
    "\n",
    "print(\"Optimization Finished!\")"
   ]
  },
  {
   "cell_type": "markdown",
   "metadata": {},
   "source": [
    "Идеального решения уже не находит..."
   ]
  },
  {
   "cell_type": "code",
   "execution_count": 12,
   "metadata": {},
   "outputs": [
    {
     "data": {
      "text/plain": [
       "[<matplotlib.lines.Line2D at 0x198987ceba8>]"
      ]
     },
     "execution_count": 12,
     "metadata": {},
     "output_type": "execute_result"
    },
    {
     "data": {
      "image/png": "[encoded data removed]",
      "text/plain": [
       "<matplotlib.figure.Figure at 0x198a49adf28>"
      ]
     },
     "metadata": {},
     "output_type": "display_data"
    }
   ],
   "source": [
    "plt.plot(losses)"
   ]
  },
  {
   "cell_type": "code",
   "execution_count": 14,
   "metadata": {},
   "outputs": [
    {
     "data": {
      "text/plain": [
       "(192, 128, 13)"
      ]
     },
     "execution_count": 14,
     "metadata": {},
     "output_type": "execute_result"
    }
   ],
   "source": [
    "outp = np.array(sess.run(outputs, feed_dict={X: batch_x}))\n",
    "outp.shape"
   ]
  },
  {
   "cell_type": "code",
   "execution_count": 15,
   "metadata": {},
   "outputs": [
    {
     "data": {
      "text/plain": [
       "(128, 192, 13)"
      ]
     },
     "execution_count": 15,
     "metadata": {},
     "output_type": "execute_result"
    }
   ],
   "source": [
    "batch_y.shape"
   ]
  },
  {
   "cell_type": "code",
   "execution_count": 18,
   "metadata": {
    "scrolled": false
   },
   "outputs": [
    {
     "data": {
      "image/png": "[encoded data removed]",
      "text/plain": [
       "<matplotlib.figure.Figure at 0x198988f4e10>"
      ]
     },
     "metadata": {},
     "output_type": "display_data"
    }
   ],
   "source": [
    "draw(batch_y[0, :, :], outp[:, 0, :])"
   ]
  },
  {
   "cell_type": "code",
   "execution_count": 19,
   "metadata": {},
   "outputs": [
    {
     "data": {
      "text/plain": [
       "(192, 128, 80)"
      ]
     },
     "execution_count": 19,
     "metadata": {},
     "output_type": "execute_result"
    }
   ],
   "source": [
    "readings = np.array(sess.run(readings_log, feed_dict={X: batch_x}))\n",
    "readings.shape"
   ]
  },
  {
   "cell_type": "markdown",
   "metadata": {},
   "source": [
    "Сравним вектор считывания из истории с \"истинным\" вектором. На графиках, правда, ось y надо \"развернуть\", но не суть"
   ]
  },
  {
   "cell_type": "code",
   "execution_count": 26,
   "metadata": {},
   "outputs": [
    {
     "data": {
      "image/png": "[encoded data removed]",
      "text/plain": [
       "<matplotlib.figure.Figure at 0x19898e43438>"
      ]
     },
     "metadata": {},
     "output_type": "display_data"
    }
   ],
   "source": [
    "true_readings = np.zeros((128+64, 80))\n",
    "true_readings[np.arange(64, 128+64), 80 - TIME_SHIFT[batch_x[0, 64:].sum(axis=1)]] = 1\n",
    "drawr(true_readings)"
   ]
  },
  {
   "cell_type": "code",
   "execution_count": 33,
   "metadata": {},
   "outputs": [
    {
     "data": {
      "image/png": "[encoded data removed]",
      "text/plain": [
       "<matplotlib.figure.Figure at 0x198994a5be0>"
      ]
     },
     "metadata": {},
     "output_type": "display_data"
    }
   ],
   "source": [
    "draw(true_readings[64:], readings[64:, 0, :], scalex=128.0 / 7, scaley=60.0 / 7)"
   ]
  },
  {
   "cell_type": "markdown",
   "metadata": {},
   "source": [
    "Схожесть картинок с MIDI-данными СОВЕРШЕННО случайна. Совершенно. Или же?.."
   ]
  },
  {
   "cell_type": "markdown",
   "metadata": {},
   "source": [
    "Возможно, стоит ещё пообучать?"
   ]
  },
  {
   "cell_type": "code",
   "execution_count": 34,
   "metadata": {},
   "outputs": [
    {
     "name": "stdout",
     "output_type": "stream",
     "text": [
      "Step 0, Minibatch Loss= 5.4844\n",
      "Step 100, Minibatch Loss= 5.2609\n",
      "Step 200, Minibatch Loss= 5.0649\n",
      "Step 300, Minibatch Loss= 5.3343\n",
      "Step 400, Minibatch Loss= 5.1098\n",
      "Step 500, Minibatch Loss= 5.0272\n",
      "Step 600, Minibatch Loss= 5.2539\n",
      "Step 700, Minibatch Loss= 5.2545\n",
      "Step 800, Minibatch Loss= 5.0716\n",
      "Step 900, Minibatch Loss= 5.1797\n",
      "Optimization Finished!\n"
     ]
    }
   ],
   "source": [
    "training_steps = 1000\n",
    "display_step = 100\n",
    "\n",
    "for step in range(0, training_steps):\n",
    "    batch_x, batch_y = generate3()\n",
    "    \n",
    "    # Run optimization op (backprop)\n",
    "    sess.run(train_op, feed_dict={X: batch_x, Y: batch_y})\n",
    "    \n",
    "    # Get Loss\n",
    "    L = sess.run(loss_op, feed_dict={X: batch_x, Y: batch_y})\n",
    "    losses.append(L)\n",
    "    \n",
    "    if step % display_step == 0:\n",
    "        # Calculate batch loss and accuracy        \n",
    "        print(\"Step \" + str(step) + \", Minibatch Loss= \" + \"{:.4f}\".format(L))\n",
    "\n",
    "print(\"Optimization Finished!\")"
   ]
  },
  {
   "cell_type": "code",
   "execution_count": 45,
   "metadata": {},
   "outputs": [],
   "source": [
    "outp = np.array(sess.run(outputs, feed_dict={X: batch_x}))"
   ]
  },
  {
   "cell_type": "code",
   "execution_count": 46,
   "metadata": {},
   "outputs": [
    {
     "data": {
      "image/png": "[encoded data removed]",
      "text/plain": [
       "<matplotlib.figure.Figure at 0x1989977f7b8>"
      ]
     },
     "metadata": {},
     "output_type": "display_data"
    }
   ],
   "source": [
    "draw(batch_y[0, :, :], outp[:, 0, :])"
   ]
  },
  {
   "cell_type": "code",
   "execution_count": 47,
   "metadata": {},
   "outputs": [],
   "source": [
    "outp = np.rollaxis(outp, 1)"
   ]
  },
  {
   "cell_type": "code",
   "execution_count": 48,
   "metadata": {},
   "outputs": [
    {
     "name": "stderr",
     "output_type": "stream",
     "text": [
      "C:\\ProgramData\\Anaconda3\\lib\\site-packages\\ipykernel_launcher.py:8: RuntimeWarning: invalid value encountered in double_scalars\n",
      "  \n"
     ]
    }
   ],
   "source": [
    "ind_losses = (outp[:, 64:] - batch_y[:, 64:])**2\n",
    "keys = batch_x.sum(axis=2)[:, 64:]\n",
    "\n",
    "precedents = []\n",
    "average_losses = []\n",
    "for i in range(0, 14):\n",
    "    precedents.append((keys == i).sum())\n",
    "    average_losses.append(ind_losses[keys == i].sum() / precedents[-1])"
   ]
  },
  {
   "cell_type": "markdown",
   "metadata": {},
   "source": [
    "А посчитаем-ка средний лосс в зависимости от случая (от количества единиц на входе):"
   ]
  },
  {
   "cell_type": "code",
   "execution_count": 56,
   "metadata": {},
   "outputs": [
    {
     "name": "stdout",
     "output_type": "stream",
     "text": [
      "0  ones in input:  0 precedents, average loss is  nan\n",
      "1  ones in input:  26 precedents, average loss is  4.81379446964\n",
      "2  ones in input:  169 precedents, average loss is  4.96633011092\n",
      "3  ones in input:  574 precedents, average loss is  4.78020507328\n",
      "4  ones in input:  1405 precedents, average loss is  0.0198825607131\n",
      "5  ones in input:  2538 precedents, average loss is  0.0190606337988\n",
      "6  ones in input:  3512 precedents, average loss is  0.0206101177999\n",
      "7  ones in input:  3469 precedents, average loss is  0.0237727983222\n",
      "8  ones in input:  2555 precedents, average loss is  0.028482389047\n",
      "9  ones in input:  1391 precedents, average loss is  0.0331932266643\n",
      "10  ones in input:  557 precedents, average loss is  5.95965654431\n",
      "11  ones in input:  154 precedents, average loss is  5.66335008211\n",
      "12  ones in input:  30 precedents, average loss is  5.57386260011\n",
      "13  ones in input:  4 precedents, average loss is  6.5549488468\n"
     ]
    }
   ],
   "source": [
    "for i, pr, al in zip(np.arange(14), precedents, average_losses):\n",
    "    print(i, \" ones in input: \", pr, \"precedents, average loss is \", al)"
   ]
  },
  {
   "cell_type": "markdown",
   "metadata": {},
   "source": [
    "Почти логичный результат, хотя граница неожиданно явная: редко встречающиеся случаи сеть, видимо, не улавливает, возможно потому что в этим моменты в памяти лежат очень похожие вектора в \"других местах\", и градиенты ведут не совсем туда. Хорошо то, что преобразование на последнем слое не мешает этим градиентам двигаться в правильном направлении."
   ]
  }
 ],
 "metadata": {
  "kernelspec": {
   "display_name": "Python 3",
   "language": "python",
   "name": "python3"
  },
  "language_info": {
   "codemirror_mode": {
    "name": "ipython",
    "version": 3
   },
   "file_extension": ".py",
   "mimetype": "text/x-python",
   "name": "python",
   "nbconvert_exporter": "python",
   "pygments_lexer": "ipython3",
   "version": "3.6.3"
  }
 },
 "nbformat": 4,
 "nbformat_minor": 2
}
