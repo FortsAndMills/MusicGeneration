{
 "cells": [
  {
   "cell_type": "code",
   "execution_count": 1,
   "metadata": {},
   "outputs": [],
   "source": [
    "import tensorflow as tf\n",
    "import numpy as np"
   ]
  },
  {
   "cell_type": "code",
   "execution_count": 2,
   "metadata": {},
   "outputs": [],
   "source": [
    "# the input data is 128+64 random binary vectors of dimension 13\n",
    "# the output data has same dimensions; final 128 of vectors must be same as first 128 of input\n",
    "def generate():\n",
    "    X = np.random.randint(0, 2, (128, 128+64, 13))\n",
    "    X[:, 128:, :] = 0\n",
    "    Y = np.zeros((128, 128+64, 13))\n",
    "    Y[:, 64:, :] = X[:, :128, :]\n",
    "    return X, Y"
   ]
  },
  {
   "cell_type": "code",
   "execution_count": 3,
   "metadata": {
    "scrolled": true
   },
   "outputs": [],
   "source": [
    "# the input data is 128+64 random binary vectors of dimension 13\n",
    "# the output data has same dimensions; final 128 of vectors must be same as first 128 of input\n",
    "tf.reset_default_graph()\n",
    "\n",
    "# Training Parameters\n",
    "learning_rate = 0.001\n",
    "training_steps = 2000\n",
    "batch_size = 128\n",
    "display_step = 200\n",
    "\n",
    "# Network Parameters\n",
    "num_input = 13       # dimension of one input at moment\n",
    "timesteps = 128+64   # timesteps in one sequence\n",
    "num_hidden = 70      # num of lstms in first hidden layer\n",
    "num_hidden2 = 50     # num of lstms in second hidden layer\n",
    "history_size = 80      # output dimension\n",
    "\n",
    "# tf graph input\n",
    "X = tf.placeholder(\"float\", [batch_size, timesteps, num_input])\n",
    "Y = tf.placeholder(\"float\", [batch_size, timesteps, num_input])\n",
    "\n",
    "lstm = tf.contrib.rnn.MultiRNNCell([\n",
    "    tf.contrib.rnn.BasicLSTMCell(num_hidden, forget_bias=1.0),\n",
    "    tf.contrib.rnn.BasicLSTMCell(num_hidden2, forget_bias=1.0)\n",
    "])\n",
    "\n",
    "lstm_outputs, _ = tf.nn.dynamic_rnn(lstm, X, dtype=tf.float32)\n",
    "\n",
    "reads = tf.layers.dense(lstm_outputs, history_size, activation=None)\n",
    "reads_proba = tf.nn.softmax(reads, dim=1)\n",
    "\n",
    "H = np.zeros((batch_size, timesteps, history_size, timesteps), dtype=np.float32)\n",
    "for t in range(timesteps):\n",
    "    for i in range(history_size):\n",
    "        for j in range(timesteps):\n",
    "            H[:, t, i, j] = (i + j) == (t - 1)\n",
    "history_transformation = tf.constant(H)\n",
    "\n",
    "# reads_proba: (batch_size, timesteps, NONE, history_size)\n",
    "# history_transf: (batch_size, timesteps, history_size, timesteps)\n",
    "memory_retrieve_indexes = tf.matmul(tf.expand_dims(reads_proba, 2), history_transformation)\n",
    "# memory_retrieve_indexes: (batch_size, timesteps, 1, timesteps)\n",
    "\n",
    "# X: (batch_size, 1, timesteps, input_size)\n",
    "memory_retrieve = tf.matmul(memory_retrieve_indexes, tf.tile(tf.expand_dims(X, 1), [1, timesteps, 1, 1]))\n",
    "# memory_retrieve: (batch_size, timesteps, 1, input_size) - profit\n",
    "\n",
    "memory_retrieve = tf.reshape(memory_retrieve, Y.get_shape())\n",
    "loss_op = tf.reduce_mean(tf.squared_difference(memory_retrieve[:, 64:], Y[:, 64:]))\n",
    "\n",
    "# define optimizer\n",
    "optimizer = tf.train.AdamOptimizer(learning_rate=learning_rate,\n",
    "                                   beta1=0.9,\n",
    "                                   beta2=0.999,\n",
    "                                   epsilon=1e-08,\n",
    "                                   use_locking=False,\n",
    "                                   name='Adam')\n",
    "# optimizing\n",
    "train_op = tf.contrib.layers.optimize_loss(\n",
    "                loss_op, tf.train.get_global_step(), optimizer=optimizer, learning_rate=learning_rate)\n",
    "\n",
    "init = tf.global_variables_initializer()"
   ]
  },
  {
   "cell_type": "code",
   "execution_count": 4,
   "metadata": {},
   "outputs": [],
   "source": [
    "# Start training\n",
    "config = tf.ConfigProto(log_device_placement=True,\n",
    "                       device_count = {'GPU': 0})  # to output is variable on gpu or cpu\n",
    "config.gpu_options.per_process_gpu_memory_fraction = 0.4  # BlasGEMM launch failed error fix (seems like not enopugh memory on gpu)\n",
    "sess = tf.Session(config = config)\n",
    "# Run the initializer\n",
    "sess.run(init)"
   ]
  },
  {
   "cell_type": "code",
   "execution_count": null,
   "metadata": {
    "scrolled": true
   },
   "outputs": [],
   "source": [
    "for step in range(0, training_steps):\n",
    "    batch_x, batch_y = generate()\n",
    "    \n",
    "    # Run optimization op (backprop)\n",
    "    sess.run(train_op, feed_dict={X: batch_x, Y: batch_y})\n",
    "    if step % display_step == 0:\n",
    "        # Calculate batch loss and accuracy\n",
    "        L = sess.run(loss_op, feed_dict={X: batch_x, Y: batch_y})\n",
    "        print(\"Step \" + str(step) + \", Minibatch Loss= \" + \"{:.4f}\".format(L))\n",
    "\n",
    "print(\"Optimization Finished!\")"
   ]
  }
 ],
 "metadata": {
  "kernelspec": {
   "display_name": "Python 3",
   "language": "python",
   "name": "python3"
  },
  "language_info": {
   "codemirror_mode": {
    "name": "ipython",
    "version": 3
   },
   "file_extension": ".py",
   "mimetype": "text/x-python",
   "name": "python",
   "nbconvert_exporter": "python",
   "pygments_lexer": "ipython3",
   "version": "3.6.3"
  }
 },
 "nbformat": 4,
 "nbformat_minor": 2
}
