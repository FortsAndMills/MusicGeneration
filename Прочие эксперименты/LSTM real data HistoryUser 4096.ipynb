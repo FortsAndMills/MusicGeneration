{
 "cells": [
  {
   "cell_type": "code",
   "execution_count": 1,
   "metadata": {},
   "outputs": [],
   "source": [
    "import tensorflow as tf\n",
    "import numpy as np\n",
    "import itertools"
   ]
  },
  {
   "cell_type": "code",
   "execution_count": 2,
   "metadata": {},
   "outputs": [],
   "source": [
    "HISTORY_TIMES = [4, 8, 16, 32, 48, 64, 96, 128]\n",
    "\n",
    "PIECES = 32\n",
    "\n",
    "ADDITIONAL_INPUT_SIZE = 6"
   ]
  },
  {
   "cell_type": "code",
   "execution_count": 3,
   "metadata": {},
   "outputs": [],
   "source": [
    "tf.reset_default_graph()\n",
    "\n",
    "# Training Parameters\n",
    "learning_rate = tf.constant(0.001, dtype=tf.float32)\n",
    "batch_size = 100\n",
    "epsilon = 1e-06\n",
    "\n",
    "num_keys = 12\n",
    "\n",
    "# Network Parameters\n",
    "num_input = 12 + ADDITIONAL_INPUT_SIZE      # dimension of one input at moment\n",
    "num_hidden_local = 100\n",
    "num_hidden_read = 100\n",
    "num_hidden_aggreg = 100\n",
    "num_nonreccurent1 = 200\n",
    "num_nonreccurent2 = 400\n",
    "num_nonreccurent3 = 800\n",
    "num_output = 2**num_keys\n",
    "\n",
    "num_hidden_decoder = 100\n",
    "num_decoder_output = 88\n",
    "\n",
    "# tf graph input\n",
    "X = tf.placeholder(dtype=tf.float32, shape=[batch_size, None, num_input])\n",
    "Y = tf.placeholder(dtype=tf.float32, shape=[batch_size, None, num_output])\n",
    "History = tf.placeholder(dtype=tf.float32, shape=[batch_size, None, len(HISTORY_TIMES), num_keys])\n",
    "\n",
    "with tf.variable_scope(\"local\"):\n",
    "    local_lstm = tf.contrib.rnn.MultiRNNCell([tf.contrib.rnn.LSTMCell(num_hidden_local, forget_bias=1.0, use_peepholes=True)])\n",
    "    local_lstm_outputs, _ = tf.nn.dynamic_rnn(local_lstm, X[:, :-1], dtype=tf.float32)\n",
    "\n",
    "with tf.variable_scope(\"global\"):\n",
    "    read_lstm = tf.contrib.rnn.MultiRNNCell([tf.contrib.rnn.LSTMCell(num_hidden_read, forget_bias=1.0, use_peepholes=True)])\n",
    "    read_lstm_outputs, _ = tf.nn.dynamic_rnn(read_lstm, \n",
    "                tf.concat([X[:, :-1], tf.reshape(History[:, :-1], [batch_size, -1, len(HISTORY_TIMES) * num_keys])], axis=2), \n",
    "                                             dtype=tf.float32)\n",
    "read_index = tf.nn.softmax(tf.layers.dense(read_lstm_outputs, len(HISTORY_TIMES), activation=None))\n",
    "read = tf.reduce_mean(tf.expand_dims(read_index, 3) * History[:, 1:], axis=2)\n",
    "\n",
    "with tf.variable_scope(\"aggreg\"):\n",
    "    aggreg_lstm = tf.contrib.rnn.MultiRNNCell([tf.contrib.rnn.LSTMCell(num_hidden_aggreg, forget_bias=1.0, use_peepholes=True)])\n",
    "    aggreg_lstm_outputs, _ = tf.nn.dynamic_rnn(aggreg_lstm, tf.concat([read, local_lstm_outputs], axis=2), dtype=tf.float32)\n",
    "\n",
    "nonrec = tf.contrib.rnn.MultiRNNCell([\n",
    "    tf.contrib.rnn.BasicRNNCell(num_nonreccurent1),\n",
    "    tf.contrib.rnn.BasicRNNCell(num_nonreccurent2),\n",
    "    tf.contrib.rnn.BasicRNNCell(num_nonreccurent3),\n",
    "])\n",
    "nonrec_outputs, _ = tf.nn.dynamic_rnn(nonrec, aggreg_lstm_outputs, dtype=tf.float32)\n",
    "    \n",
    "p = tf.nn.softmax(tf.layers.dense(nonrec_outputs, num_output, activation=None))\n",
    "\n",
    "ce = -tf.log(p) * Y[:, 1:] - tf.log(1 - p) * (1 - Y[:, 1:])\n",
    "loss_op = tf.reduce_mean(ce)\n",
    "\n",
    "# DECODER PART:\n",
    "\n",
    "DecodedX = tf.placeholder(dtype=tf.float32, shape=[batch_size, None, num_decoder_output])\n",
    "DecoderInput = tf.concat([DecodedX[:, :-1], X[:, 1:]], axis=2)\n",
    "with tf.variable_scope(\"decoder\"):\n",
    "    decoder_lstm = tf.contrib.rnn.MultiRNNCell([tf.contrib.rnn.LSTMCell(num_hidden_decoder, forget_bias=1.0)])\n",
    "    decoder_lstm_outputs, _ = tf.nn.dynamic_rnn(decoder_lstm, tf.concat([DecodedX[:, :-1], X[:, 1:]], axis=2), dtype=tf.float32)\n",
    "\n",
    "decoder_p = tf.layers.dense(decoder_lstm_outputs, num_decoder_output, activation=None)\n",
    "\n",
    "decoder_ce = tf.nn.sigmoid_cross_entropy_with_logits(logits=decoder_p, labels=DecodedX[:, 1:])\n",
    "loss_op += tf.reduce_mean(decoder_ce * \n",
    "            tf.tile(X[:, 1:, :-ADDITIONAL_INPUT_SIZE], [1,1,8])[:,:,:num_decoder_output])\n",
    "    \n",
    "# define optimizer\n",
    "optimizer = tf.train.AdamOptimizer(learning_rate=learning_rate)\n",
    "gvs = optimizer.compute_gradients(loss_op)\n",
    "capped_gvs = [(tf.clip_by_value(grad, -1., 1.), var) for grad, var in gvs]\n",
    "train_op = optimizer.apply_gradients(capped_gvs)\n",
    "\n",
    "#optimizing\n",
    "#train_op = tf.contrib.layers.optimize_loss(\n",
    "#                loss_op, tf.train.get_global_step(), optimizer=optimizer, learning_rate=learning_rate)\n",
    "\n",
    "init = tf.global_variables_initializer()"
   ]
  },
  {
   "cell_type": "code",
   "execution_count": 4,
   "metadata": {},
   "outputs": [],
   "source": [
    "# Start training\n",
    "config = tf.ConfigProto(log_device_placement=True)  # to output is variable on gpu or cpu\n",
    "config.gpu_options.per_process_gpu_memory_fraction = 0.6  # BlasGEMM launch failed error fix (seems like not enopugh memory on gpu)\n",
    "sess = tf.Session(config = config)\n",
    "saver = tf.train.Saver()"
   ]
  },
  {
   "cell_type": "code",
   "execution_count": 5,
   "metadata": {},
   "outputs": [],
   "source": [
    "# Run the initializer\n",
    "sess.run(init)"
   ]
  },
  {
   "cell_type": "code",
   "execution_count": 6,
   "metadata": {},
   "outputs": [],
   "source": [
    "import matplotlib.pyplot as plt\n",
    "%matplotlib inline\n",
    "\n",
    "def drawNotes(song, title=\"\", scale=(None, None)):\n",
    "    if scale[0] is None:\n",
    "        scale = (song.shape[0] / 10, song.shape[1] / 10)\n",
    "    \n",
    "    plt.figure(figsize=scale)\n",
    "    plt.imshow(song.T, aspect='auto', origin='lower')\n",
    "    plt.title(title)\n",
    "    plt.xlabel(\"time\")\n",
    "    plt.xticks(np.arange(0, song.shape[0], 4))\n",
    "    plt.show()"
   ]
  },
  {
   "cell_type": "code",
   "execution_count": 7,
   "metadata": {},
   "outputs": [],
   "source": [
    "songs = np.load(\"CP_dataset.npy\")"
   ]
  },
  {
   "cell_type": "code",
   "execution_count": 8,
   "metadata": {},
   "outputs": [],
   "source": [
    "times = [np.array(t) for t in itertools.product([0, 1], repeat=ADDITIONAL_INPUT_SIZE)]*1000"
   ]
  },
  {
   "cell_type": "code",
   "execution_count": 9,
   "metadata": {},
   "outputs": [],
   "source": [
    "def transform(song, stack_zeros=True):    \n",
    "    wh = song[:, :12]\n",
    "    for i in range(1,7):\n",
    "        wh = np.logical_or(wh, song[:, 12*i:12*i+12])\n",
    "    \n",
    "    temp = wh.copy()\n",
    "    for t in HISTORY_TIMES:\n",
    "        h = np.roll(temp, t, axis=0)\n",
    "        h[:t] = 0\n",
    "        wh = np.concatenate([wh, h], axis=1)\n",
    "          \n",
    "    wh = np.concatenate([wh, times[:song.shape[0]]], axis=1)\n",
    "            \n",
    "    return wh\n",
    "\n",
    "hsongs = []\n",
    "decoded = []\n",
    "for song in songs:\n",
    "    t = transform(song)\n",
    "    for i in range(0, t.shape[0] - PIECES, 32):\n",
    "        hsongs.append(t[i:i+PIECES])\n",
    "        decoded.append(song[i:i+PIECES])\n",
    "hsongs = np.array(hsongs)\n",
    "decoded = np.array(decoded)"
   ]
  },
  {
   "cell_type": "code",
   "execution_count": 10,
   "metadata": {},
   "outputs": [],
   "source": [
    "def generateBatch():\n",
    "    # выбираем фрагменты для батча\n",
    "    indexes = np.random.choice(np.arange(len(hsongs)), batch_size)\n",
    "    batch, decoded_batch = hsongs[indexes], decoded[indexes]\n",
    "    \n",
    "    # преобразуем фичи в двумерные, чтобы по одной оси были октавы по 12 клавиш\n",
    "    tbatch = batch[:, :, :-ADDITIONAL_INPUT_SIZE].reshape((batch_size, PIECES, -1, 12))\n",
    "    \n",
    "    # на сколько нужно всё сдвинуть рандомно; зануляем лишнее (костыль)\n",
    "    to_roll = np.random.randint(-6, 6)\n",
    "    if to_roll > 0:\n",
    "        decoded_batch[:, :, -to_roll:] = 0\n",
    "    else:\n",
    "        decoded_batch[:, :, :-to_roll] = 0\n",
    "    \n",
    "    # роллим\n",
    "    tbatch = np.roll(tbatch, to_roll, axis=3)\n",
    "    decoded_batch = np.roll(decoded_batch, to_roll, axis=2)\n",
    "    \n",
    "    # преобразуем обратно в одномерное пространство, не забывая подсоединить Additional Input\n",
    "    ans = np.concatenate([tbatch.reshape((batch_size, PIECES, -1)), batch[:, :, -ADDITIONAL_INPUT_SIZE:]], axis=2)\n",
    "    \n",
    "    # преобразуем в 4096:\n",
    "    ohe = np.zeros((batch_size * PIECES, 4096))\n",
    "    ohe[np.arange(batch_size * PIECES), ans[:, :, :12].reshape(-1, 12).dot(2**np.arange(12))] = 1\n",
    "    \n",
    "    return (np.concatenate([ans[:, :, :12], ans[:, :, -ADDITIONAL_INPUT_SIZE:]], axis=2),  # вход + additional input\n",
    "            ans[:, :, 12:-ADDITIONAL_INPUT_SIZE].reshape(batch_size, PIECES, len(HISTORY_TIMES), 12),  # история\n",
    "            ohe.reshape(batch_size, PIECES, 4096),\n",
    "            decoded_batch)  # ответ"
   ]
  },
  {
   "cell_type": "code",
   "execution_count": 11,
   "metadata": {},
   "outputs": [
    {
     "name": "stdout",
     "output_type": "stream",
     "text": [
      "INFO:tensorflow:Restoring parameters from ./RealData First Model/tmp/100-100-100 HistoryUserScheme LSTM collapsed CP_dataset songs by fragments 8-history 200-400-800-4096 100-decoder lr=0.001.ckpt\n"
     ]
    }
   ],
   "source": [
    "saver.restore(sess, \"./tmp/100-100-100 HistoryUserScheme LSTM collapsed CP_dataset songs by fragments 8-history 200-400-800-4096 100-decoder lr=0.001.ckpt\")"
   ]
  },
  {
   "cell_type": "code",
   "execution_count": null,
   "metadata": {
    "scrolled": true
   },
   "outputs": [
    {
     "name": "stdout",
     "output_type": "stream",
     "text": [
      "0.00227572  mean for last:  0.00227572\n"
     ]
    },
    {
     "data": {
      "image/png": "[encoded data removed]",
      "text/plain": [
       "<matplotlib.figure.Figure at 0x1dcccc04630>"
      ]
     },
     "metadata": {},
     "output_type": "display_data"
    },
    {
     "data": {
      "image/png": "[encoded data removed]",
      "text/plain": [
       "<matplotlib.figure.Figure at 0x1dccd8cb1d0>"
      ]
     },
     "metadata": {},
     "output_type": "display_data"
    },
    {
     "name": "stdout",
     "output_type": "stream",
     "text": [
      "0.00116697  mean for last:  0.00125441\n",
      "0.00108731  mean for last:  0.00112364\n",
      "0.00112625  mean for last:  0.00111549\n",
      "0.00112511  mean for last:  0.00111893\n"
     ]
    },
    {
     "data": {
      "image/png": "[encoded data removed]",
      "text/plain": [
       "<matplotlib.figure.Figure at 0x1dc90575278>"
      ]
     },
     "metadata": {},
     "output_type": "display_data"
    },
    {
     "data": {
      "image/png": "[encoded data removed]",
      "text/plain": [
       "<matplotlib.figure.Figure at 0x1dcc4336908>"
      ]
     },
     "metadata": {},
     "output_type": "display_data"
    },
    {
     "name": "stdout",
     "output_type": "stream",
     "text": [
      "0.00110784  mean for last:  0.00111455\n",
      "0.00111552  mean for last:  0.00111668\n",
      "0.00110955  mean for last:  0.00111303\n",
      "0.00112377  mean for last:  0.00112248\n"
     ]
    },
    {
     "data": {
      "image/png": "[encoded data removed]",
      "text/plain": [
       "<matplotlib.figure.Figure at 0x1dcceab7748>"
      ]
     },
     "metadata": {},
     "output_type": "display_data"
    },
    {
     "data": {
      "image/png": "[encoded data removed]",
      "text/plain": [
       "<matplotlib.figure.Figure at 0x1dcc9f7ab70>"
      ]
     },
     "metadata": {},
     "output_type": "display_data"
    },
    {
     "name": "stdout",
     "output_type": "stream",
     "text": [
      "0.00108617  mean for last:  0.00111907\n"
     ]
    }
   ],
   "source": [
    "training_steps = 200000\n",
    "display_step = 50\n",
    "\n",
    "RECORD = 10\n",
    "\n",
    "losses = []\n",
    "for step in range(training_steps + 1):\n",
    "    # getting data\n",
    "    batch_x, batch_h, batch_y, batch_d = generateBatch()\n",
    "    # Run optimization step\n",
    "    fd = {X: batch_x, History: batch_h, Y: batch_y, DecodedX: batch_d}\n",
    "    _, L = sess.run([train_op, ce], feed_dict=fd)\n",
    "    losses.append(L.mean())\n",
    "    \n",
    "    if np.isnan(L).any():\n",
    "        print(\" DAMN NAN ERROR\")\n",
    "        break\n",
    "        \n",
    "    if step % display_step == 0:\n",
    "        print(L.mean(), \" mean for last: \", np.array(losses)[-display_step:].mean())\n",
    "        #drawNotes(L[0].T, \"LOSS\")\n",
    "        \n",
    "        if step % 200 == 0:\n",
    "            r = sess.run(read_index, feed_dict=fd)\n",
    "            drawNotes(r[0], \"READS FROM HISTORY\")\n",
    "            \n",
    "            sn = sess.run(decoder_ce, feed_dict=fd)\n",
    "            drawNotes(sn[0], \"DECODER LOSS\")\n",
    "           \n",
    "    if len(losses) > display_step and np.array(losses)[-display_step:].mean() < RECORD:\n",
    "        RECORD = np.array(losses)[-display_step:].mean()\n",
    "        saver.save(sess, \"./tmp/100-100-100 HistoryUserScheme LSTM collapsed CP_dataset songs by fragments 8-history 200-400-800-4096 100-decoder lr=0.001.ckpt\")\n",
    "        \n",
    "print(\"Optimization Finished!\")"
   ]
  },
  {
   "cell_type": "code",
   "execution_count": 13,
   "metadata": {},
   "outputs": [
    {
     "name": "stdout",
     "output_type": "stream",
     "text": [
      "0.0011004\n"
     ]
    },
    {
     "data": {
      "text/plain": [
       "[<matplotlib.lines.Line2D at 0x21777e3ba90>]"
      ]
     },
     "execution_count": 13,
     "metadata": {},
     "output_type": "execute_result"
    },
    {
     "data": {
      "image/png": "[encoded data removed]",
      "text/plain": [
       "<matplotlib.figure.Figure at 0x2176c6b5630>"
      ]
     },
     "metadata": {},
     "output_type": "display_data"
    }
   ],
   "source": [
    "import matplotlib.pyplot as plt\n",
    "%matplotlib inline\n",
    "\n",
    "print(RECORD)\n",
    "plt.plot(losses)  # 4096"
   ]
  },
  {
   "cell_type": "code",
   "execution_count": null,
   "metadata": {},
   "outputs": [],
   "source": []
  },
  {
   "cell_type": "code",
   "execution_count": null,
   "metadata": {},
   "outputs": [],
   "source": []
  },
  {
   "cell_type": "code",
   "execution_count": 12,
   "metadata": {},
   "outputs": [],
   "source": [
    "import mido\n",
    "from mido import MidiFile\n",
    "import numpy as np\n",
    "import copy\n",
    "import math\n",
    "\n",
    "import matplotlib.pyplot as plt\n",
    "%matplotlib inline\n",
    "\n",
    "# для возможности прослушивания midi прямо в ноутбуке\n",
    "HEARING_PORT = mido.open_output()\n",
    "# для вывода массивов numpy целиком\n",
    "np.set_printoptions(threshold=np.nan)\n",
    "\n",
    "BASE_NOTE = 21\n",
    "KEYS = 88\n",
    "FREQ = 4  #ticks for beat\n",
    "\n",
    "def drawSong(song, scale=(None, None)):\n",
    "    if scale[0] is None:\n",
    "        scale = (song.notes.shape[0] / 10, song.notes.shape[1] / 10)\n",
    "    \n",
    "    plt.figure(figsize=scale)\n",
    "    plt.title(song.name)\n",
    "    plt.imshow(song.notes.T, aspect='auto', origin='lower')\n",
    "    plt.xlabel(\"time\")\n",
    "    plt.xticks(np.arange(0, song.notes.shape[0], 4))\n",
    "    plt.show()\n",
    "\n",
    "# Класс для создания нового миди файла\n",
    "class MySong:\n",
    "    def __init__(self, played_lines=[], finished=False):\n",
    "        self.name = \"Generated song!\"\n",
    "        self.notes = np.zeros((0, 88))\n",
    "\n",
    "        self.mid = MidiFile(type=0)\n",
    "        self.track = mido.MidiTrack()\n",
    "        self.mid.tracks.append(self.track)\n",
    "\n",
    "        self.time_passed = 0\n",
    "        self.release = []\n",
    "\n",
    "        for line in played_lines:\n",
    "            self.add(line)\n",
    "           \n",
    "        if finished:\n",
    "            self.finish()\n",
    "\n",
    "    # добавление новых строк в ноты\n",
    "    def add(self, played):\n",
    "        self.notes = np.vstack([self.notes, played])\n",
    "\n",
    "        # \"отпуск\" нот, сыгранных долю назад\n",
    "        if played.sum() > 0:\n",
    "            for i in self.release:\n",
    "                self.track.append(mido.Message('note_on', note=BASE_NOTE + i, velocity=0, time=self.time_passed))\n",
    "                self.time_passed = 0\n",
    "            self.release = []\n",
    "\n",
    "        # добавление новых нот\n",
    "        for i, key in enumerate(played):\n",
    "            if key == 1:\n",
    "                self.track.append(mido.Message('note_on', note=BASE_NOTE + i, velocity=64, time=self.time_passed))\n",
    "                self.time_passed = 0\n",
    "                self.release.append(i)\n",
    "        self.time_passed += self.mid.ticks_per_beat // FREQ\n",
    "\n",
    "    # должна быть вызвана в конце создания файла\n",
    "    def finish(self):\n",
    "        for i in self.release:\n",
    "            self.track.append(mido.Message('note_off', note=BASE_NOTE + i, velocity=64, time=self.time_passed))\n",
    "            self.time_passed = 0\n",
    "        self.track.append(mido.Message('note_off', note=BASE_NOTE, velocity=0, time=self.time_passed))\n",
    "\n",
    "    # воспроизведение\n",
    "    def play(self):\n",
    "        for msg in self.mid.play():\n",
    "            HEARING_PORT.send(msg)\n",
    "\n",
    "    # сохранение\n",
    "    def save_file(self, name):\n",
    "        self.mid.save(name + '.mid')"
   ]
  },
  {
   "cell_type": "code",
   "execution_count": null,
   "metadata": {},
   "outputs": [],
   "source": []
  },
  {
   "cell_type": "code",
   "execution_count": null,
   "metadata": {},
   "outputs": [],
   "source": []
  },
  {
   "cell_type": "code",
   "execution_count": 13,
   "metadata": {},
   "outputs": [],
   "source": [
    "def pers_transform(song, stack_zeros=True):    \n",
    "    wh = song[:]\n",
    "    \n",
    "    temp = wh.copy()\n",
    "    for t in HISTORY_TIMES:\n",
    "        h = np.roll(temp, t, axis=0)\n",
    "        h[:t] = 0\n",
    "        wh = np.concatenate([wh, h], axis=1)\n",
    "          \n",
    "    wh = np.concatenate([wh, times[:song.shape[0]]], axis=1)\n",
    "            \n",
    "    return wh"
   ]
  },
  {
   "cell_type": "code",
   "execution_count": 14,
   "metadata": {},
   "outputs": [],
   "source": [
    "def octave_sample(dec_p, all_sampled):\n",
    "    ans = (np.random.uniform(0, 1, 88) < 1 / (1 + np.exp(-dec_p))) * np.tile(all_sampled, 8)[:88]\n",
    "    #for i, val in enumerate(all_sampled):\n",
    "    #    if val == 1 and ans[i::12].sum() == 0:\n",
    "    #         ans[i + dec_p[i::12].argmax()*12] = 1\n",
    "    return ans"
   ]
  },
  {
   "cell_type": "code",
   "execution_count": 15,
   "metadata": {},
   "outputs": [],
   "source": [
    "OutpToKeys = np.array([np.array(i) for i in itertools.product([0, 1], repeat=12)])[:, ::-1]"
   ]
  },
  {
   "cell_type": "code",
   "execution_count": 16,
   "metadata": {},
   "outputs": [],
   "source": [
    "res = []"
   ]
  },
  {
   "cell_type": "code",
   "execution_count": 17,
   "metadata": {
    "scrolled": true
   },
   "outputs": [
    {
     "name": "stdout",
     "output_type": "stream",
     "text": [
      "||||||||||||||||||||||||||||||||||||||||||||||||||||||||||||||||||||||||||||||||||||||||||||||||||||||||||||||||||||||||||||||||||||||||||||||||||||||||||||||||||||||||||||||||||||||||||||||||||||||||||||||||||||||||||||||||||||||||||||||||yeah! 0\n"
     ]
    }
   ],
   "source": [
    "\n",
    "\n",
    "for s in range(1):\n",
    "    #saver.restore(sess, \"./tmp/100-100-100 HistoryUserScheme LSTM collapsed CM_dataset songs by fragments 8-history 4096 100-decoder lr=0.001.ckpt\")\n",
    "    \n",
    "    song = songs[np.random.randint(0, 100)][:16]\n",
    "    gen = transform(song)[:, :12]\n",
    "    \n",
    "    transd = pers_transform(gen)        \n",
    "    t, h = np.hstack([transd[:, :12], transd[:, -ADDITIONAL_INPUT_SIZE:]]), transd[:, 12:-ADDITIONAL_INPUT_SIZE].reshape(-1, len(HISTORY_TIMES), 12) \n",
    "    \n",
    "    while len(gen) < 256:\n",
    "        gen = np.vstack([gen, np.ones((12))])\n",
    "        song = np.vstack([song, np.zeros((88))])\n",
    "\n",
    "        transd = pers_transform(gen[-256:])\n",
    "        t, h = np.hstack([transd[:, :12], transd[:, -ADDITIONAL_INPUT_SIZE:]]), transd[:, 12:-ADDITIONAL_INPUT_SIZE].reshape(-1, len(HISTORY_TIMES), 12)\n",
    "        fd = {X: np.repeat(t[None], batch_size, axis=0), \n",
    "              History: np.repeat(h[None], batch_size, axis=0), \n",
    "              DecodedX: np.repeat(song[None], batch_size, axis=0)}\n",
    "        proba = sess.run([p, decoder_p], feed_dict=fd)\n",
    "        \n",
    "        Outp = np.zeros((num_output))\n",
    "        Outp[np.random.choice(np.arange(4096), p=proba[0][0, -1])] = 1\n",
    "        gen[-1] = OutpToKeys.T.dot(Outp)\n",
    "        \n",
    "        song[-1] = octave_sample(proba[1][0, -1], gen[-1])\n",
    "        \n",
    "        print('|', end=\"\")\n",
    "    print(\"yeah!\", s)\n",
    "    res.append(song)"
   ]
  },
  {
   "cell_type": "code",
   "execution_count": 18,
   "metadata": {},
   "outputs": [],
   "source": [
    "test = np.zeros((gen.shape[0] - 1, 88))\n",
    "test[:, 42:54] = gen[:-1]\n",
    "\n",
    "ms = MySong(test, finished=True)"
   ]
  },
  {
   "cell_type": "code",
   "execution_count": 19,
   "metadata": {},
   "outputs": [
    {
     "data": {
      "image/png": "[encoded data removed]",
      "text/plain": [
       "<matplotlib.figure.Figure at 0x1e88b446898>"
      ]
     },
     "metadata": {},
     "output_type": "display_data"
    }
   ],
   "source": [
    "drawNotes(gen)"
   ]
  },
  {
   "cell_type": "code",
   "execution_count": 20,
   "metadata": {},
   "outputs": [],
   "source": [
    "ms.play()"
   ]
  },
  {
   "cell_type": "code",
   "execution_count": 21,
   "metadata": {},
   "outputs": [],
   "source": [
    "ms = MySong(song, finished=True)"
   ]
  },
  {
   "cell_type": "code",
   "execution_count": 22,
   "metadata": {},
   "outputs": [
    {
     "data": {
      "image/png": "[encoded data removed]",
      "text/plain": [
       "<matplotlib.figure.Figure at 0x1e8cec4da58>"
      ]
     },
     "metadata": {},
     "output_type": "display_data"
    }
   ],
   "source": [
    "drawNotes(song)"
   ]
  },
  {
   "cell_type": "code",
   "execution_count": null,
   "metadata": {},
   "outputs": [],
   "source": [
    "ms.play()"
   ]
  },
  {
   "cell_type": "code",
   "execution_count": 112,
   "metadata": {},
   "outputs": [],
   "source": [
    "ms.save_file(\"greats 4096\")"
   ]
  },
  {
   "cell_type": "code",
   "execution_count": null,
   "metadata": {},
   "outputs": [],
   "source": []
  },
  {
   "cell_type": "code",
   "execution_count": null,
   "metadata": {},
   "outputs": [],
   "source": [
    "finale = np.zeros((0, 88))\n",
    "for r in res:\n",
    "    finale = np.vstack([finale, np.zeros((8, 88))])\n",
    "    finale = np.vstack([finale, r[16:]])"
   ]
  },
  {
   "cell_type": "code",
   "execution_count": null,
   "metadata": {},
   "outputs": [],
   "source": [
    "finale.shape"
   ]
  },
  {
   "cell_type": "code",
   "execution_count": null,
   "metadata": {},
   "outputs": [],
   "source": [
    "finale = finale[:28760]"
   ]
  },
  {
   "cell_type": "code",
   "execution_count": null,
   "metadata": {},
   "outputs": [],
   "source": [
    "ms = MySong(finale, finished=True)"
   ]
  },
  {
   "cell_type": "code",
   "execution_count": null,
   "metadata": {},
   "outputs": [],
   "source": [
    "ms.save_file(\"4. Conditional Voices and HistoryUser and Metalearning 0.00001\")"
   ]
  },
  {
   "cell_type": "code",
   "execution_count": null,
   "metadata": {},
   "outputs": [],
   "source": []
  }
 ],
 "metadata": {
  "kernelspec": {
   "display_name": "Python 3",
   "language": "python",
   "name": "python3"
  },
  "language_info": {
   "codemirror_mode": {
    "name": "ipython",
    "version": 3
   },
   "file_extension": ".py",
   "mimetype": "text/x-python",
   "name": "python",
   "nbconvert_exporter": "python",
   "pygments_lexer": "ipython3",
   "version": "3.6.3"
  }
 },
 "nbformat": 4,
 "nbformat_minor": 2
}
