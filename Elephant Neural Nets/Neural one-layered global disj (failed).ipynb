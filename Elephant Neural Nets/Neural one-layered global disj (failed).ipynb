{
 "cells": [
  {
   "cell_type": "code",
   "execution_count": 1,
   "metadata": {
    "collapsed": true
   },
   "outputs": [],
   "source": [
    "import mido\n",
    "from mido import MidiFile\n",
    "import numpy as np\n",
    "import copy\n",
    "\n",
    "HEARING_PORT = mido.open_output()\n",
    "np.set_printoptions(threshold=np.nan)"
   ]
  },
  {
   "cell_type": "code",
   "execution_count": 2,
   "metadata": {
    "collapsed": true
   },
   "outputs": [],
   "source": [
    "class Song:\n",
    "    def __init__(self, name):\n",
    "        self.name = name\n",
    "        self.correct = True\n",
    "        self.notes = np.zeros((128, 13), dtype=int)#-np.ones((128, 13))\n",
    "        \n",
    "        if isinstance(name, str):        \n",
    "            maxnote = 0\n",
    "            minnote = 127\n",
    "            for msg in MidiFile(name):\n",
    "                if (msg.type == \"note_on\" and msg.velocity > 0):\n",
    "                    if msg.note < minnote:\n",
    "                        minnote = msg.note\n",
    "                    if msg.note > maxnote:\n",
    "                        maxnote = msg.note\n",
    "            if maxnote - minnote >= 13:\n",
    "                print(\"ERROR! out of range!\")\n",
    "                self.correct = False\n",
    "                return\n",
    "\n",
    "            shift = 0\n",
    "            if minnote < 60:\n",
    "                shift = 60 - minnote\n",
    "            if maxnote >= 60 + 13:\n",
    "                shift = 60 + 13 - 1 - maxnote\n",
    "\n",
    "            absolute_time_passed = 0\n",
    "            for msg in MidiFile(name):\n",
    "                absolute_time_passed += msg.time\n",
    "\n",
    "                if (msg.type == \"note_on\" and msg.velocity > 0):\n",
    "                    self.notes[round(absolute_time_passed / 0.25)][msg.note - 60 + shift] = 1\n",
    "        else:\n",
    "            for i, note in enumerate(name):\n",
    "                if note >= 0 and note < 13:\n",
    "                    self.notes[i][note] = 1\n",
    "                \n",
    "    def play(self):\n",
    "        for msg in MidiFile(self.name).play():\n",
    "            HEARING_PORT.send(msg)\n",
    "            \n",
    "    def transpose(self, shift):\n",
    "        if (not self.correct or\n",
    "           (shift > 0 and self.notes[:, -shift:].sum() != 0) or\n",
    "           (shift < 0 and self.notes[:, :-shift].sum() != 0)):\n",
    "            return False\n",
    "        \n",
    "        self.notes = np.hstack([self.notes[:, -shift:], self.notes[:, :-shift]])\n",
    "        return True"
   ]
  },
  {
   "cell_type": "code",
   "execution_count": 3,
   "metadata": {
    "collapsed": true
   },
   "outputs": [],
   "source": [
    "class MySong:\n",
    "    def __init__(self, played_lines=[]):\n",
    "        self.notes = np.zeros((0, 13))\n",
    "        \n",
    "        self.mid = MidiFile()\n",
    "        self.track = mido.MidiTrack()\n",
    "        self.mid.tracks.append(self.track)\n",
    "        \n",
    "        self.time_passed = 0\n",
    "        self.release = []\n",
    "        \n",
    "        for line in played_lines:\n",
    "            self.add(line)\n",
    "        \n",
    "    def add(self, played):\n",
    "        self.notes = np.vstack([self.notes, played])\n",
    "\n",
    "        for i in self.release:        \n",
    "            self.track.append(mido.Message('note_off', note=60+i, velocity=64, time=self.time_passed))\n",
    "            self.time_passed = 0\n",
    "        self.release = []\n",
    "\n",
    "        for i, key in enumerate(played):\n",
    "            if key == 1:\n",
    "                self.track.append(mido.Message('note_on', note=60+i, velocity=64, time=self.time_passed))\n",
    "                self.time_passed = 0\n",
    "                self.release.append(i)\n",
    "        self.time_passed += 256\n",
    "    \n",
    "    def finish(self):\n",
    "        for i in self.release:        \n",
    "            self.track.append(mido.Message('note_off', note=60+i, velocity=64, time=self.time_passed))\n",
    "            self.time_passed = 0\n",
    "        self.track.append(mido.Message('note_off', note=60, velocity=0, time=self.time_passed))\n",
    "        \n",
    "    def play(self):\n",
    "        for msg in self.mid.play():\n",
    "            HEARING_PORT.send(msg)\n",
    "            \n",
    "    def save_file(self, name):\n",
    "        self.mid.save(name + '.mid')"
   ]
  },
  {
   "cell_type": "markdown",
   "metadata": {},
   "source": [
    "# ОКИ"
   ]
  },
  {
   "cell_type": "code",
   "execution_count": 4,
   "metadata": {},
   "outputs": [],
   "source": [
    "import numpy as np\n",
    "from numpy import random\n",
    "\n",
    "import matplotlib.pyplot as plt\n",
    "%matplotlib inline"
   ]
  },
  {
   "cell_type": "code",
   "execution_count": 5,
   "metadata": {
    "collapsed": true
   },
   "outputs": [],
   "source": [
    "MEMORY_TIMES = 64\n",
    "STARTER = 8\n",
    "\n",
    "ADDITIONAL_MEMORY = 8\n",
    "\n",
    "MEMORY_SIZE = MEMORY_TIMES * 13 + ADDITIONAL_MEMORY"
   ]
  },
  {
   "cell_type": "code",
   "execution_count": 6,
   "metadata": {
    "collapsed": true
   },
   "outputs": [],
   "source": [
    "NOTE_NAMES = [\"C\", \"C#\", \"D\", \"D#\", \"E\", \"F\", \"F#\", \"G\", \"G#\", \"A\", \"A#\", \"B\", \"C^\"]\n",
    "NAMES = []\n",
    "for i in range(8):\n",
    "    NAMES.append(\"[tb\" + str(i) + \"]\")\n",
    "for t in range(-MEMORY_TIMES, 0):\n",
    "    for note_name in NOTE_NAMES:\n",
    "        NAMES.append(note_name + str(t))"
   ]
  },
  {
   "cell_type": "code",
   "execution_count": 7,
   "metadata": {},
   "outputs": [],
   "source": [
    "class Func:\n",
    "    def __init__(self, Random):\n",
    "        self.operands = np.zeros((0, MEMORY_SIZE))\n",
    "        self.thresholds = np.array([])\n",
    "        self.max_thresholds = np.array([])\n",
    "        self.zeros = np.zeros((1, MEMORY_SIZE))\n",
    "        \n",
    "        self.Random = Random\n",
    "        \n",
    "    def apply(self, x):       \n",
    "        return (self.operands.dot(x) >= self.thresholds).any()\n",
    "    \n",
    "    def add_positive(self, memory):        \n",
    "        current_result = self.operands.dot(memory)\n",
    "        M = memory.sum()\n",
    "        for i, val in enumerate(current_result):\n",
    "            if val >= self.thresholds[i] and val < M:\n",
    "                new_obj = np.logical_or(self.operands[i], memory)\n",
    "                new_thr = self.zeros.dot(new_obj).max() + 1\n",
    "                new_max_thr = min(self.max_thresholds[i], memory.sum())\n",
    "                \n",
    "                if new_thr <= new_max_thr:\n",
    "                    self.operands = np.vstack([self.operands, new_obj])\n",
    "                    self.thresholds = np.append(self.thresholds, new_thr)\n",
    "                    self.max_thresholds = np.append(self.max_thresholds, new_max_thr)\n",
    "        \n",
    "        self.operands = np.vstack([self.operands, memory])\n",
    "        self.thresholds = np.append(self.thresholds, self.zeros.dot(memory).max() + 1)\n",
    "        self.max_thresholds = np.append(self.max_thresholds, memory.sum())\n",
    "        \n",
    "    def add_negative(self, memory):\n",
    "        self.zeros = np.vstack([self.zeros, memory])\n",
    "        \n",
    "        self.thresholds = np.maximum(self.thresholds, self.operands.dot(memory) + 1)\n",
    "        \n",
    "        remove = (self.thresholds > self.max_thresholds).nonzero()[0]\n",
    "        self.operands = np.delete(self.operands, remove, 0)\n",
    "        self.thresholds = np.delete(self.thresholds, remove)\n",
    "        self.max_thresholds = np.delete(self.max_thresholds, remove)\n",
    "    \n",
    "    def print(self):\n",
    "        print(\"0\", end=\"\")\n",
    "        for oper, t, mt in zip(self.operands, self.thresholds, self.max_thresholds):\n",
    "            print(\" ∨ \", end=\"\")\n",
    "            for i in range(MEMORY_SIZE):\n",
    "                if oper[i]:\n",
    "                    print(NAMES[i], end=\"\")\n",
    "            print(\"(\", t, \" / \", mt, \")\")\n",
    "        print(\"\")"
   ]
  },
  {
   "cell_type": "code",
   "execution_count": 8,
   "metadata": {
    "collapsed": true
   },
   "outputs": [],
   "source": [
    "class Player:\n",
    "    def __init__(self):\n",
    "        self.Random = np.random.RandomState(seed=179)\n",
    "        self.play_note = [Func(self.Random) for i in range(13)]\n",
    "        \n",
    "    def play(self, memory):\n",
    "        return np.array([self.play_note[i].apply(memory) for i in range(13)], dtype=int)\n",
    "    \n",
    "    def learn_to_play(self, song_to_learn, verbose=False):\n",
    "        memory = np.zeros((MEMORY_SIZE), dtype=int)\n",
    "        memory[-STARTER*13:] = song_to_learn.notes[:STARTER].flatten()\n",
    "\n",
    "        t = STARTER\n",
    "        memory[t % 8] = 1\n",
    "        errors = 0\n",
    "        \n",
    "        verbose_data = [[] for i in range(13)]\n",
    "        \n",
    "        while t < len(song_to_learn.notes):    \n",
    "            output = self.play(memory)\n",
    "                       \n",
    "            for note in range(13):    \n",
    "                if output[note] != song_to_learn.notes[t][note]:\n",
    "                    errors += 1\n",
    "                    \n",
    "                if song_to_learn.notes[t][note] == 1:\n",
    "                    self.play_note[note].add_positive(memory)\n",
    "                else:\n",
    "                    self.play_note[note].add_negative(memory)\n",
    "                    \n",
    "            if verbose:\n",
    "                for note in range(13):\n",
    "                    verbose_data[note].append(len(self.play_note[note].operands))\n",
    "\n",
    "            memory = np.concatenate([np.zeros((ADDITIONAL_MEMORY)), memory[ADDITIONAL_MEMORY + 13:], song_to_learn.notes[t]])\n",
    "            t += 1\n",
    "            memory[t % 8] = 1\n",
    "        \n",
    "        if verbose:            \n",
    "            print(\"Num of Errors: \", errors)\n",
    "            \n",
    "            for note in range(13):\n",
    "                plt.plot(verbose_data[note], label=NOTE_NAMES[note])\n",
    "            plt.legend()\n",
    "            plt.show()\n",
    "        return errors\n",
    "    \n",
    "    def improvise(self, starter, length=128):\n",
    "        memory = np.zeros((MEMORY_SIZE), dtype=int)\n",
    "        memory[-STARTER*13:] = starter.notes[:STARTER].flatten()\n",
    "\n",
    "        result = MySong(starter.notes[:STARTER])\n",
    "        \n",
    "        t = STARTER\n",
    "        memory[t % 8] = 1\n",
    "        while t < length:    \n",
    "            output = player.play(memory)\n",
    "            result.add(output)\n",
    "\n",
    "            memory = np.concatenate([np.zeros((ADDITIONAL_MEMORY)), memory[ADDITIONAL_MEMORY + 13:], output])\n",
    "            t += 1\n",
    "            memory[t % 8] = 1\n",
    "        result.finish()\n",
    "        \n",
    "        return result"
   ]
  },
  {
   "cell_type": "markdown",
   "metadata": {},
   "source": [
    "## Обучение\n",
    "\n",
    "Создаём нового игрока и грузим пока кузнечика"
   ]
  },
  {
   "cell_type": "code",
   "execution_count": 10,
   "metadata": {},
   "outputs": [],
   "source": [
    "player = Player()"
   ]
  },
  {
   "cell_type": "code",
   "execution_count": 11,
   "metadata": {
    "collapsed": true,
    "scrolled": true
   },
   "outputs": [],
   "source": [
    "kuznechik = Song('test/track (1).mid')"
   ]
  },
  {
   "cell_type": "code",
   "execution_count": 12,
   "metadata": {},
   "outputs": [
    {
     "name": "stdout",
     "output_type": "stream",
     "text": [
      "Num of Errors:  58\n"
     ]
    },
    {
     "data": {
      "image/png": "[encoded data removed]",
      "text/plain": [
       "<matplotlib.figure.Figure at 0x1dd3dd27908>"
      ]
     },
     "metadata": {},
     "output_type": "display_data"
    },
    {
     "data": {
      "text/plain": [
       "58"
      ]
     },
     "execution_count": 12,
     "metadata": {},
     "output_type": "execute_result"
    }
   ],
   "source": [
    "player.learn_to_play(kuznechik, True)"
   ]
  },
  {
   "cell_type": "markdown",
   "metadata": {},
   "source": [
    "Проверим, что всё окей. Подадим на вход начало кузнечика, а дальше пусть играет сам (память занимается тем, что игрок сам нажимает на рояле). Поскольку так заданы правила, кузнечик будет воспроизведён точно"
   ]
  },
  {
   "cell_type": "code",
   "execution_count": 13,
   "metadata": {},
   "outputs": [
    {
     "ename": "KeyboardInterrupt",
     "evalue": "",
     "output_type": "error",
     "traceback": [
      "\u001b[1;31m---------------------------------------------------------------------------\u001b[0m",
      "\u001b[1;31mKeyboardInterrupt\u001b[0m                         Traceback (most recent call last)",
      "\u001b[1;32m<ipython-input-13-ba60323928b2>\u001b[0m in \u001b[0;36m<module>\u001b[1;34m()\u001b[0m\n\u001b[1;32m----> 1\u001b[1;33m \u001b[0mplayer\u001b[0m\u001b[1;33m.\u001b[0m\u001b[0mimprovise\u001b[0m\u001b[1;33m(\u001b[0m\u001b[0mkuznechik\u001b[0m\u001b[1;33m)\u001b[0m\u001b[1;33m.\u001b[0m\u001b[0mplay\u001b[0m\u001b[1;33m(\u001b[0m\u001b[1;33m)\u001b[0m\u001b[1;33m\u001b[0m\u001b[0m\n\u001b[0m",
      "\u001b[1;32m<ipython-input-4-6acf08c6afec>\u001b[0m in \u001b[0;36mplay\u001b[1;34m(self)\u001b[0m\n\u001b[0;32m     35\u001b[0m \u001b[1;33m\u001b[0m\u001b[0m\n\u001b[0;32m     36\u001b[0m     \u001b[1;32mdef\u001b[0m \u001b[0mplay\u001b[0m\u001b[1;33m(\u001b[0m\u001b[0mself\u001b[0m\u001b[1;33m)\u001b[0m\u001b[1;33m:\u001b[0m\u001b[1;33m\u001b[0m\u001b[0m\n\u001b[1;32m---> 37\u001b[1;33m         \u001b[1;32mfor\u001b[0m \u001b[0mmsg\u001b[0m \u001b[1;32min\u001b[0m \u001b[0mself\u001b[0m\u001b[1;33m.\u001b[0m\u001b[0mmid\u001b[0m\u001b[1;33m.\u001b[0m\u001b[0mplay\u001b[0m\u001b[1;33m(\u001b[0m\u001b[1;33m)\u001b[0m\u001b[1;33m:\u001b[0m\u001b[1;33m\u001b[0m\u001b[0m\n\u001b[0m\u001b[0;32m     38\u001b[0m             \u001b[0mHEARING_PORT\u001b[0m\u001b[1;33m.\u001b[0m\u001b[0msend\u001b[0m\u001b[1;33m(\u001b[0m\u001b[0mmsg\u001b[0m\u001b[1;33m)\u001b[0m\u001b[1;33m\u001b[0m\u001b[0m\n\u001b[0;32m     39\u001b[0m \u001b[1;33m\u001b[0m\u001b[0m\n",
      "\u001b[1;32mC:\\ProgramData\\Anaconda3\\lib\\site-packages\\mido\\midifiles\\midifiles.py\u001b[0m in \u001b[0;36mplay\u001b[1;34m(self, meta_messages)\u001b[0m\n\u001b[0;32m    389\u001b[0m \u001b[1;33m\u001b[0m\u001b[0m\n\u001b[0;32m    390\u001b[0m         \u001b[1;32mfor\u001b[0m \u001b[0mmsg\u001b[0m \u001b[1;32min\u001b[0m \u001b[0mself\u001b[0m\u001b[1;33m:\u001b[0m\u001b[1;33m\u001b[0m\u001b[0m\n\u001b[1;32m--> 391\u001b[1;33m             \u001b[0msleep\u001b[0m\u001b[1;33m(\u001b[0m\u001b[0mmsg\u001b[0m\u001b[1;33m.\u001b[0m\u001b[0mtime\u001b[0m\u001b[1;33m)\u001b[0m\u001b[1;33m\u001b[0m\u001b[0m\n\u001b[0m\u001b[0;32m    392\u001b[0m \u001b[1;33m\u001b[0m\u001b[0m\n\u001b[0;32m    393\u001b[0m             \u001b[1;32mif\u001b[0m \u001b[0misinstance\u001b[0m\u001b[1;33m(\u001b[0m\u001b[0mmsg\u001b[0m\u001b[1;33m,\u001b[0m \u001b[0mMetaMessage\u001b[0m\u001b[1;33m)\u001b[0m \u001b[1;32mand\u001b[0m \u001b[1;32mnot\u001b[0m \u001b[0mmeta_messages\u001b[0m\u001b[1;33m:\u001b[0m\u001b[1;33m\u001b[0m\u001b[0m\n",
      "\u001b[1;31mKeyboardInterrupt\u001b[0m: "
     ]
    }
   ],
   "source": [
    "player.improvise(kuznechik).play()"
   ]
  },
  {
   "cell_type": "markdown",
   "metadata": {},
   "source": [
    "Вот как выглядит его булево правило:"
   ]
  },
  {
   "cell_type": "code",
   "execution_count": 14,
   "metadata": {},
   "outputs": [
    {
     "name": "stdout",
     "output_type": "stream",
     "text": [
      "0 ∨ [tb2]A-18E-16A-14E-12A-10G#-8G#-6G#-2( 6.0  /  9.0 )\n",
      " ∨ [tb2][tb6]A-22E-20A-18E-16A-14E-12G#-12G#-10A-10G#-8G#-6E-4G#-2( 9.0  /  9.0 )\n",
      " ∨ [tb6]A-22E-20A-18E-16A-14G#-12G#-10G#-6E-4G#-2( 8.0  /  11.0 )\n",
      " ∨ [tb2]A-34E-32A-30E-28A-26G#-24G#-22G#-18E-16G#-14E-12G#-10A-8A-6A-2( 16.0  /  16.0 )\n",
      " ∨ [tb6]A-38E-36A-34E-32A-30G#-28G#-26G#-22E-20G#-18E-16G#-14A-12A-10A-6E-4A-2( 16.0  /  18.0 )\n",
      " ∨ [tb2]A-50E-48A-46E-44A-42G#-40G#-38G#-34E-32G#-30E-28G#-26A-24A-22A-18E-16A-14E-12A-10G#-8G#-6G#-2( 16.0  /  23.0 )\n",
      " ∨ [tb2][tb6]A-54E-52A-50E-48A-46E-44G#-44G#-42A-42G#-40G#-38E-36G#-34E-32G#-30E-28A-28G#-26A-26A-24A-22E-20A-18E-16A-14E-12G#-12G#-10A-10G#-8G#-6E-4G#-2( 17.0  /  23.0 )\n",
      " ∨ [tb6]A-54E-52A-50E-48A-46G#-44G#-42G#-38E-36G#-34E-32G#-30A-28A-26A-22E-20A-18E-16A-14G#-12G#-10G#-6E-4G#-2( 16.0  /  25.0 )\n",
      "\n"
     ]
    }
   ],
   "source": [
    "player.play_note[4].print()"
   ]
  },
  {
   "cell_type": "markdown",
   "metadata": {},
   "source": [
    "Окей, чтобы услышать что-то новое, нужно другое начало. Возьмём его из другой песенки"
   ]
  },
  {
   "cell_type": "code",
   "execution_count": 15,
   "metadata": {
    "collapsed": true
   },
   "outputs": [],
   "source": [
    "simple_song = Song('test/track (2).mid')\n",
    "result = player.improvise(simple_song)"
   ]
  },
  {
   "cell_type": "markdown",
   "metadata": {},
   "source": [
    "Первый шедевр:"
   ]
  },
  {
   "cell_type": "code",
   "execution_count": null,
   "metadata": {
    "collapsed": true
   },
   "outputs": [],
   "source": [
    "result.play()"
   ]
  },
  {
   "cell_type": "markdown",
   "metadata": {},
   "source": [
    "Игрок пока использует только несколько нот. Просто в кузнечике есть не все 13 нот, так что мы можем его посмещать, чтобы получить новую информацию. Попробуем сместить кузнечика на одну ноту"
   ]
  },
  {
   "cell_type": "code",
   "execution_count": 9,
   "metadata": {
    "collapsed": true
   },
   "outputs": [],
   "source": [
    "player = Player()"
   ]
  },
  {
   "cell_type": "code",
   "execution_count": 10,
   "metadata": {
    "collapsed": true
   },
   "outputs": [],
   "source": [
    "def addAllTransposedVersions(Songs, song):\n",
    "    while song.transpose(1):\n",
    "        pass\n",
    "\n",
    "    Songs.append(copy.deepcopy(song))\n",
    "    while song.transpose(-1):\n",
    "        Songs.append(copy.deepcopy(song))"
   ]
  },
  {
   "cell_type": "code",
   "execution_count": 11,
   "metadata": {},
   "outputs": [
    {
     "name": "stdout",
     "output_type": "stream",
     "text": [
      "ERROR! out of range!\n",
      "ERROR! out of range!\n",
      "ERROR! out of range!\n"
     ]
    }
   ],
   "source": [
    "Songs = []\n",
    "for i in range(1, 35):\n",
    "    addAllTransposedVersions(Songs, Song('test/track (' + str(i) + ').mid'))"
   ]
  },
  {
   "cell_type": "code",
   "execution_count": 12,
   "metadata": {
    "collapsed": true
   },
   "outputs": [],
   "source": [
    "import random\n",
    "random.shuffle(Songs)"
   ]
  },
  {
   "cell_type": "code",
   "execution_count": 13,
   "metadata": {
    "scrolled": true
   },
   "outputs": [
    {
     "name": "stdout",
     "output_type": "stream",
     "text": [
      "60\n",
      "81\n",
      "46\n",
      "42\n",
      "35\n",
      "25\n",
      "58\n",
      "33\n",
      "34\n",
      "23\n",
      "50\n",
      "56\n",
      "35\n",
      "42\n",
      "49\n",
      "41\n",
      "52\n",
      "48\n",
      "44\n",
      "32\n",
      "81\n",
      "42\n",
      "37\n",
      "59\n",
      "46\n",
      "44\n",
      "45\n",
      "45\n",
      "61\n",
      "54\n",
      "51\n",
      "0\n",
      "53\n",
      "72\n",
      "85\n",
      "83\n",
      "54\n",
      "35\n",
      "43\n",
      "56\n",
      "27\n",
      "42\n",
      "45\n",
      "22\n",
      "42\n",
      "57\n",
      "52\n",
      "51\n",
      "44\n",
      "61\n",
      "48\n",
      "21\n",
      "56\n",
      "31\n",
      "51\n",
      "0\n",
      "61\n",
      "41\n",
      "86\n",
      "48\n",
      "42\n",
      "55\n",
      "59\n",
      "44\n",
      "38\n",
      "52\n",
      "51\n",
      "55\n",
      "0\n"
     ]
    }
   ],
   "source": [
    "for song in Songs:\n",
    "    errors = player.learn_to_play(song)\n",
    "    print(errors)"
   ]
  },
  {
   "cell_type": "code",
   "execution_count": 14,
   "metadata": {
    "collapsed": true
   },
   "outputs": [],
   "source": [
    "simple_song = Song('test/whomadethis.mid')\n",
    "result = player.improvise(simple_song)\n",
    "result.play()"
   ]
  },
  {
   "cell_type": "code",
   "execution_count": 45,
   "metadata": {
    "collapsed": true
   },
   "outputs": [],
   "source": [
    "result.save_file(\"10. \")"
   ]
  },
  {
   "cell_type": "code",
   "execution_count": 15,
   "metadata": {
    "collapsed": true
   },
   "outputs": [],
   "source": [
    "simple_song = Song([0, -1, 5, -1, 4, -1, 5, -1])\n",
    "result = player.improvise(simple_song)\n",
    "result.play()"
   ]
  },
  {
   "cell_type": "code",
   "execution_count": 16,
   "metadata": {},
   "outputs": [],
   "source": [
    "simple_song = Song([0, -1, 5, -1, 4, -1, 7, -1])\n",
    "result = player.improvise(simple_song)\n",
    "result.play()"
   ]
  },
  {
   "cell_type": "code",
   "execution_count": null,
   "metadata": {
    "collapsed": true
   },
   "outputs": [],
   "source": []
  },
  {
   "cell_type": "code",
   "execution_count": null,
   "metadata": {
    "collapsed": true
   },
   "outputs": [],
   "source": []
  }
 ],
 "metadata": {
  "kernelspec": {
   "display_name": "Python 3",
   "language": "python",
   "name": "python3"
  },
  "language_info": {
   "codemirror_mode": {
    "name": "ipython",
    "version": 3
   },
   "file_extension": ".py",
   "mimetype": "text/x-python",
   "name": "python",
   "nbconvert_exporter": "python",
   "pygments_lexer": "ipython3",
   "version": "3.6.1"
  }
 },
 "nbformat": 4,
 "nbformat_minor": 2
}
